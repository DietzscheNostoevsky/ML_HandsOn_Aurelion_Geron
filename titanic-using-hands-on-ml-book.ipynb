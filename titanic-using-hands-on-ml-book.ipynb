{
 "cells": [
  {
   "cell_type": "code",
   "execution_count": 1,
   "id": "92add2b7",
   "metadata": {
    "_cell_guid": "b1076dfc-b9ad-4769-8c92-a6c4dae69d19",
    "_uuid": "8f2839f25d086af736a60e9eeb907d3b93b6e0e5",
    "execution": {
     "iopub.execute_input": "2023-04-24T21:03:26.837726Z",
     "iopub.status.busy": "2023-04-24T21:03:26.836456Z",
     "iopub.status.idle": "2023-04-24T21:03:26.852987Z",
     "shell.execute_reply": "2023-04-24T21:03:26.851697Z"
    },
    "papermill": {
     "duration": 0.034113,
     "end_time": "2023-04-24T21:03:26.856324",
     "exception": false,
     "start_time": "2023-04-24T21:03:26.822211",
     "status": "completed"
    },
    "tags": []
   },
   "outputs": [
    {
     "name": "stdout",
     "output_type": "stream",
     "text": [
      "/kaggle/input/titanic/train.csv\n",
      "/kaggle/input/titanic/test.csv\n",
      "/kaggle/input/titanic/gender_submission.csv\n"
     ]
    }
   ],
   "source": [
    "# This Python 3 environment comes with many helpful analytics libraries installed\n",
    "# It is defined by the kaggle/python Docker image: https://github.com/kaggle/docker-python\n",
    "# For example, here's several helpful packages to load\n",
    "\n",
    "import numpy as np # linear algebra\n",
    "import pandas as pd # data processing, CSV file I/O (e.g. pd.read_csv)\n",
    "\n",
    "# Input data files are available in the read-only \"../input/\" directory\n",
    "# For example, running this (by clicking run or pressing Shift+Enter) will list all files under the input directory\n",
    "\n",
    "import os\n",
    "for dirname, _, filenames in os.walk('/kaggle/input'):\n",
    "    for filename in filenames:\n",
    "        print(os.path.join(dirname, filename))\n",
    "\n",
    "# You can write up to 20GB to the current directory (/kaggle/working/) that gets preserved as output when you create a version using \"Save & Run All\" \n",
    "# You can also write temporary files to /kaggle/temp/, but they won't be saved outside of the current session"
   ]
  },
  {
   "cell_type": "markdown",
   "id": "8fdc8bdc",
   "metadata": {
    "papermill": {
     "duration": 0.009959,
     "end_time": "2023-04-24T21:03:26.876970",
     "exception": false,
     "start_time": "2023-04-24T21:03:26.867011",
     "status": "completed"
    },
    "tags": []
   },
   "source": [
    "# Tackle the Titanic dataset"
   ]
  },
  {
   "cell_type": "markdown",
   "id": "b798979f",
   "metadata": {
    "papermill": {
     "duration": 0.009864,
     "end_time": "2023-04-24T21:03:26.897037",
     "exception": false,
     "start_time": "2023-04-24T21:03:26.887173",
     "status": "completed"
    },
    "tags": []
   },
   "source": [
    "Using Hands-On_machine_learning book by Aurélien Géron. Chapter 3, Classification, exercise question 3\n",
    "\n",
    "The goal is to train a classifier that can predict the Survived column based on the other columns._"
   ]
  },
  {
   "cell_type": "markdown",
   "id": "b2f4cd7e",
   "metadata": {
    "papermill": {
     "duration": 0.012134,
     "end_time": "2023-04-24T21:03:26.919566",
     "exception": false,
     "start_time": "2023-04-24T21:03:26.907432",
     "status": "completed"
    },
    "tags": []
   },
   "source": [
    "## Getting the data"
   ]
  },
  {
   "cell_type": "code",
   "execution_count": 2,
   "id": "6eb6f5c8",
   "metadata": {
    "execution": {
     "iopub.execute_input": "2023-04-24T21:03:26.943620Z",
     "iopub.status.busy": "2023-04-24T21:03:26.942083Z",
     "iopub.status.idle": "2023-04-24T21:03:26.974236Z",
     "shell.execute_reply": "2023-04-24T21:03:26.972547Z"
    },
    "papermill": {
     "duration": 0.047108,
     "end_time": "2023-04-24T21:03:26.977115",
     "exception": false,
     "start_time": "2023-04-24T21:03:26.930007",
     "status": "completed"
    },
    "tags": []
   },
   "outputs": [
    {
     "name": "stdout",
     "output_type": "stream",
     "text": [
      "Data imported\n"
     ]
    }
   ],
   "source": [
    "import pandas as pd\n",
    "train_data = pd.read_csv(r\"/kaggle/input/titanic/train.csv\")\n",
    "test_data = pd.read_csv(r\"/kaggle/input/titanic/test.csv\")\n",
    "print(\"Data imported\")"
   ]
  },
  {
   "cell_type": "markdown",
   "id": "edc77121",
   "metadata": {
    "papermill": {
     "duration": 0.010048,
     "end_time": "2023-04-24T21:03:26.997919",
     "exception": false,
     "start_time": "2023-04-24T21:03:26.987871",
     "status": "completed"
    },
    "tags": []
   },
   "source": [
    "# EDA"
   ]
  },
  {
   "cell_type": "code",
   "execution_count": 3,
   "id": "55fc88ac",
   "metadata": {
    "execution": {
     "iopub.execute_input": "2023-04-24T21:03:27.022091Z",
     "iopub.status.busy": "2023-04-24T21:03:27.020518Z",
     "iopub.status.idle": "2023-04-24T21:03:27.056881Z",
     "shell.execute_reply": "2023-04-24T21:03:27.055847Z"
    },
    "papermill": {
     "duration": 0.051655,
     "end_time": "2023-04-24T21:03:27.059975",
     "exception": false,
     "start_time": "2023-04-24T21:03:27.008320",
     "status": "completed"
    },
    "tags": []
   },
   "outputs": [
    {
     "data": {
      "text/html": [
       "<div>\n",
       "<style scoped>\n",
       "    .dataframe tbody tr th:only-of-type {\n",
       "        vertical-align: middle;\n",
       "    }\n",
       "\n",
       "    .dataframe tbody tr th {\n",
       "        vertical-align: top;\n",
       "    }\n",
       "\n",
       "    .dataframe thead th {\n",
       "        text-align: right;\n",
       "    }\n",
       "</style>\n",
       "<table border=\"1\" class=\"dataframe\">\n",
       "  <thead>\n",
       "    <tr style=\"text-align: right;\">\n",
       "      <th></th>\n",
       "      <th>PassengerId</th>\n",
       "      <th>Survived</th>\n",
       "      <th>Pclass</th>\n",
       "      <th>Name</th>\n",
       "      <th>Sex</th>\n",
       "      <th>Age</th>\n",
       "      <th>SibSp</th>\n",
       "      <th>Parch</th>\n",
       "      <th>Ticket</th>\n",
       "      <th>Fare</th>\n",
       "      <th>Cabin</th>\n",
       "      <th>Embarked</th>\n",
       "    </tr>\n",
       "  </thead>\n",
       "  <tbody>\n",
       "    <tr>\n",
       "      <th>0</th>\n",
       "      <td>1</td>\n",
       "      <td>0</td>\n",
       "      <td>3</td>\n",
       "      <td>Braund, Mr. Owen Harris</td>\n",
       "      <td>male</td>\n",
       "      <td>22.0</td>\n",
       "      <td>1</td>\n",
       "      <td>0</td>\n",
       "      <td>A/5 21171</td>\n",
       "      <td>7.2500</td>\n",
       "      <td>NaN</td>\n",
       "      <td>S</td>\n",
       "    </tr>\n",
       "    <tr>\n",
       "      <th>1</th>\n",
       "      <td>2</td>\n",
       "      <td>1</td>\n",
       "      <td>1</td>\n",
       "      <td>Cumings, Mrs. John Bradley (Florence Briggs Th...</td>\n",
       "      <td>female</td>\n",
       "      <td>38.0</td>\n",
       "      <td>1</td>\n",
       "      <td>0</td>\n",
       "      <td>PC 17599</td>\n",
       "      <td>71.2833</td>\n",
       "      <td>C85</td>\n",
       "      <td>C</td>\n",
       "    </tr>\n",
       "    <tr>\n",
       "      <th>2</th>\n",
       "      <td>3</td>\n",
       "      <td>1</td>\n",
       "      <td>3</td>\n",
       "      <td>Heikkinen, Miss. Laina</td>\n",
       "      <td>female</td>\n",
       "      <td>26.0</td>\n",
       "      <td>0</td>\n",
       "      <td>0</td>\n",
       "      <td>STON/O2. 3101282</td>\n",
       "      <td>7.9250</td>\n",
       "      <td>NaN</td>\n",
       "      <td>S</td>\n",
       "    </tr>\n",
       "    <tr>\n",
       "      <th>3</th>\n",
       "      <td>4</td>\n",
       "      <td>1</td>\n",
       "      <td>1</td>\n",
       "      <td>Futrelle, Mrs. Jacques Heath (Lily May Peel)</td>\n",
       "      <td>female</td>\n",
       "      <td>35.0</td>\n",
       "      <td>1</td>\n",
       "      <td>0</td>\n",
       "      <td>113803</td>\n",
       "      <td>53.1000</td>\n",
       "      <td>C123</td>\n",
       "      <td>S</td>\n",
       "    </tr>\n",
       "    <tr>\n",
       "      <th>4</th>\n",
       "      <td>5</td>\n",
       "      <td>0</td>\n",
       "      <td>3</td>\n",
       "      <td>Allen, Mr. William Henry</td>\n",
       "      <td>male</td>\n",
       "      <td>35.0</td>\n",
       "      <td>0</td>\n",
       "      <td>0</td>\n",
       "      <td>373450</td>\n",
       "      <td>8.0500</td>\n",
       "      <td>NaN</td>\n",
       "      <td>S</td>\n",
       "    </tr>\n",
       "  </tbody>\n",
       "</table>\n",
       "</div>"
      ],
      "text/plain": [
       "   PassengerId  Survived  Pclass  \\\n",
       "0            1         0       3   \n",
       "1            2         1       1   \n",
       "2            3         1       3   \n",
       "3            4         1       1   \n",
       "4            5         0       3   \n",
       "\n",
       "                                                Name     Sex   Age  SibSp  \\\n",
       "0                            Braund, Mr. Owen Harris    male  22.0      1   \n",
       "1  Cumings, Mrs. John Bradley (Florence Briggs Th...  female  38.0      1   \n",
       "2                             Heikkinen, Miss. Laina  female  26.0      0   \n",
       "3       Futrelle, Mrs. Jacques Heath (Lily May Peel)  female  35.0      1   \n",
       "4                           Allen, Mr. William Henry    male  35.0      0   \n",
       "\n",
       "   Parch            Ticket     Fare Cabin Embarked  \n",
       "0      0         A/5 21171   7.2500   NaN        S  \n",
       "1      0          PC 17599  71.2833   C85        C  \n",
       "2      0  STON/O2. 3101282   7.9250   NaN        S  \n",
       "3      0            113803  53.1000  C123        S  \n",
       "4      0            373450   8.0500   NaN        S  "
      ]
     },
     "execution_count": 3,
     "metadata": {},
     "output_type": "execute_result"
    }
   ],
   "source": [
    "train_data.head()"
   ]
  },
  {
   "cell_type": "markdown",
   "id": "11a5e904",
   "metadata": {
    "papermill": {
     "duration": 0.010367,
     "end_time": "2023-04-24T21:03:27.081243",
     "exception": false,
     "start_time": "2023-04-24T21:03:27.070876",
     "status": "completed"
    },
    "tags": []
   },
   "source": [
    "The attributes have the following meaning:\n",
    "* **PassengerId**: a unique identifier for each passenger\n",
    "* **Survived**: that's the target, 0 means the passenger did not survive, while 1 means they survived.\n",
    "* **Pclass**: passenger class.\n",
    "* **Name**, **Sex**, **Age**: self-explanatory\n",
    "* **SibSp**: how many siblings & spouses of the passenger aboard the Titanic.\n",
    "* **Parch**: how many children & parents of the passenger aboard the Titanic.\n",
    "* **Ticket**: ticket id\n",
    "* **Fare**: price paid (in pounds)\n",
    "* **Cabin**: passenger's cabin number\n",
    "* **Embarked**: where the passenger embarked the Titanic"
   ]
  },
  {
   "cell_type": "markdown",
   "id": "d6f75cf8",
   "metadata": {
    "papermill": {
     "duration": 0.010261,
     "end_time": "2023-04-24T21:03:27.102221",
     "exception": false,
     "start_time": "2023-04-24T21:03:27.091960",
     "status": "completed"
    },
    "tags": []
   },
   "source": [
    "The goal is to predict whether or not a passenger survived based on attributes such as their age, sex, passenger class, where they embarked and so on."
   ]
  },
  {
   "cell_type": "markdown",
   "id": "af322692",
   "metadata": {
    "papermill": {
     "duration": 0.010456,
     "end_time": "2023-04-24T21:03:27.123465",
     "exception": false,
     "start_time": "2023-04-24T21:03:27.113009",
     "status": "completed"
    },
    "tags": []
   },
   "source": [
    "Setting passanderID column as index column "
   ]
  },
  {
   "cell_type": "code",
   "execution_count": 4,
   "id": "eb6d5099",
   "metadata": {
    "execution": {
     "iopub.execute_input": "2023-04-24T21:03:27.147545Z",
     "iopub.status.busy": "2023-04-24T21:03:27.146733Z",
     "iopub.status.idle": "2023-04-24T21:03:27.161126Z",
     "shell.execute_reply": "2023-04-24T21:03:27.159503Z"
    },
    "papermill": {
     "duration": 0.030167,
     "end_time": "2023-04-24T21:03:27.164168",
     "exception": false,
     "start_time": "2023-04-24T21:03:27.134001",
     "status": "completed"
    },
    "tags": []
   },
   "outputs": [
    {
     "name": "stdout",
     "output_type": "stream",
     "text": [
      "Training Data length :891\n",
      "Testing Data length :418\n"
     ]
    }
   ],
   "source": [
    "train_data = train_data.set_index(\"PassengerId\")\n",
    "test_data = test_data.set_index(\"PassengerId\")\n",
    "print(F\"Training Data length :{len(train_data)}\")\n",
    "print(F\"Testing Data length :{len(test_data)}\")"
   ]
  },
  {
   "cell_type": "markdown",
   "id": "3c41b62a",
   "metadata": {
    "papermill": {
     "duration": 0.010664,
     "end_time": "2023-04-24T21:03:27.185919",
     "exception": false,
     "start_time": "2023-04-24T21:03:27.175255",
     "status": "completed"
    },
    "tags": []
   },
   "source": [
    "Checking for Missing Data"
   ]
  },
  {
   "cell_type": "code",
   "execution_count": 5,
   "id": "5026e81e",
   "metadata": {
    "execution": {
     "iopub.execute_input": "2023-04-24T21:03:27.210370Z",
     "iopub.status.busy": "2023-04-24T21:03:27.209164Z",
     "iopub.status.idle": "2023-04-24T21:03:27.235890Z",
     "shell.execute_reply": "2023-04-24T21:03:27.233881Z"
    },
    "papermill": {
     "duration": 0.041898,
     "end_time": "2023-04-24T21:03:27.238762",
     "exception": false,
     "start_time": "2023-04-24T21:03:27.196864",
     "status": "completed"
    },
    "tags": []
   },
   "outputs": [
    {
     "name": "stdout",
     "output_type": "stream",
     "text": [
      "<class 'pandas.core.frame.DataFrame'>\n",
      "Int64Index: 891 entries, 1 to 891\n",
      "Data columns (total 11 columns):\n",
      " #   Column    Non-Null Count  Dtype  \n",
      "---  ------    --------------  -----  \n",
      " 0   Survived  891 non-null    int64  \n",
      " 1   Pclass    891 non-null    int64  \n",
      " 2   Name      891 non-null    object \n",
      " 3   Sex       891 non-null    object \n",
      " 4   Age       714 non-null    float64\n",
      " 5   SibSp     891 non-null    int64  \n",
      " 6   Parch     891 non-null    int64  \n",
      " 7   Ticket    891 non-null    object \n",
      " 8   Fare      891 non-null    float64\n",
      " 9   Cabin     204 non-null    object \n",
      " 10  Embarked  889 non-null    object \n",
      "dtypes: float64(2), int64(4), object(5)\n",
      "memory usage: 83.5+ KB\n"
     ]
    }
   ],
   "source": [
    "train_data.info()"
   ]
  },
  {
   "cell_type": "code",
   "execution_count": 6,
   "id": "a327d149",
   "metadata": {
    "execution": {
     "iopub.execute_input": "2023-04-24T21:03:27.263522Z",
     "iopub.status.busy": "2023-04-24T21:03:27.262519Z",
     "iopub.status.idle": "2023-04-24T21:03:27.274978Z",
     "shell.execute_reply": "2023-04-24T21:03:27.273494Z"
    },
    "papermill": {
     "duration": 0.028001,
     "end_time": "2023-04-24T21:03:27.277805",
     "exception": false,
     "start_time": "2023-04-24T21:03:27.249804",
     "status": "completed"
    },
    "tags": []
   },
   "outputs": [
    {
     "data": {
      "text/plain": [
       "27.0"
      ]
     },
     "execution_count": 6,
     "metadata": {},
     "output_type": "execute_result"
    }
   ],
   "source": [
    "train_data[train_data[\"Sex\"]==\"female\"][\"Age\"].median()"
   ]
  },
  {
   "cell_type": "markdown",
   "id": "5d5bbcc4",
   "metadata": {
    "papermill": {
     "duration": 0.010973,
     "end_time": "2023-04-24T21:03:27.300284",
     "exception": false,
     "start_time": "2023-04-24T21:03:27.289311",
     "status": "completed"
    },
    "tags": []
   },
   "source": [
    "The **Age**, **Cabin** and **Embarked** attributes are sometimes null (less than 891 non-null), especially the **Cabin** (77% are null). \n",
    "\n",
    "We will ignore the **Cabin** for now and focus on the rest. The **Age** attribute has about 19% null values, so we will need to decide what to do with them. Replacing null values with the median age seems reasonable. We could be a bit smarter by predicting the age based on the other columns (for example, the median age is 37 in 1st class, 29 in 2nd class and 24 in 3rd class), but we'll keep things simple and just use the overall median age."
   ]
  },
  {
   "cell_type": "markdown",
   "id": "1a39981b",
   "metadata": {
    "papermill": {
     "duration": 0.011079,
     "end_time": "2023-04-24T21:03:27.323076",
     "exception": false,
     "start_time": "2023-04-24T21:03:27.311997",
     "status": "completed"
    },
    "tags": []
   },
   "source": [
    "The **Name** and **Ticket** attributes may have some value, but they will be a bit tricky to convert into useful numbers that a model can consume. So for now, we will ignore them."
   ]
  },
  {
   "cell_type": "markdown",
   "id": "1482d699",
   "metadata": {
    "papermill": {
     "duration": 0.01049,
     "end_time": "2023-04-24T21:03:27.344905",
     "exception": false,
     "start_time": "2023-04-24T21:03:27.334415",
     "status": "completed"
    },
    "tags": []
   },
   "source": [
    "### Numerical Attributes"
   ]
  },
  {
   "cell_type": "code",
   "execution_count": 7,
   "id": "549a22af",
   "metadata": {
    "execution": {
     "iopub.execute_input": "2023-04-24T21:03:27.369957Z",
     "iopub.status.busy": "2023-04-24T21:03:27.368655Z",
     "iopub.status.idle": "2023-04-24T21:03:27.406596Z",
     "shell.execute_reply": "2023-04-24T21:03:27.405276Z"
    },
    "papermill": {
     "duration": 0.053368,
     "end_time": "2023-04-24T21:03:27.409353",
     "exception": false,
     "start_time": "2023-04-24T21:03:27.355985",
     "status": "completed"
    },
    "tags": []
   },
   "outputs": [
    {
     "data": {
      "text/html": [
       "<div>\n",
       "<style scoped>\n",
       "    .dataframe tbody tr th:only-of-type {\n",
       "        vertical-align: middle;\n",
       "    }\n",
       "\n",
       "    .dataframe tbody tr th {\n",
       "        vertical-align: top;\n",
       "    }\n",
       "\n",
       "    .dataframe thead th {\n",
       "        text-align: right;\n",
       "    }\n",
       "</style>\n",
       "<table border=\"1\" class=\"dataframe\">\n",
       "  <thead>\n",
       "    <tr style=\"text-align: right;\">\n",
       "      <th></th>\n",
       "      <th>Survived</th>\n",
       "      <th>Pclass</th>\n",
       "      <th>Age</th>\n",
       "      <th>SibSp</th>\n",
       "      <th>Parch</th>\n",
       "      <th>Fare</th>\n",
       "    </tr>\n",
       "  </thead>\n",
       "  <tbody>\n",
       "    <tr>\n",
       "      <th>count</th>\n",
       "      <td>891.000000</td>\n",
       "      <td>891.000000</td>\n",
       "      <td>714.000000</td>\n",
       "      <td>891.000000</td>\n",
       "      <td>891.000000</td>\n",
       "      <td>891.000000</td>\n",
       "    </tr>\n",
       "    <tr>\n",
       "      <th>mean</th>\n",
       "      <td>0.383838</td>\n",
       "      <td>2.308642</td>\n",
       "      <td>29.699118</td>\n",
       "      <td>0.523008</td>\n",
       "      <td>0.381594</td>\n",
       "      <td>32.204208</td>\n",
       "    </tr>\n",
       "    <tr>\n",
       "      <th>std</th>\n",
       "      <td>0.486592</td>\n",
       "      <td>0.836071</td>\n",
       "      <td>14.526497</td>\n",
       "      <td>1.102743</td>\n",
       "      <td>0.806057</td>\n",
       "      <td>49.693429</td>\n",
       "    </tr>\n",
       "    <tr>\n",
       "      <th>min</th>\n",
       "      <td>0.000000</td>\n",
       "      <td>1.000000</td>\n",
       "      <td>0.420000</td>\n",
       "      <td>0.000000</td>\n",
       "      <td>0.000000</td>\n",
       "      <td>0.000000</td>\n",
       "    </tr>\n",
       "    <tr>\n",
       "      <th>25%</th>\n",
       "      <td>0.000000</td>\n",
       "      <td>2.000000</td>\n",
       "      <td>20.125000</td>\n",
       "      <td>0.000000</td>\n",
       "      <td>0.000000</td>\n",
       "      <td>7.910400</td>\n",
       "    </tr>\n",
       "    <tr>\n",
       "      <th>50%</th>\n",
       "      <td>0.000000</td>\n",
       "      <td>3.000000</td>\n",
       "      <td>28.000000</td>\n",
       "      <td>0.000000</td>\n",
       "      <td>0.000000</td>\n",
       "      <td>14.454200</td>\n",
       "    </tr>\n",
       "    <tr>\n",
       "      <th>75%</th>\n",
       "      <td>1.000000</td>\n",
       "      <td>3.000000</td>\n",
       "      <td>38.000000</td>\n",
       "      <td>1.000000</td>\n",
       "      <td>0.000000</td>\n",
       "      <td>31.000000</td>\n",
       "    </tr>\n",
       "    <tr>\n",
       "      <th>max</th>\n",
       "      <td>1.000000</td>\n",
       "      <td>3.000000</td>\n",
       "      <td>80.000000</td>\n",
       "      <td>8.000000</td>\n",
       "      <td>6.000000</td>\n",
       "      <td>512.329200</td>\n",
       "    </tr>\n",
       "  </tbody>\n",
       "</table>\n",
       "</div>"
      ],
      "text/plain": [
       "         Survived      Pclass         Age       SibSp       Parch        Fare\n",
       "count  891.000000  891.000000  714.000000  891.000000  891.000000  891.000000\n",
       "mean     0.383838    2.308642   29.699118    0.523008    0.381594   32.204208\n",
       "std      0.486592    0.836071   14.526497    1.102743    0.806057   49.693429\n",
       "min      0.000000    1.000000    0.420000    0.000000    0.000000    0.000000\n",
       "25%      0.000000    2.000000   20.125000    0.000000    0.000000    7.910400\n",
       "50%      0.000000    3.000000   28.000000    0.000000    0.000000   14.454200\n",
       "75%      1.000000    3.000000   38.000000    1.000000    0.000000   31.000000\n",
       "max      1.000000    3.000000   80.000000    8.000000    6.000000  512.329200"
      ]
     },
     "execution_count": 7,
     "metadata": {},
     "output_type": "execute_result"
    }
   ],
   "source": [
    "train_data.describe()"
   ]
  },
  {
   "cell_type": "markdown",
   "id": "6a415eca",
   "metadata": {
    "papermill": {
     "duration": 0.010996,
     "end_time": "2023-04-24T21:03:27.431776",
     "exception": false,
     "start_time": "2023-04-24T21:03:27.420780",
     "status": "completed"
    },
    "tags": []
   },
   "source": [
    "* only 38% **Survived**!  That's close enough to 40%, so accuracy will be a reasonable metric to evaluate our model.\n",
    "* The mean **Fare** was £32.20, which does not seem so expensive (but it was probably a lot of money back then).\n",
    "* The mean **Age** was less than 30 years old."
   ]
  },
  {
   "cell_type": "markdown",
   "id": "95b3b909",
   "metadata": {
    "papermill": {
     "duration": 0.010856,
     "end_time": "2023-04-24T21:03:27.453971",
     "exception": false,
     "start_time": "2023-04-24T21:03:27.443115",
     "status": "completed"
    },
    "tags": []
   },
   "source": [
    "Let's check that the target is indeed 0 or 1:"
   ]
  },
  {
   "cell_type": "code",
   "execution_count": 8,
   "id": "99b07f91",
   "metadata": {
    "execution": {
     "iopub.execute_input": "2023-04-24T21:03:27.480143Z",
     "iopub.status.busy": "2023-04-24T21:03:27.479143Z",
     "iopub.status.idle": "2023-04-24T21:03:27.489008Z",
     "shell.execute_reply": "2023-04-24T21:03:27.488086Z"
    },
    "papermill": {
     "duration": 0.026081,
     "end_time": "2023-04-24T21:03:27.491331",
     "exception": false,
     "start_time": "2023-04-24T21:03:27.465250",
     "status": "completed"
    },
    "tags": []
   },
   "outputs": [
    {
     "data": {
      "text/plain": [
       "0    549\n",
       "1    342\n",
       "Name: Survived, dtype: int64"
      ]
     },
     "execution_count": 8,
     "metadata": {},
     "output_type": "execute_result"
    }
   ],
   "source": [
    "train_data[\"Survived\"].value_counts()"
   ]
  },
  {
   "cell_type": "markdown",
   "id": "38f6b994",
   "metadata": {
    "papermill": {
     "duration": 0.010982,
     "end_time": "2023-04-24T21:03:27.513710",
     "exception": false,
     "start_time": "2023-04-24T21:03:27.502728",
     "status": "completed"
    },
    "tags": []
   },
   "source": [
    "Now let's take a quick look at all the categorical attributes:"
   ]
  },
  {
   "cell_type": "code",
   "execution_count": 9,
   "id": "a2965703",
   "metadata": {
    "execution": {
     "iopub.execute_input": "2023-04-24T21:03:27.539010Z",
     "iopub.status.busy": "2023-04-24T21:03:27.537942Z",
     "iopub.status.idle": "2023-04-24T21:03:27.548622Z",
     "shell.execute_reply": "2023-04-24T21:03:27.547382Z"
    },
    "papermill": {
     "duration": 0.026183,
     "end_time": "2023-04-24T21:03:27.551135",
     "exception": false,
     "start_time": "2023-04-24T21:03:27.524952",
     "status": "completed"
    },
    "tags": []
   },
   "outputs": [
    {
     "data": {
      "text/plain": [
       "3    491\n",
       "1    216\n",
       "2    184\n",
       "Name: Pclass, dtype: int64"
      ]
     },
     "execution_count": 9,
     "metadata": {},
     "output_type": "execute_result"
    }
   ],
   "source": [
    "train_data[\"Pclass\"].value_counts()"
   ]
  },
  {
   "cell_type": "code",
   "execution_count": 10,
   "id": "cc05fff5",
   "metadata": {
    "execution": {
     "iopub.execute_input": "2023-04-24T21:03:27.577700Z",
     "iopub.status.busy": "2023-04-24T21:03:27.576400Z",
     "iopub.status.idle": "2023-04-24T21:03:27.587569Z",
     "shell.execute_reply": "2023-04-24T21:03:27.586297Z"
    },
    "papermill": {
     "duration": 0.026837,
     "end_time": "2023-04-24T21:03:27.589892",
     "exception": false,
     "start_time": "2023-04-24T21:03:27.563055",
     "status": "completed"
    },
    "tags": []
   },
   "outputs": [
    {
     "data": {
      "text/plain": [
       "male      577\n",
       "female    314\n",
       "Name: Sex, dtype: int64"
      ]
     },
     "execution_count": 10,
     "metadata": {},
     "output_type": "execute_result"
    }
   ],
   "source": [
    "train_data[\"Sex\"].value_counts()"
   ]
  },
  {
   "cell_type": "code",
   "execution_count": 11,
   "id": "bfdf3051",
   "metadata": {
    "execution": {
     "iopub.execute_input": "2023-04-24T21:03:27.616225Z",
     "iopub.status.busy": "2023-04-24T21:03:27.615262Z",
     "iopub.status.idle": "2023-04-24T21:03:27.624950Z",
     "shell.execute_reply": "2023-04-24T21:03:27.623550Z"
    },
    "papermill": {
     "duration": 0.025674,
     "end_time": "2023-04-24T21:03:27.627507",
     "exception": false,
     "start_time": "2023-04-24T21:03:27.601833",
     "status": "completed"
    },
    "tags": []
   },
   "outputs": [
    {
     "data": {
      "text/plain": [
       "S    644\n",
       "C    168\n",
       "Q     77\n",
       "Name: Embarked, dtype: int64"
      ]
     },
     "execution_count": 11,
     "metadata": {},
     "output_type": "execute_result"
    }
   ],
   "source": [
    "train_data[\"Embarked\"].value_counts()"
   ]
  },
  {
   "cell_type": "markdown",
   "id": "6bd65717",
   "metadata": {
    "papermill": {
     "duration": 0.011365,
     "end_time": "2023-04-24T21:03:27.650695",
     "exception": false,
     "start_time": "2023-04-24T21:03:27.639330",
     "status": "completed"
    },
    "tags": []
   },
   "source": [
    "The Embarked attribute tells us where the passenger embarked: C=Cherbourg, Q=Queenstown, S=Southampton."
   ]
  },
  {
   "cell_type": "markdown",
   "id": "c96a4744",
   "metadata": {
    "papermill": {
     "duration": 0.011111,
     "end_time": "2023-04-24T21:03:27.673294",
     "exception": false,
     "start_time": "2023-04-24T21:03:27.662183",
     "status": "completed"
    },
    "tags": []
   },
   "source": [
    "# Preprocessing Pipelines "
   ]
  },
  {
   "cell_type": "markdown",
   "id": "e43f8d91",
   "metadata": {
    "papermill": {
     "duration": 0.011269,
     "end_time": "2023-04-24T21:03:27.696008",
     "exception": false,
     "start_time": "2023-04-24T21:03:27.684739",
     "status": "completed"
    },
    "tags": []
   },
   "source": [
    "## Numerical Attributes"
   ]
  },
  {
   "cell_type": "code",
   "execution_count": 12,
   "id": "0bd37159",
   "metadata": {
    "execution": {
     "iopub.execute_input": "2023-04-24T21:03:27.721545Z",
     "iopub.status.busy": "2023-04-24T21:03:27.721021Z",
     "iopub.status.idle": "2023-04-24T21:03:29.010246Z",
     "shell.execute_reply": "2023-04-24T21:03:29.008745Z"
    },
    "papermill": {
     "duration": 1.30605,
     "end_time": "2023-04-24T21:03:29.013610",
     "exception": false,
     "start_time": "2023-04-24T21:03:27.707560",
     "status": "completed"
    },
    "tags": []
   },
   "outputs": [],
   "source": [
    "from sklearn.pipeline import Pipeline\n",
    "from sklearn.impute import SimpleImputer\n",
    "from sklearn.preprocessing import StandardScaler\n",
    "\n",
    "\n",
    "num_pipeline = Pipeline([\n",
    "    (\"imputer\", SimpleImputer(strategy=\"median\")),\n",
    "    (\"scaler\", StandardScaler())\n",
    "])"
   ]
  },
  {
   "cell_type": "markdown",
   "id": "332a2942",
   "metadata": {
    "papermill": {
     "duration": 0.011695,
     "end_time": "2023-04-24T21:03:29.037601",
     "exception": false,
     "start_time": "2023-04-24T21:03:29.025906",
     "status": "completed"
    },
    "tags": []
   },
   "source": [
    "## Building Categorical Pipelines"
   ]
  },
  {
   "cell_type": "code",
   "execution_count": 13,
   "id": "2af2eced",
   "metadata": {
    "execution": {
     "iopub.execute_input": "2023-04-24T21:03:29.064002Z",
     "iopub.status.busy": "2023-04-24T21:03:29.063173Z",
     "iopub.status.idle": "2023-04-24T21:03:29.069090Z",
     "shell.execute_reply": "2023-04-24T21:03:29.068144Z"
    },
    "papermill": {
     "duration": 0.021958,
     "end_time": "2023-04-24T21:03:29.071315",
     "exception": false,
     "start_time": "2023-04-24T21:03:29.049357",
     "status": "completed"
    },
    "tags": []
   },
   "outputs": [],
   "source": [
    "from sklearn.preprocessing import OrdinalEncoder, OneHotEncoder\n",
    "\n",
    "cat_pipeline = Pipeline([\n",
    "    (\"ordinal_encoder\", OrdinalEncoder()),\n",
    "    (\"imputer\", SimpleImputer(strategy=\"most_frequent\")),\n",
    "    (\"cat_encoder\", OneHotEncoder(sparse=False)),\n",
    "])"
   ]
  },
  {
   "cell_type": "markdown",
   "id": "47f39bb6",
   "metadata": {
    "papermill": {
     "duration": 0.011343,
     "end_time": "2023-04-24T21:03:29.094530",
     "exception": false,
     "start_time": "2023-04-24T21:03:29.083187",
     "status": "completed"
    },
    "tags": []
   },
   "source": [
    "## Numerical and Categorical Pipeline"
   ]
  },
  {
   "cell_type": "code",
   "execution_count": 14,
   "id": "1af760fa",
   "metadata": {
    "execution": {
     "iopub.execute_input": "2023-04-24T21:03:29.121270Z",
     "iopub.status.busy": "2023-04-24T21:03:29.120336Z",
     "iopub.status.idle": "2023-04-24T21:03:29.138427Z",
     "shell.execute_reply": "2023-04-24T21:03:29.137306Z"
    },
    "papermill": {
     "duration": 0.035309,
     "end_time": "2023-04-24T21:03:29.141602",
     "exception": false,
     "start_time": "2023-04-24T21:03:29.106293",
     "status": "completed"
    },
    "tags": []
   },
   "outputs": [],
   "source": [
    "from sklearn.compose import ColumnTransformer\n",
    "\n",
    "num_attribs = [\"Age\", \"SibSp\", \"Parch\", \"Fare\"]\n",
    "cat_attribs = [\"Pclass\", \"Sex\", \"Embarked\"]\n",
    "\n",
    "preprocess_pipeline = ColumnTransformer([\n",
    "    (\"num\", num_pipeline, num_attribs),\n",
    "    (\"cat\", cat_pipeline,cat_attribs)\n",
    "],verbose=True)"
   ]
  },
  {
   "cell_type": "code",
   "execution_count": 15,
   "id": "9c5d50e7",
   "metadata": {
    "execution": {
     "iopub.execute_input": "2023-04-24T21:03:29.167596Z",
     "iopub.status.busy": "2023-04-24T21:03:29.167038Z",
     "iopub.status.idle": "2023-04-24T21:03:29.196087Z",
     "shell.execute_reply": "2023-04-24T21:03:29.194721Z"
    },
    "papermill": {
     "duration": 0.044988,
     "end_time": "2023-04-24T21:03:29.198593",
     "exception": false,
     "start_time": "2023-04-24T21:03:29.153605",
     "status": "completed"
    },
    "tags": []
   },
   "outputs": [
    {
     "name": "stdout",
     "output_type": "stream",
     "text": [
      "[ColumnTransformer] ........... (1 of 2) Processing num, total=   0.0s\n",
      "[ColumnTransformer] ........... (2 of 2) Processing cat, total=   0.0s\n"
     ]
    },
    {
     "data": {
      "text/plain": [
       "array([[-0.56573646,  0.43279337, -0.47367361, ...,  0.        ,\n",
       "         0.        ,  1.        ],\n",
       "       [ 0.66386103,  0.43279337, -0.47367361, ...,  1.        ,\n",
       "         0.        ,  0.        ],\n",
       "       [-0.25833709, -0.4745452 , -0.47367361, ...,  0.        ,\n",
       "         0.        ,  1.        ],\n",
       "       ...,\n",
       "       [-0.1046374 ,  0.43279337,  2.00893337, ...,  0.        ,\n",
       "         0.        ,  1.        ],\n",
       "       [-0.25833709, -0.4745452 , -0.47367361, ...,  1.        ,\n",
       "         0.        ,  0.        ],\n",
       "       [ 0.20276197, -0.4745452 , -0.47367361, ...,  0.        ,\n",
       "         1.        ,  0.        ]])"
      ]
     },
     "execution_count": 15,
     "metadata": {},
     "output_type": "execute_result"
    }
   ],
   "source": [
    "X_train = preprocess_pipeline.fit_transform(train_data)\n",
    "X_train"
   ]
  },
  {
   "cell_type": "code",
   "execution_count": 16,
   "id": "71e415e4",
   "metadata": {
    "execution": {
     "iopub.execute_input": "2023-04-24T21:03:29.225705Z",
     "iopub.status.busy": "2023-04-24T21:03:29.225141Z",
     "iopub.status.idle": "2023-04-24T21:03:29.233858Z",
     "shell.execute_reply": "2023-04-24T21:03:29.232607Z"
    },
    "papermill": {
     "duration": 0.02528,
     "end_time": "2023-04-24T21:03:29.236345",
     "exception": false,
     "start_time": "2023-04-24T21:03:29.211065",
     "status": "completed"
    },
    "tags": []
   },
   "outputs": [
    {
     "data": {
      "text/plain": [
       "array([-0.56573646,  0.43279337, -0.47367361, -0.50244517,  0.        ,\n",
       "        0.        ,  1.        ,  0.        ,  1.        ,  0.        ,\n",
       "        0.        ,  1.        ])"
      ]
     },
     "execution_count": 16,
     "metadata": {},
     "output_type": "execute_result"
    }
   ],
   "source": [
    "X_train[0]"
   ]
  },
  {
   "cell_type": "markdown",
   "id": "ee6fcfd1",
   "metadata": {
    "papermill": {
     "duration": 0.012256,
     "end_time": "2023-04-24T21:03:29.261258",
     "exception": false,
     "start_time": "2023-04-24T21:03:29.249002",
     "status": "completed"
    },
    "tags": []
   },
   "source": [
    "Labels"
   ]
  },
  {
   "cell_type": "code",
   "execution_count": 17,
   "id": "45842550",
   "metadata": {
    "execution": {
     "iopub.execute_input": "2023-04-24T21:03:29.289456Z",
     "iopub.status.busy": "2023-04-24T21:03:29.288908Z",
     "iopub.status.idle": "2023-04-24T21:03:29.294906Z",
     "shell.execute_reply": "2023-04-24T21:03:29.293647Z"
    },
    "papermill": {
     "duration": 0.023291,
     "end_time": "2023-04-24T21:03:29.297457",
     "exception": false,
     "start_time": "2023-04-24T21:03:29.274166",
     "status": "completed"
    },
    "tags": []
   },
   "outputs": [],
   "source": [
    "y_train = train_data[\"Survived\"]"
   ]
  },
  {
   "cell_type": "markdown",
   "id": "d5466d09",
   "metadata": {
    "papermill": {
     "duration": 0.011914,
     "end_time": "2023-04-24T21:03:29.321653",
     "exception": false,
     "start_time": "2023-04-24T21:03:29.309739",
     "status": "completed"
    },
    "tags": []
   },
   "source": [
    "# Model training"
   ]
  },
  {
   "cell_type": "markdown",
   "id": "5192195c",
   "metadata": {
    "papermill": {
     "duration": 0.011777,
     "end_time": "2023-04-24T21:03:29.345798",
     "exception": false,
     "start_time": "2023-04-24T21:03:29.334021",
     "status": "completed"
    },
    "tags": []
   },
   "source": [
    "## Random Forest Classifier"
   ]
  },
  {
   "cell_type": "code",
   "execution_count": 18,
   "id": "415de07d",
   "metadata": {
    "execution": {
     "iopub.execute_input": "2023-04-24T21:03:29.372793Z",
     "iopub.status.busy": "2023-04-24T21:03:29.372279Z",
     "iopub.status.idle": "2023-04-24T21:03:29.759829Z",
     "shell.execute_reply": "2023-04-24T21:03:29.758391Z"
    },
    "papermill": {
     "duration": 0.404478,
     "end_time": "2023-04-24T21:03:29.762468",
     "exception": false,
     "start_time": "2023-04-24T21:03:29.357990",
     "status": "completed"
    },
    "tags": []
   },
   "outputs": [
    {
     "data": {
      "text/plain": [
       "RandomForestClassifier(random_state=42)"
      ]
     },
     "execution_count": 18,
     "metadata": {},
     "output_type": "execute_result"
    }
   ],
   "source": [
    "from sklearn.ensemble import RandomForestClassifier\n",
    "\n",
    "forest_clf = RandomForestClassifier(n_estimators=100, random_state=42)\n",
    "forest_clf.fit(X_train, y_train)"
   ]
  },
  {
   "cell_type": "markdown",
   "id": "129d02cd",
   "metadata": {
    "papermill": {
     "duration": 0.012086,
     "end_time": "2023-04-24T21:03:29.786918",
     "exception": false,
     "start_time": "2023-04-24T21:03:29.774832",
     "status": "completed"
    },
    "tags": []
   },
   "source": [
    "### Predictions"
   ]
  },
  {
   "cell_type": "code",
   "execution_count": 19,
   "id": "16da997d",
   "metadata": {
    "execution": {
     "iopub.execute_input": "2023-04-24T21:03:29.814962Z",
     "iopub.status.busy": "2023-04-24T21:03:29.813414Z",
     "iopub.status.idle": "2023-04-24T21:03:29.851334Z",
     "shell.execute_reply": "2023-04-24T21:03:29.849903Z"
    },
    "papermill": {
     "duration": 0.055588,
     "end_time": "2023-04-24T21:03:29.854596",
     "exception": false,
     "start_time": "2023-04-24T21:03:29.799008",
     "status": "completed"
    },
    "tags": []
   },
   "outputs": [],
   "source": [
    "X_test = preprocess_pipeline.transform(test_data)\n",
    "y_pred = forest_clf.predict(X_test)"
   ]
  },
  {
   "cell_type": "markdown",
   "id": "8c4ff7ac",
   "metadata": {
    "papermill": {
     "duration": 0.011765,
     "end_time": "2023-04-24T21:03:29.879064",
     "exception": false,
     "start_time": "2023-04-24T21:03:29.867299",
     "status": "completed"
    },
    "tags": []
   },
   "source": [
    "### Cross-Validating the result"
   ]
  },
  {
   "cell_type": "code",
   "execution_count": 20,
   "id": "ffca3c5e",
   "metadata": {
    "execution": {
     "iopub.execute_input": "2023-04-24T21:03:29.906385Z",
     "iopub.status.busy": "2023-04-24T21:03:29.905003Z",
     "iopub.status.idle": "2023-04-24T21:03:31.999703Z",
     "shell.execute_reply": "2023-04-24T21:03:31.997760Z"
    },
    "papermill": {
     "duration": 2.111623,
     "end_time": "2023-04-24T21:03:32.002743",
     "exception": false,
     "start_time": "2023-04-24T21:03:29.891120",
     "status": "completed"
    },
    "tags": []
   },
   "outputs": [
    {
     "data": {
      "text/plain": [
       "0.8092759051186016"
      ]
     },
     "execution_count": 20,
     "metadata": {},
     "output_type": "execute_result"
    }
   ],
   "source": [
    "from sklearn.model_selection import cross_val_score\n",
    "\n",
    "forest_scores = cross_val_score(forest_clf, X_train, y_train, cv=10)\n",
    "forest_scores.mean()"
   ]
  },
  {
   "cell_type": "markdown",
   "id": "d09b20a8",
   "metadata": {
    "papermill": {
     "duration": 0.013507,
     "end_time": "2023-04-24T21:03:32.029005",
     "exception": false,
     "start_time": "2023-04-24T21:03:32.015498",
     "status": "completed"
    },
    "tags": []
   },
   "source": [
    "## SVC"
   ]
  },
  {
   "cell_type": "code",
   "execution_count": 21,
   "id": "2904570d",
   "metadata": {
    "execution": {
     "iopub.execute_input": "2023-04-24T21:03:32.056037Z",
     "iopub.status.busy": "2023-04-24T21:03:32.055476Z",
     "iopub.status.idle": "2023-04-24T21:03:32.346701Z",
     "shell.execute_reply": "2023-04-24T21:03:32.345430Z"
    },
    "papermill": {
     "duration": 0.308436,
     "end_time": "2023-04-24T21:03:32.349745",
     "exception": false,
     "start_time": "2023-04-24T21:03:32.041309",
     "status": "completed"
    },
    "tags": []
   },
   "outputs": [
    {
     "data": {
      "text/plain": [
       "0.8249313358302123"
      ]
     },
     "execution_count": 21,
     "metadata": {},
     "output_type": "execute_result"
    }
   ],
   "source": [
    "from sklearn.svm import SVC\n",
    "\n",
    "svm_clf = SVC(gamma=\"auto\")\n",
    "svm_scores = cross_val_score(svm_clf, X_train, y_train, cv=10)\n",
    "svm_scores.mean()"
   ]
  },
  {
   "cell_type": "markdown",
   "id": "29644ccf",
   "metadata": {
    "papermill": {
     "duration": 0.012107,
     "end_time": "2023-04-24T21:03:32.374482",
     "exception": false,
     "start_time": "2023-04-24T21:03:32.362375",
     "status": "completed"
    },
    "tags": []
   },
   "source": [
    "# Submission Fime"
   ]
  },
  {
   "cell_type": "code",
   "execution_count": 22,
   "id": "70399990",
   "metadata": {
    "execution": {
     "iopub.execute_input": "2023-04-24T21:03:32.402183Z",
     "iopub.status.busy": "2023-04-24T21:03:32.401212Z",
     "iopub.status.idle": "2023-04-24T21:03:32.446508Z",
     "shell.execute_reply": "2023-04-24T21:03:32.445210Z"
    },
    "papermill": {
     "duration": 0.062573,
     "end_time": "2023-04-24T21:03:32.449606",
     "exception": false,
     "start_time": "2023-04-24T21:03:32.387033",
     "status": "completed"
    },
    "tags": []
   },
   "outputs": [],
   "source": [
    "svm_clf.fit(X_train, y_train)\n",
    "y_pred = svm_clf.predict(X_test)"
   ]
  },
  {
   "cell_type": "code",
   "execution_count": 23,
   "id": "837a37f9",
   "metadata": {
    "execution": {
     "iopub.execute_input": "2023-04-24T21:03:32.477973Z",
     "iopub.status.busy": "2023-04-24T21:03:32.477141Z",
     "iopub.status.idle": "2023-04-24T21:03:32.483382Z",
     "shell.execute_reply": "2023-04-24T21:03:32.482476Z"
    },
    "papermill": {
     "duration": 0.023009,
     "end_time": "2023-04-24T21:03:32.485523",
     "exception": false,
     "start_time": "2023-04-24T21:03:32.462514",
     "status": "completed"
    },
    "tags": []
   },
   "outputs": [
    {
     "data": {
      "text/plain": [
       "418"
      ]
     },
     "execution_count": 23,
     "metadata": {},
     "output_type": "execute_result"
    }
   ],
   "source": [
    "len(y_pred)"
   ]
  },
  {
   "cell_type": "code",
   "execution_count": 24,
   "id": "b5599684",
   "metadata": {
    "execution": {
     "iopub.execute_input": "2023-04-24T21:03:32.514696Z",
     "iopub.status.busy": "2023-04-24T21:03:32.513908Z",
     "iopub.status.idle": "2023-04-24T21:03:32.533848Z",
     "shell.execute_reply": "2023-04-24T21:03:32.532411Z"
    },
    "papermill": {
     "duration": 0.038057,
     "end_time": "2023-04-24T21:03:32.537121",
     "exception": false,
     "start_time": "2023-04-24T21:03:32.499064",
     "status": "completed"
    },
    "tags": []
   },
   "outputs": [],
   "source": [
    "import pandas as pd\n",
    "test_data = pd.read_csv(r\"/kaggle/input/titanic/test.csv\")\n",
    "submission = pd.DataFrame({\n",
    "    \"PassengerId\": test_data[\"PassengerId\"],\n",
    "    \"Survived\": y_pred\n",
    "})\n",
    "\n",
    "# Save the submission DataFrame to a CSV file\n",
    "submission.to_csv('submission.csv', index=False)\n"
   ]
  },
  {
   "cell_type": "code",
   "execution_count": 25,
   "id": "8efde323",
   "metadata": {
    "execution": {
     "iopub.execute_input": "2023-04-24T21:03:32.565124Z",
     "iopub.status.busy": "2023-04-24T21:03:32.564615Z",
     "iopub.status.idle": "2023-04-24T21:03:32.575912Z",
     "shell.execute_reply": "2023-04-24T21:03:32.574031Z"
    },
    "papermill": {
     "duration": 0.02852,
     "end_time": "2023-04-24T21:03:32.578486",
     "exception": false,
     "start_time": "2023-04-24T21:03:32.549966",
     "status": "completed"
    },
    "tags": []
   },
   "outputs": [
    {
     "name": "stdout",
     "output_type": "stream",
     "text": [
      "   PassengerId  Survived\n",
      "0          892         0\n",
      "1          893         1\n",
      "2          894         0\n",
      "3          895         0\n",
      "4          896         1\n"
     ]
    }
   ],
   "source": [
    "import pandas as pd\n",
    "\n",
    "# Load the submission file into a DataFrame\n",
    "submission = pd.read_csv('submission.csv')\n",
    "\n",
    "# Show the first 5 rows of the DataFrame\n",
    "print(submission.head(5))\n"
   ]
  }
 ],
 "metadata": {
  "kernelspec": {
   "display_name": "Python 3",
   "language": "python",
   "name": "python3"
  },
  "language_info": {
   "codemirror_mode": {
    "name": "ipython",
    "version": 3
   },
   "file_extension": ".py",
   "mimetype": "text/x-python",
   "name": "python",
   "nbconvert_exporter": "python",
   "pygments_lexer": "ipython3",
   "version": "3.7.12"
  },
  "papermill": {
   "default_parameters": {},
   "duration": 18.49972,
   "end_time": "2023-04-24T21:03:33.717322",
   "environment_variables": {},
   "exception": null,
   "input_path": "__notebook__.ipynb",
   "output_path": "__notebook__.ipynb",
   "parameters": {},
   "start_time": "2023-04-24T21:03:15.217602",
   "version": "2.4.0"
  }
 },
 "nbformat": 4,
 "nbformat_minor": 5
}
