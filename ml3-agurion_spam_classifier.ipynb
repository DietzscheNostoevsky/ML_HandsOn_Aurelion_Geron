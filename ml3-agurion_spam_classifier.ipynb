{
  "cells": [
    {
      "cell_type": "markdown",
      "metadata": {
        "id": "YeU4tK4YuKl1"
      },
      "source": [
        "# Spam Classifier"
      ]
    },
    {
      "cell_type": "markdown",
      "source": [
        "Exercise: _Build a spam classifier (a more challenging exercise):_\n",
        "\n",
        "* _Download examples of spam and ham from [Apache SpamAssassin's public datasets](https://homl.info/spamassassin)._\n",
        "* _Unzip the datasets and familiarize yourself with the data format._\n",
        "* _Split the datasets into a training set and a test set._\n",
        "* _Write a data preparation pipeline to convert each email into a feature vector. Your preparation pipeline should transform an email into a (sparse) vector that indicates the presence or absence of each possible word. For example, if all emails only ever contain four words, \"Hello,\" \"how,\" \"are,\" \"you,\" then the email \"Hello you Hello Hello you\" would be converted into a vector [1, 0, 0, 1] (meaning [“Hello\" is present, \"how\" is absent, \"are\" is absent, \"you\" is present]), or [3, 0, 0, 2] if you prefer to count the number of occurrences of each word._\n",
        "\n",
        "_You may want to add hyperparameters to your preparation pipeline to control whether or not to strip off email headers, convert each email to lowercase, remove punctuation, replace all URLs with \"URL,\" replace all numbers with \"NUMBER,\" or even perform _stemming_ (i.e., trim off word endings; there are Python libraries available to do this)._\n",
        "\n",
        "_Finally, try out several classifiers and see if you can build a great spam classifier, with both high recall and high precision._"
      ],
      "metadata": {
        "id": "9XNOu8lbusNc"
      }
    },
    {
      "cell_type": "markdown",
      "source": [
        "# Importing Data"
      ],
      "metadata": {
        "id": "lY6UoTqSvtVJ"
      }
    },
    {
      "cell_type": "markdown",
      "source": [
        "### Downloading Data"
      ],
      "metadata": {
        "id": "lD0HHylU8dZ1"
      }
    },
    {
      "cell_type": "code",
      "source": [
        "import tarfile \n",
        "from pathlib import Path\n",
        "import urllib.request\n",
        "\n",
        "\n",
        "def fetch_spam_data():\n",
        "    spam_root = \"http://spamassassin.apache.org/old/publiccorpus/\"\n",
        "    ham_url = spam_root + \"20030228_easy_ham.tar.bz2\"\n",
        "    spam_url = spam_root + \"20030228_spam.tar.bz2\"\n",
        "\n",
        "    spam_path = Path() / \"datasets\" / \"Spam\"\n",
        "    spam_path.mkdir(parents=True, exist_ok=True)\n",
        "\n",
        "    for dir_name, tar_name, url in ((\"easy_ham\", \"ham\", ham_url),\n",
        "                                    (\"sppam\", \"spam\", spam_url)):\n",
        "        if not (spam_path / dir_name).is_dir():\n",
        "            path = (spam_path / tar_name).with_suffix(\".tar.bz2\")\n",
        "            print(\"Downloading\", path)\n",
        "            urllib.request.urlretrieve(url, path)\n",
        "            tar_bz2_file = tarfile.open(path)\n",
        "            tar_bz2_file.extractall(path=spam_path)\n",
        "            tar_bz2_file.close()\n",
        "    return [spam_path / dir_name for dir_name in (\"easy_ham\", \"spam\")]"
      ],
      "metadata": {
        "id": "tG5BrfZIvwph"
      },
      "execution_count": 4,
      "outputs": []
    },
    {
      "cell_type": "code",
      "source": [
        "ham_dir, spam_dir = fetch_spam_data()"
      ],
      "metadata": {
        "id": "9PFdqGVZ4t9U",
        "outputId": "b93f4d0e-bb0c-4c56-ade0-23e99b9a88f1",
        "colab": {
          "base_uri": "https://localhost:8080/"
        }
      },
      "execution_count": 5,
      "outputs": [
        {
          "output_type": "stream",
          "name": "stdout",
          "text": [
            "Downloading datasets/Spam/ham.tar.bz2\n",
            "Downloading datasets/Spam/spam.tar.bz2\n"
          ]
        }
      ]
    },
    {
      "cell_type": "code",
      "source": [
        "# Loading Dataset\n",
        "\n",
        "ham_filenames = [f for f in sorted(ham_dir.iterdir()) if len(f.name)>20]\n",
        "spam_filenames = [f for f in sorted(spam_dir.iterdir()) if len(f.name)>20]\n",
        "print(\"Ham files :\", len(ham_filenames))\n",
        "print(\"Spam Files :\" ,len(spam_filenames))\n",
        "\n"
      ],
      "metadata": {
        "id": "o7yJ72L-5YXU",
        "outputId": "dad9b498-e2c7-4031-9a04-1049ede70f8d",
        "colab": {
          "base_uri": "https://localhost:8080/"
        }
      },
      "execution_count": 7,
      "outputs": [
        {
          "output_type": "stream",
          "name": "stdout",
          "text": [
            "Ham files : 2500\n",
            "Spam Files : 500\n"
          ]
        }
      ]
    },
    {
      "cell_type": "markdown",
      "source": [
        "### Handling Emails"
      ],
      "metadata": {
        "id": "hoeACfAh6r2k"
      }
    },
    {
      "cell_type": "code",
      "source": [
        "import email\n",
        "import email.policy \n",
        "\n",
        "def load_email(filepath):\n",
        "    with open(filepath, \"rb\") as f:\n",
        "        return email.parser.BytesParser(policy=email.policy.default).parse(f)"
      ],
      "metadata": {
        "id": "ZQdAVrkw6w-Z"
      },
      "execution_count": 8,
      "outputs": []
    },
    {
      "cell_type": "code",
      "source": [
        "ham_emails = [load_email(filepath) for filepath in ham_filenames]\n",
        "spam_emails = [load_email(filepath) for filepath in spam_filenames]\n"
      ],
      "metadata": {
        "id": "x-YJJVll7VfT"
      },
      "execution_count": 9,
      "outputs": []
    },
    {
      "cell_type": "markdown",
      "source": [
        "### Viewing example mail"
      ],
      "metadata": {
        "id": "K2_0xGDb8Sq1"
      }
    },
    {
      "cell_type": "code",
      "source": [
        "print(ham_emails[1])"
      ],
      "metadata": {
        "id": "k3gHUztG7724",
        "outputId": "588ebd47-3ba7-4f5d-a1e1-022f3dda3fd7",
        "colab": {
          "base_uri": "https://localhost:8080/"
        }
      },
      "execution_count": 11,
      "outputs": [
        {
          "output_type": "stream",
          "name": "stdout",
          "text": [
            "Return-Path: <Steve_Burt@cursor-system.com>\n",
            "Delivered-To: zzzz@localhost.netnoteinc.com\n",
            "Received: from localhost (localhost [127.0.0.1])\n",
            "\tby phobos.labs.netnoteinc.com (Postfix) with ESMTP id BE12E43C34\n",
            "\tfor <zzzz@localhost>; Thu, 22 Aug 2002 07:46:38 -0400 (EDT)\n",
            "Received: from phobos [127.0.0.1]\n",
            "\tby localhost with IMAP (fetchmail-5.9.0)\n",
            "\tfor zzzz@localhost (single-drop); Thu, 22 Aug 2002 12:46:38 +0100 (IST)\n",
            "Received: from n20.grp.scd.yahoo.com (n20.grp.scd.yahoo.com    [66.218.66.76])\n",
            " by dogma.slashnull.org (8.11.6/8.11.6) with SMTP id    g7MBkTZ05087 for\n",
            " <zzzz@spamassassin.taint.org>; Thu, 22 Aug 2002 12:46:29 +0100\n",
            "X-Egroups-Return: =?utf-8?q?sentto-2242572-52726-1030016790-zzzz=3Dspamassas?=\n",
            " =?utf-8?q?sin=2Etaint=2Eorg=40returns=2Egroups=2Eyahoo=2Ecom?=\n",
            "Received: from [66.218.67.196] by n20.grp.scd.yahoo.com with NNFMP;\n",
            "    22 Aug 2002 11:46:30 -0000\n",
            "X-Sender: steve.burt@cursor-system.com\n",
            "X-Apparently-To: zzzzteana@yahoogroups.com\n",
            "Received: (EGP: mail-8_1_0_1); 22 Aug 2002 11:46:29 -0000\n",
            "Received: (qmail 11764 invoked from network); 22 Aug 2002 11:46:29 -0000\n",
            "Received: from unknown (66.218.66.217) by m3.grp.scd.yahoo.com with QMQP;\n",
            "    22 Aug 2002 11:46:29 -0000\n",
            "Received: from unknown (HELO mailgateway.cursor-system.com) (62.189.7.27)\n",
            "    by mta2.grp.scd.yahoo.com with SMTP; 22 Aug 2002 11:46:29 -0000\n",
            "Received: from exchange1.cps.local (unverified) by\n",
            "    mailgateway.cursor-system.com (Content Technologies SMTPRS 4.2.10) with\n",
            "    ESMTP id <T5cde81f695ac1d100407d@mailgateway.cursor-system.com> for\n",
            "    <forteana@yahoogroups.com>; Thu, 22 Aug 2002 13:14:10 +0100\n",
            "Received: by exchange1.cps.local with Internet Mail Service (5.5.2653.19)\n",
            "    id <PXX6AT23>; Thu, 22 Aug 2002 12:46:27 +0100\n",
            "Message-Id: <5EC2AD6D2314D14FB64BDA287D25D9EF12B4F6@exchange1.cps.local>\n",
            "To: \"'zzzzteana@yahoogroups.com'\" <zzzzteana@yahoogroups.com>\n",
            "X-Mailer: Internet Mail Service (5.5.2653.19)\n",
            "X-Egroups-From: Steve Burt <steve.burt@cursor-system.com>\n",
            "From: Steve Burt <Steve_Burt@cursor-system.com>\n",
            "X-Yahoo-Profile: pyruse\n",
            "MIME-Version: 1.0\n",
            "Mailing-List: list zzzzteana@yahoogroups.com; contact\n",
            "    forteana-owner@yahoogroups.com\n",
            "Delivered-To: mailing list zzzzteana@yahoogroups.com\n",
            "Precedence: bulk\n",
            "List-Unsubscribe: <mailto:zzzzteana-unsubscribe@yahoogroups.com>\n",
            "Date: Thu, 22 Aug 2002 12:46:18 +0100\n",
            "Subject: [zzzzteana] RE: Alexander\n",
            "Reply-To: zzzzteana@yahoogroups.com\n",
            "Content-Type: text/plain; charset=US-ASCII\n",
            "Content-Transfer-Encoding: 7bit\n",
            "\n",
            "Martin A posted:\n",
            "Tassos Papadopoulos, the Greek sculptor behind the plan, judged that the\n",
            " limestone of Mount Kerdylio, 70 miles east of Salonika and not far from the\n",
            " Mount Athos monastic community, was ideal for the patriotic sculpture. \n",
            " \n",
            " As well as Alexander's granite features, 240 ft high and 170 ft wide, a\n",
            " museum, a restored amphitheatre and car park for admiring crowds are\n",
            "planned\n",
            "---------------------\n",
            "So is this mountain limestone or granite?\n",
            "If it's limestone, it'll weather pretty fast.\n",
            "\n",
            "------------------------ Yahoo! Groups Sponsor ---------------------~-->\n",
            "4 DVDs Free +s&p Join Now\n",
            "http://us.click.yahoo.com/pt6YBB/NXiEAA/mG3HAA/7gSolB/TM\n",
            "---------------------------------------------------------------------~->\n",
            "\n",
            "To unsubscribe from this group, send an email to:\n",
            "forteana-unsubscribe@egroups.com\n",
            "\n",
            " \n",
            "\n",
            "Your use of Yahoo! Groups is subject to http://docs.yahoo.com/info/terms/ \n",
            "\n",
            "\n",
            "\n",
            "\n"
          ]
        }
      ]
    }
  ],
  "metadata": {
    "language_info": {
      "name": "python"
    },
    "orig_nbformat": 4,
    "colab": {
      "provenance": [],
      "toc_visible": true
    },
    "kernelspec": {
      "name": "python3",
      "display_name": "Python 3"
    },
    "gpuClass": "standard"
  },
  "nbformat": 4,
  "nbformat_minor": 0
}