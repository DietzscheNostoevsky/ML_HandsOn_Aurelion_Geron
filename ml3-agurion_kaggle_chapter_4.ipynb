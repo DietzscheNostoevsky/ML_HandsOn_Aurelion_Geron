{
  "cells": [
    {
      "attachments": {},
      "cell_type": "markdown",
      "metadata": {
        "id": "N1ww34vtTDNZ"
      },
      "source": [
        "**Chapter 4 – Training Models**"
      ]
    },
    {
      "attachments": {},
      "cell_type": "markdown",
      "metadata": {
        "id": "ovGI7OrFTDNe"
      },
      "source": [
        "_This notebook contains all the sample code and solutions to the exercises in chapter 4._"
      ]
    },
    {
      "attachments": {},
      "cell_type": "markdown",
      "metadata": {
        "id": "Hx6jcLeETDNg"
      },
      "source": [
        "<table align=\"left\">\n",
        "  <td>\n",
        "    <a href=\"https://colab.research.google.com/github/ageron/handson-ml3/blob/main/04_training_linear_models.ipynb\" target=\"_parent\"><img src=\"https://colab.research.google.com/assets/colab-badge.svg\" alt=\"Open In Colab\"/></a>\n",
        "  </td>\n",
        "  <td>\n",
        "    <a target=\"_blank\" href=\"https://kaggle.com/kernels/welcome?src=https://github.com/ageron/handson-ml3/blob/main/04_training_linear_models.ipynb\"><img src=\"https://kaggle.com/static/images/open-in-kaggle.svg\" /></a>\n",
        "  </td>\n",
        "</table>"
      ]
    },
    {
      "attachments": {},
      "cell_type": "markdown",
      "metadata": {
        "id": "oEZYNocBTDNh",
        "tags": []
      },
      "source": [
        "# Setup"
      ]
    },
    {
      "attachments": {},
      "cell_type": "markdown",
      "metadata": {
        "id": "ib2kj7OJTDNh"
      },
      "source": [
        "This project requires Python 3.7 or above:"
      ]
    },
    {
      "cell_type": "code",
      "execution_count": 5,
      "metadata": {
        "id": "Yl0_BF7NTDNh"
      },
      "outputs": [],
      "source": [
        "import sys\n",
        "\n",
        "assert sys.version_info >= (3, 7)"
      ]
    },
    {
      "attachments": {},
      "cell_type": "markdown",
      "metadata": {
        "id": "A8zapR1DTDNm"
      },
      "source": [
        "It also requires Scikit-Learn ≥ 1.0.1:"
      ]
    },
    {
      "cell_type": "code",
      "execution_count": 6,
      "metadata": {
        "id": "bjzUraGBTDNm"
      },
      "outputs": [],
      "source": [
        "from packaging import version\n",
        "import sklearn\n",
        "\n",
        "assert version.parse(sklearn.__version__) >= version.parse(\"1.0.1\")"
      ]
    },
    {
      "attachments": {},
      "cell_type": "markdown",
      "metadata": {
        "id": "LlXUZebLTDNn"
      },
      "source": [
        "As we did in previous chapters, let's define the default font sizes to make the figures prettier:"
      ]
    },
    {
      "cell_type": "code",
      "execution_count": 7,
      "metadata": {
        "id": "xkhfNoc3TDNn"
      },
      "outputs": [],
      "source": [
        "import matplotlib.pyplot as plt\n",
        "\n",
        "plt.rc('font', size=14)\n",
        "plt.rc('axes', labelsize=14, titlesize=14)\n",
        "plt.rc('legend', fontsize=14)\n",
        "plt.rc('xtick', labelsize=10)\n",
        "plt.rc('ytick', labelsize=10)"
      ]
    },
    {
      "attachments": {},
      "cell_type": "markdown",
      "metadata": {
        "id": "2zvG5Q5OTDNo"
      },
      "source": [
        "And let's create the `images/training_linear_models` folder (if it doesn't already exist), and define the `save_fig()` function which is used through this notebook to save the figures in high-res for the book:"
      ]
    },
    {
      "cell_type": "code",
      "execution_count": 8,
      "metadata": {
        "id": "CtoKJ1mSTDNp"
      },
      "outputs": [],
      "source": [
        "from pathlib import Path\n",
        "\n",
        "IMAGES_PATH = Path() / \"images\" / \"training_linear_models\"\n",
        "IMAGES_PATH.mkdir(parents=True, exist_ok=True)\n",
        "\n",
        "def save_fig(fig_id, tight_layout=True, fig_extension=\"png\", resolution=300):\n",
        "    path = IMAGES_PATH / f\"{fig_id}.{fig_extension}\"\n",
        "    if tight_layout:\n",
        "        plt.tight_layout()\n",
        "    plt.savefig(path, format=fig_extension, dpi=resolution)"
      ]
    },
    {
      "attachments": {},
      "cell_type": "markdown",
      "metadata": {
        "id": "Mny0TC-4TDNp"
      },
      "source": [
        "# Linear Regression"
      ]
    },
    {
      "attachments": {},
      "cell_type": "markdown",
      "metadata": {
        "id": "TAlGXh6zTDNp"
      },
      "source": [
        "## The Normal Equation"
      ]
    },
    {
      "cell_type": "code",
      "execution_count": 9,
      "metadata": {
        "id": "VjXa-D38TDNq"
      },
      "outputs": [],
      "source": [
        "import numpy as np\n",
        "\n",
        "np.random.seed(42)  # to make this code example reproducible\n",
        "m = 100  # number of instances\n",
        "X = 2 * np.random.rand(m, 1)  # column vector\n",
        "y = 4 + 3 * X + np.random.randn(m, 1)  # column vector"
      ]
    },
    {
      "cell_type": "code",
      "execution_count": 10,
      "metadata": {
        "colab": {
          "base_uri": "https://localhost:8080/",
          "height": 395
        },
        "id": "ot-Nv_qfTDNq",
        "outputId": "6e50428f-d7bd-40bb-f6c1-12851b3d5c69"
      },
      "outputs": [
        {
          "data": {
            "image/png": "[encoded data removed]",
            "text/plain": [
              "<Figure size 432x288 with 1 Axes>"
            ]
          },
          "metadata": {
            "needs_background": "light"
          },
          "output_type": "display_data"
        }
      ],
      "source": [
        "# extra code – generates and saves Figure 4–1\n",
        "\n",
        "import matplotlib.pyplot as plt\n",
        "\n",
        "plt.figure(figsize=(6, 4))\n",
        "plt.plot(X, y, \"b.\")\n",
        "plt.xlabel(\"$x_1$\")\n",
        "plt.ylabel(\"$y$\", rotation=0)\n",
        "plt.axis([0, 2, 0, 15])\n",
        "plt.grid()\n",
        "save_fig(\"generated_data_plot\")\n",
        "plt.show()"
      ]
    },
    {
      "cell_type": "code",
      "execution_count": 11,
      "metadata": {
        "id": "haMder4ETDNq"
      },
      "outputs": [],
      "source": [
        "from sklearn.preprocessing import add_dummy_feature\n",
        "\n",
        "X_b = add_dummy_feature(X)  # add x0 = 1 to each instance\n",
        "theta_best = np.linalg.inv(X_b.T @ X_b) @ X_b.T @ y"
      ]
    },
    {
      "cell_type": "code",
      "execution_count": 12,
      "metadata": {
        "colab": {
          "base_uri": "https://localhost:8080/"
        },
        "id": "HGXTlQnOTDNq",
        "outputId": "60234139-995a-451c-c851-fbf9d6da5496"
      },
      "outputs": [
        {
          "data": {
            "text/plain": [
              "array([[4.21509616],\n",
              "       [2.77011339]])"
            ]
          },
          "execution_count": 12,
          "metadata": {},
          "output_type": "execute_result"
        }
      ],
      "source": [
        "theta_best"
      ]
    },
    {
      "cell_type": "code",
      "execution_count": 13,
      "metadata": {
        "colab": {
          "base_uri": "https://localhost:8080/"
        },
        "id": "nnkoVjYGTDNr",
        "outputId": "5c706827-3e55-4990-eaec-293203b7ccd3"
      },
      "outputs": [
        {
          "data": {
            "text/plain": [
              "array([[4.21509616],\n",
              "       [9.75532293]])"
            ]
          },
          "execution_count": 13,
          "metadata": {},
          "output_type": "execute_result"
        }
      ],
      "source": [
        "X_new = np.array([[0], [2]])\n",
        "X_new_b = add_dummy_feature(X_new)  # add x0 = 1 to each instance\n",
        "y_predict = X_new_b @ theta_best\n",
        "y_predict"
      ]
    },
    {
      "cell_type": "code",
      "execution_count": 14,
      "metadata": {
        "colab": {
          "base_uri": "https://localhost:8080/",
          "height": 395
        },
        "id": "d-20umhKTDNr",
        "outputId": "abcf83c0-008e-4b3c-f685-87d5de6ee894"
      },
      "outputs": [
        {
          "data": {
            "image/png": "[encoded data removed]",
            "text/plain": [
              "<Figure size 432x288 with 1 Axes>"
            ]
          },
          "metadata": {
            "needs_background": "light"
          },
          "output_type": "display_data"
        }
      ],
      "source": [
        "import matplotlib.pyplot as plt\n",
        "\n",
        "plt.figure(figsize=(6, 4))  # extra code – not needed, just formatting\n",
        "plt.plot(X_new, y_predict, \"r-\", label=\"Predictions\")\n",
        "plt.plot(X, y, \"b.\")\n",
        "\n",
        "# extra code – beautifies and saves Figure 4–2\n",
        "plt.xlabel(\"$x_1$\")\n",
        "plt.ylabel(\"$y$\", rotation=0)\n",
        "plt.axis([0, 2, 0, 15])\n",
        "plt.grid()\n",
        "plt.legend(loc=\"upper left\")\n",
        "save_fig(\"linear_model_predictions_plot\")\n",
        "\n",
        "plt.show()"
      ]
    },
    {
      "cell_type": "code",
      "execution_count": 15,
      "metadata": {
        "colab": {
          "base_uri": "https://localhost:8080/"
        },
        "id": "mP3VULiDTDNr",
        "outputId": "8400279f-588f-4546-fc44-20833ea91ad7"
      },
      "outputs": [
        {
          "data": {
            "text/plain": [
              "(array([4.21509616]), array([[2.77011339]]))"
            ]
          },
          "execution_count": 15,
          "metadata": {},
          "output_type": "execute_result"
        }
      ],
      "source": [
        "from sklearn.linear_model import LinearRegression\n",
        "\n",
        "lin_reg = LinearRegression()\n",
        "lin_reg.fit(X, y)\n",
        "lin_reg.intercept_, lin_reg.coef_"
      ]
    },
    {
      "cell_type": "code",
      "execution_count": 16,
      "metadata": {
        "colab": {
          "base_uri": "https://localhost:8080/"
        },
        "id": "hSsF0a21TDNr",
        "outputId": "7af2d66e-467a-465e-e09f-3be8f4932d5a"
      },
      "outputs": [
        {
          "data": {
            "text/plain": [
              "array([[4.21509616],\n",
              "       [9.75532293]])"
            ]
          },
          "execution_count": 16,
          "metadata": {},
          "output_type": "execute_result"
        }
      ],
      "source": [
        "lin_reg.predict(X_new)"
      ]
    },
    {
      "attachments": {},
      "cell_type": "markdown",
      "metadata": {
        "id": "WS0PsHWyTDNr"
      },
      "source": [
        "The `LinearRegression` class is based on the `scipy.linalg.lstsq()` function (the name stands for \"least squares\"), which you could call directly:"
      ]
    },
    {
      "cell_type": "code",
      "execution_count": 17,
      "metadata": {
        "colab": {
          "base_uri": "https://localhost:8080/"
        },
        "id": "Z0_HzuVBTDNs",
        "outputId": "b8223319-9d53-4473-f5d8-096880624b8c"
      },
      "outputs": [
        {
          "data": {
            "text/plain": [
              "array([[4.21509616],\n",
              "       [2.77011339]])"
            ]
          },
          "execution_count": 17,
          "metadata": {},
          "output_type": "execute_result"
        }
      ],
      "source": [
        "theta_best_svd, residuals, rank, s = np.linalg.lstsq(X_b, y, rcond=1e-6)\n",
        "theta_best_svd"
      ]
    },
    {
      "attachments": {},
      "cell_type": "markdown",
      "metadata": {
        "id": "LyvdViokTDNs"
      },
      "source": [
        "This function computes $\\mathbf{X}^+\\mathbf{y}$, where $\\mathbf{X}^{+}$ is the _pseudoinverse_ of $\\mathbf{X}$ (specifically the Moore-Penrose inverse). You can use `np.linalg.pinv()` to compute the pseudoinverse directly:"
      ]
    },
    {
      "cell_type": "code",
      "execution_count": 18,
      "metadata": {
        "colab": {
          "base_uri": "https://localhost:8080/"
        },
        "id": "5IvuysNbTDNs",
        "outputId": "a764904c-149c-47b3-996d-9b86f7ec74f9"
      },
      "outputs": [
        {
          "data": {
            "text/plain": [
              "array([[4.21509616],\n",
              "       [2.77011339]])"
            ]
          },
          "execution_count": 18,
          "metadata": {},
          "output_type": "execute_result"
        }
      ],
      "source": [
        "np.linalg.pinv(X_b) @ y"
      ]
    },
    {
      "attachments": {},
      "cell_type": "markdown",
      "metadata": {
        "id": "0vojs6PxTDNs"
      },
      "source": [
        "# Gradient Descent\n",
        "## Batch Gradient Descent"
      ]
    },
    {
      "cell_type": "code",
      "execution_count": 19,
      "metadata": {
        "id": "2w3FsYmHTDNs"
      },
      "outputs": [],
      "source": [
        "eta = 0.1  # learning rate\n",
        "n_epochs = 1000\n",
        "m = len(X_b)  # number of instances\n",
        "\n",
        "np.random.seed(42)\n",
        "theta = np.random.randn(2, 1)  # randomly initialized model parameters\n",
        "\n",
        "for epoch in range(n_epochs):\n",
        "    gradients = 2 / m * X_b.T @ (X_b @ theta - y)\n",
        "    theta = theta - eta * gradients"
      ]
    },
    {
      "attachments": {},
      "cell_type": "markdown",
      "metadata": {
        "id": "cXHHqVRfTDNt"
      },
      "source": [
        "The trained model parameters:"
      ]
    },
    {
      "cell_type": "code",
      "execution_count": 20,
      "metadata": {
        "colab": {
          "base_uri": "https://localhost:8080/"
        },
        "id": "SXr4jL8GTDNt",
        "outputId": "97a52b0f-3090-4f6e-ed22-7a9839c1f9e9"
      },
      "outputs": [
        {
          "data": {
            "text/plain": [
              "array([[4.21509616],\n",
              "       [2.77011339]])"
            ]
          },
          "execution_count": 20,
          "metadata": {},
          "output_type": "execute_result"
        }
      ],
      "source": [
        "theta"
      ]
    },
    {
      "cell_type": "code",
      "execution_count": 21,
      "metadata": {
        "colab": {
          "base_uri": "https://localhost:8080/",
          "height": 395
        },
        "id": "bEkg_m50TDNt",
        "outputId": "e7cbf4dc-c0ff-4b0c-db66-0f93e13a0c9a"
      },
      "outputs": [
        {
          "data": {
            "image/png": "[encoded data removed]",
            "text/plain": [
              "<Figure size 720x288 with 3 Axes>"
            ]
          },
          "metadata": {
            "needs_background": "light"
          },
          "output_type": "display_data"
        }
      ],
      "source": [
        "# extra code – generates and saves Figure 4–8\n",
        "\n",
        "import matplotlib as mpl\n",
        "\n",
        "def plot_gradient_descent(theta, eta):\n",
        "    m = len(X_b)\n",
        "    plt.plot(X, y, \"b.\")\n",
        "    n_epochs = 1000\n",
        "    n_shown = 20\n",
        "    theta_path = []\n",
        "    for epoch in range(n_epochs):\n",
        "        if epoch < n_shown:\n",
        "            y_predict = X_new_b @ theta\n",
        "            color = mpl.colors.rgb2hex(plt.cm.OrRd(epoch / n_shown + 0.15))\n",
        "            plt.plot(X_new, y_predict, linestyle=\"solid\", color=color)\n",
        "        gradients = 2 / m * X_b.T @ (X_b @ theta - y)\n",
        "        theta = theta - eta * gradients\n",
        "        theta_path.append(theta)\n",
        "    plt.xlabel(\"$x_1$\")\n",
        "    plt.axis([0, 2, 0, 15])\n",
        "    plt.grid()\n",
        "    plt.title(fr\"$\\eta = {eta}$\")\n",
        "    return theta_path\n",
        "\n",
        "np.random.seed(42)\n",
        "theta = np.random.randn(2, 1)  # random initialization\n",
        "\n",
        "plt.figure(figsize=(10, 4))\n",
        "plt.subplot(131)\n",
        "plot_gradient_descent(theta, eta=0.02)\n",
        "plt.ylabel(\"$y$\", rotation=0)\n",
        "plt.subplot(132)\n",
        "theta_path_bgd = plot_gradient_descent(theta, eta=0.1)\n",
        "plt.gca().axes.yaxis.set_ticklabels([])\n",
        "plt.subplot(133)\n",
        "plt.gca().axes.yaxis.set_ticklabels([])\n",
        "plot_gradient_descent(theta, eta=0.5)\n",
        "save_fig(\"gradient_descent_plot\")\n",
        "plt.show()"
      ]
    },
    {
      "attachments": {},
      "cell_type": "markdown",
      "metadata": {
        "id": "_NHh1EsKTDNt"
      },
      "source": [
        "## Stochastic Gradient Descent"
      ]
    },
    {
      "cell_type": "code",
      "execution_count": 22,
      "metadata": {
        "id": "slzxffJWTDNt"
      },
      "outputs": [],
      "source": [
        "theta_path_sgd = []  # extra code – we need to store the path of theta in the\n",
        "                     #              parameter space to plot the next figure"
      ]
    },
    {
      "cell_type": "code",
      "execution_count": 23,
      "metadata": {
        "colab": {
          "base_uri": "https://localhost:8080/"
        },
        "id": "1ogY_PnFcQ6f",
        "outputId": "4de2d9dc-cc99-48b5-c337-ef79abec8cd7"
      },
      "outputs": [
        {
          "data": {
            "text/plain": [
              "array([1.        , 0.74908024])"
            ]
          },
          "execution_count": 23,
          "metadata": {},
          "output_type": "execute_result"
        }
      ],
      "source": [
        "X_b[0]"
      ]
    },
    {
      "cell_type": "code",
      "execution_count": 24,
      "metadata": {
        "colab": {
          "base_uri": "https://localhost:8080/",
          "height": 395
        },
        "id": "SBDxMTQ8TDNt",
        "outputId": "32be081f-7133-4bc4-8034-8cfd387efe2e"
      },
      "outputs": [
        {
          "data": {
            "image/png": "[encoded data removed]",
            "text/plain": [
              "<Figure size 432x288 with 1 Axes>"
            ]
          },
          "metadata": {
            "needs_background": "light"
          },
          "output_type": "display_data"
        }
      ],
      "source": [
        "n_epochs = 50\n",
        "t0, t1 = 5, 50  # learning schedule hyperparameters\n",
        "\n",
        "m = len(X_b)  # number of instances \n",
        "\n",
        "def learning_schedule(t):\n",
        "    return t0 / (t + t1)\n",
        "\n",
        "np.random.seed(42)\n",
        "theta = np.random.randn(2, 1)  # random initialization\n",
        "\n",
        "n_shown = 20  # extra code – just needed to generate the figure below\n",
        "plt.figure(figsize=(6, 4))  # extra code – not needed, just formatting\n",
        "\n",
        "for epoch in range(n_epochs):\n",
        "    for iteration in range(m):\n",
        "\n",
        "        # extra code – these 4 lines are used to generate the figure\n",
        "        if epoch == 0 and iteration < n_shown:\n",
        "            y_predict = X_new_b @ theta\n",
        "            color = mpl.colors.rgb2hex(plt.cm.OrRd(iteration / n_shown + 0.15))\n",
        "            plt.plot(X_new, y_predict, color=color)\n",
        "\n",
        "        random_index = np.random.randint(m)\n",
        "        xi = X_b[random_index : random_index + 1]\n",
        "        yi = y[random_index : random_index + 1]\n",
        "        gradients = 2 * xi.T @ (xi @ theta - yi)  # for SGD, do not divide by m\n",
        "        eta = learning_schedule(epoch * m + iteration)\n",
        "        theta = theta - eta * gradients\n",
        "        theta_path_sgd.append(theta)  # extra code – to generate the figure\n",
        "\n",
        "# extra code – this section beautifies and saves Figure 4–10\n",
        "plt.plot(X, y, \"b.\")\n",
        "plt.xlabel(\"$x_1$\")\n",
        "plt.ylabel(\"$y$\", rotation=0)\n",
        "plt.axis([0, 2, 0, 15])\n",
        "plt.grid()\n",
        "save_fig(\"sgd_plot\")\n",
        "plt.show()"
      ]
    },
    {
      "cell_type": "code",
      "execution_count": 25,
      "metadata": {
        "colab": {
          "base_uri": "https://localhost:8080/"
        },
        "id": "m4vWPWWOTDNu",
        "outputId": "6458e456-6486-401e-e00f-bd17a7307743",
        "scrolled": true
      },
      "outputs": [
        {
          "data": {
            "text/plain": [
              "array([[4.21076011],\n",
              "       [2.74856079]])"
            ]
          },
          "execution_count": 25,
          "metadata": {},
          "output_type": "execute_result"
        }
      ],
      "source": [
        "theta"
      ]
    },
    {
      "cell_type": "code",
      "execution_count": 26,
      "metadata": {
        "colab": {
          "base_uri": "https://localhost:8080/",
          "height": 75
        },
        "id": "kYdtU18fTDNu",
        "outputId": "34159a6a-08f9-4a74-ddc9-50eed709e385"
      },
      "outputs": [
        {
          "data": {
            "text/html": [
              "<style>#sk-container-id-1 {color: black;background-color: white;}#sk-container-id-1 pre{padding: 0;}#sk-container-id-1 div.sk-toggleable {background-color: white;}#sk-container-id-1 label.sk-toggleable__label {cursor: pointer;display: block;width: 100%;margin-bottom: 0;padding: 0.3em;box-sizing: border-box;text-align: center;}#sk-container-id-1 label.sk-toggleable__label-arrow:before {content: \"▸\";float: left;margin-right: 0.25em;color: #696969;}#sk-container-id-1 label.sk-toggleable__label-arrow:hover:before {color: black;}#sk-container-id-1 div.sk-estimator:hover label.sk-toggleable__label-arrow:before {color: black;}#sk-container-id-1 div.sk-toggleable__content {max-height: 0;max-width: 0;overflow: hidden;text-align: left;background-color: #f0f8ff;}#sk-container-id-1 div.sk-toggleable__content pre {margin: 0.2em;color: black;border-radius: 0.25em;background-color: #f0f8ff;}#sk-container-id-1 input.sk-toggleable__control:checked~div.sk-toggleable__content {max-height: 200px;max-width: 100%;overflow: auto;}#sk-container-id-1 input.sk-toggleable__control:checked~label.sk-toggleable__label-arrow:before {content: \"▾\";}#sk-container-id-1 div.sk-estimator input.sk-toggleable__control:checked~label.sk-toggleable__label {background-color: #d4ebff;}#sk-container-id-1 div.sk-label input.sk-toggleable__control:checked~label.sk-toggleable__label {background-color: #d4ebff;}#sk-container-id-1 input.sk-hidden--visually {border: 0;clip: rect(1px 1px 1px 1px);clip: rect(1px, 1px, 1px, 1px);height: 1px;margin: -1px;overflow: hidden;padding: 0;position: absolute;width: 1px;}#sk-container-id-1 div.sk-estimator {font-family: monospace;background-color: #f0f8ff;border: 1px dotted black;border-radius: 0.25em;box-sizing: border-box;margin-bottom: 0.5em;}#sk-container-id-1 div.sk-estimator:hover {background-color: #d4ebff;}#sk-container-id-1 div.sk-parallel-item::after {content: \"\";width: 100%;border-bottom: 1px solid gray;flex-grow: 1;}#sk-container-id-1 div.sk-label:hover label.sk-toggleable__label {background-color: #d4ebff;}#sk-container-id-1 div.sk-serial::before {content: \"\";position: absolute;border-left: 1px solid gray;box-sizing: border-box;top: 0;bottom: 0;left: 50%;z-index: 0;}#sk-container-id-1 div.sk-serial {display: flex;flex-direction: column;align-items: center;background-color: white;padding-right: 0.2em;padding-left: 0.2em;position: relative;}#sk-container-id-1 div.sk-item {position: relative;z-index: 1;}#sk-container-id-1 div.sk-parallel {display: flex;align-items: stretch;justify-content: center;background-color: white;position: relative;}#sk-container-id-1 div.sk-item::before, #sk-container-id-1 div.sk-parallel-item::before {content: \"\";position: absolute;border-left: 1px solid gray;box-sizing: border-box;top: 0;bottom: 0;left: 50%;z-index: -1;}#sk-container-id-1 div.sk-parallel-item {display: flex;flex-direction: column;z-index: 1;position: relative;background-color: white;}#sk-container-id-1 div.sk-parallel-item:first-child::after {align-self: flex-end;width: 50%;}#sk-container-id-1 div.sk-parallel-item:last-child::after {align-self: flex-start;width: 50%;}#sk-container-id-1 div.sk-parallel-item:only-child::after {width: 0;}#sk-container-id-1 div.sk-dashed-wrapped {border: 1px dashed gray;margin: 0 0.4em 0.5em 0.4em;box-sizing: border-box;padding-bottom: 0.4em;background-color: white;}#sk-container-id-1 div.sk-label label {font-family: monospace;font-weight: bold;display: inline-block;line-height: 1.2em;}#sk-container-id-1 div.sk-label-container {text-align: center;}#sk-container-id-1 div.sk-container {/* jupyter's `normalize.less` sets `[hidden] { display: none; }` but bootstrap.min.css set `[hidden] { display: none !important; }` so we also need the `!important` here to be able to override the default hidden behavior on the sphinx rendered scikit-learn.org. See: https://github.com/scikit-learn/scikit-learn/issues/21755 */display: inline-block !important;position: relative;}#sk-container-id-1 div.sk-text-repr-fallback {display: none;}</style><div id=\"sk-container-id-1\" class=\"sk-top-container\"><div class=\"sk-text-repr-fallback\"><pre>SGDRegressor(n_iter_no_change=100, penalty=None, random_state=42, tol=1e-05)</pre><b>In a Jupyter environment, please rerun this cell to show the HTML representation or trust the notebook. <br />On GitHub, the HTML representation is unable to render, please try loading this page with nbviewer.org.</b></div><div class=\"sk-container\" hidden><div class=\"sk-item\"><div class=\"sk-estimator sk-toggleable\"><input class=\"sk-toggleable__control sk-hidden--visually\" id=\"sk-estimator-id-1\" type=\"checkbox\" checked><label for=\"sk-estimator-id-1\" class=\"sk-toggleable__label sk-toggleable__label-arrow\">SGDRegressor</label><div class=\"sk-toggleable__content\"><pre>SGDRegressor(n_iter_no_change=100, penalty=None, random_state=42, tol=1e-05)</pre></div></div></div></div></div>"
            ],
            "text/plain": [
              "SGDRegressor(n_iter_no_change=100, penalty=None, random_state=42, tol=1e-05)"
            ]
          },
          "execution_count": 26,
          "metadata": {},
          "output_type": "execute_result"
        }
      ],
      "source": [
        "from sklearn.linear_model import SGDRegressor\n",
        "\n",
        "sgd_reg = SGDRegressor(max_iter=1000, tol=1e-5, penalty=None, eta0=0.01,\n",
        "                       n_iter_no_change=100, random_state=42)\n",
        "sgd_reg.fit(X, y.ravel())  # y.ravel() because fit() expects 1D targets\n"
      ]
    },
    {
      "cell_type": "code",
      "execution_count": 27,
      "metadata": {
        "colab": {
          "base_uri": "https://localhost:8080/"
        },
        "id": "f992KlndTDNu",
        "outputId": "1312f7f0-f7c0-4ece-b660-08112d94e0f8"
      },
      "outputs": [
        {
          "data": {
            "text/plain": [
              "(array([4.21278812]), array([2.77270267]))"
            ]
          },
          "execution_count": 27,
          "metadata": {},
          "output_type": "execute_result"
        }
      ],
      "source": [
        "sgd_reg.intercept_, sgd_reg.coef_"
      ]
    },
    {
      "attachments": {},
      "cell_type": "markdown",
      "metadata": {
        "id": "Rc0eCLArTDNu"
      },
      "source": [
        "## Mini-batch gradient descent"
      ]
    },
    {
      "attachments": {},
      "cell_type": "markdown",
      "metadata": {
        "id": "gtNoThfMTDNv"
      },
      "source": [
        "The code in this section is used to generate the next figure, it is not in the book."
      ]
    },
    {
      "cell_type": "code",
      "execution_count": 28,
      "metadata": {
        "colab": {
          "base_uri": "https://localhost:8080/",
          "height": 395
        },
        "id": "pOTjHOyGTDNw",
        "outputId": "e6c2b594-24b6-4cac-cb3e-6bfc754a2b8e"
      },
      "outputs": [
        {
          "data": {
            "image/png": "[encoded data removed]",
            "text/plain": [
              "<Figure size 504x288 with 1 Axes>"
            ]
          },
          "metadata": {
            "needs_background": "light"
          },
          "output_type": "display_data"
        }
      ],
      "source": [
        "# extra code – this cell generates and saves Figure 4–11\n",
        "\n",
        "from math import ceil\n",
        "\n",
        "n_epochs = 50\n",
        "minibatch_size = 20\n",
        "n_batches_per_epoch = ceil(m / minibatch_size)\n",
        "\n",
        "np.random.seed(42)\n",
        "theta = np.random.randn(2, 1)  # random initialization\n",
        "\n",
        "t0, t1 = 200, 1000  # learning schedule hyperparameters\n",
        "\n",
        "def learning_schedule(t):\n",
        "    return t0 / (t + t1)\n",
        "\n",
        "theta_path_mgd = []\n",
        "for epoch in range(n_epochs):\n",
        "    shuffled_indices = np.random.permutation(m)\n",
        "    X_b_shuffled = X_b[shuffled_indices]\n",
        "    y_shuffled = y[shuffled_indices]\n",
        "    for iteration in range(0, n_batches_per_epoch):\n",
        "        idx = iteration * minibatch_size\n",
        "        xi = X_b_shuffled[idx : idx + minibatch_size]\n",
        "        yi = y_shuffled[idx : idx + minibatch_size]\n",
        "        gradients = 2 / minibatch_size * xi.T @ (xi @ theta - yi)\n",
        "        eta = learning_schedule(iteration)\n",
        "        theta = theta - eta * gradients\n",
        "        theta_path_mgd.append(theta)\n",
        "\n",
        "theta_path_bgd = np.array(theta_path_bgd)\n",
        "theta_path_sgd = np.array(theta_path_sgd)\n",
        "theta_path_mgd = np.array(theta_path_mgd)\n",
        "\n",
        "plt.figure(figsize=(7, 4))\n",
        "plt.plot(theta_path_sgd[:, 0], theta_path_sgd[:, 1], \"r-s\", linewidth=1,\n",
        "         label=\"Stochastic\")\n",
        "plt.plot(theta_path_mgd[:, 0], theta_path_mgd[:, 1], \"g-+\", linewidth=2,\n",
        "         label=\"Mini-batch\")\n",
        "plt.plot(theta_path_bgd[:, 0], theta_path_bgd[:, 1], \"b-o\", linewidth=3,\n",
        "         label=\"Batch\")\n",
        "plt.legend(loc=\"upper left\")\n",
        "plt.xlabel(r\"$\\theta_0$\")\n",
        "plt.ylabel(r\"$\\theta_1$   \", rotation=0)\n",
        "plt.axis([2.6, 4.6, 2.3, 3.4])\n",
        "plt.grid()\n",
        "save_fig(\"gradient_descent_paths_plot\")\n",
        "plt.show()"
      ]
    },
    {
      "attachments": {},
      "cell_type": "markdown",
      "metadata": {
        "id": "vWs75KfCTDNw"
      },
      "source": [
        "# Polynomial Regression"
      ]
    },
    {
      "cell_type": "code",
      "execution_count": 29,
      "metadata": {
        "id": "uR4yVdVqTDNw"
      },
      "outputs": [],
      "source": [
        "np.random.seed(42)\n",
        "m = 100\n",
        "X = 6 * np.random.rand(m, 1) - 3\n",
        "y = 0.5 * X ** 2 + X + 2 + np.random.randn(m, 1)"
      ]
    },
    {
      "cell_type": "code",
      "execution_count": 30,
      "metadata": {
        "colab": {
          "base_uri": "https://localhost:8080/",
          "height": 395
        },
        "id": "Myh_xJkATDNw",
        "outputId": "f0898bfb-a31f-4d20-ae1e-57a62e58dce0"
      },
      "outputs": [
        {
          "data": {
            "image/png": "[encoded data removed]",
            "text/plain": [
              "<Figure size 432x288 with 1 Axes>"
            ]
          },
          "metadata": {
            "needs_background": "light"
          },
          "output_type": "display_data"
        }
      ],
      "source": [
        "# extra code – this cell generates and saves Figure 4–12\n",
        "plt.figure(figsize=(6, 4))\n",
        "plt.plot(X, y, \"b.\")\n",
        "plt.xlabel(\"$x_1$\")\n",
        "plt.ylabel(\"$y$\", rotation=0)\n",
        "plt.axis([-3, 3, 0, 10])\n",
        "plt.grid()\n",
        "save_fig(\"quadratic_data_plot\")\n",
        "plt.show()"
      ]
    },
    {
      "cell_type": "code",
      "execution_count": 31,
      "metadata": {
        "colab": {
          "base_uri": "https://localhost:8080/"
        },
        "id": "gyTlNBO8TDNw",
        "outputId": "6521c0c3-1837-41ef-d610-8f64cdaf16d5"
      },
      "outputs": [
        {
          "data": {
            "text/plain": [
              "array([-0.75275929])"
            ]
          },
          "execution_count": 31,
          "metadata": {},
          "output_type": "execute_result"
        }
      ],
      "source": [
        "from sklearn.preprocessing import PolynomialFeatures\n",
        "\n",
        "poly_features = PolynomialFeatures(degree=2, include_bias=False)\n",
        "X_poly = poly_features.fit_transform(X)\n",
        "X[0]"
      ]
    },
    {
      "cell_type": "code",
      "execution_count": 32,
      "metadata": {
        "colab": {
          "base_uri": "https://localhost:8080/"
        },
        "id": "-OzHcCy0TDNx",
        "outputId": "987b5635-c740-4dd1-fdfd-0396a86c2d44"
      },
      "outputs": [
        {
          "data": {
            "text/plain": [
              "array([-0.75275929,  0.56664654])"
            ]
          },
          "execution_count": 32,
          "metadata": {},
          "output_type": "execute_result"
        }
      ],
      "source": [
        "X_poly[0]"
      ]
    },
    {
      "cell_type": "code",
      "execution_count": 33,
      "metadata": {
        "colab": {
          "base_uri": "https://localhost:8080/"
        },
        "id": "s4a8HM9sTDNx",
        "outputId": "1157e966-20a0-4d5f-c16d-1714841c3c3a"
      },
      "outputs": [
        {
          "data": {
            "text/plain": [
              "(array([1.78134581]), array([[0.93366893, 0.56456263]]))"
            ]
          },
          "execution_count": 33,
          "metadata": {},
          "output_type": "execute_result"
        }
      ],
      "source": [
        "lin_reg = LinearRegression()\n",
        "lin_reg.fit(X_poly, y)\n",
        "lin_reg.intercept_, lin_reg.coef_"
      ]
    },
    {
      "cell_type": "code",
      "execution_count": 34,
      "metadata": {
        "colab": {
          "base_uri": "https://localhost:8080/",
          "height": 395
        },
        "id": "bWwLsWC0TDNx",
        "outputId": "f90fb29e-d2c3-474b-8e06-bf87a8d4533c"
      },
      "outputs": [
        {
          "data": {
            "image/png": "[encoded data removed]",
            "text/plain": [
              "<Figure size 432x288 with 1 Axes>"
            ]
          },
          "metadata": {
            "needs_background": "light"
          },
          "output_type": "display_data"
        }
      ],
      "source": [
        "# extra code – this cell generates and saves Figure 4–13\n",
        "\n",
        "X_new = np.linspace(-3, 3, 100).reshape(100, 1)\n",
        "X_new_poly = poly_features.transform(X_new)\n",
        "y_new = lin_reg.predict(X_new_poly)\n",
        "\n",
        "plt.figure(figsize=(6, 4))\n",
        "plt.plot(X, y, \"b.\")\n",
        "plt.plot(X_new, y_new, \"r-\", linewidth=2, label=\"Predictions\")\n",
        "plt.xlabel(\"$x_1$\")\n",
        "plt.ylabel(\"$y$\", rotation=0)\n",
        "plt.legend(loc=\"upper left\")\n",
        "plt.axis([-3, 3, 0, 10])\n",
        "plt.grid()\n",
        "save_fig(\"quadratic_predictions_plot\")\n",
        "plt.show()"
      ]
    },
    {
      "cell_type": "code",
      "execution_count": 35,
      "metadata": {
        "colab": {
          "base_uri": "https://localhost:8080/",
          "height": 395
        },
        "id": "XVVVK0Z6TDNx",
        "outputId": "5aa7789c-9778-4fc5-aa3b-c1165d420eae"
      },
      "outputs": [
        {
          "data": {
            "image/png": "[encoded data removed]",
            "text/plain": [
              "<Figure size 432x288 with 1 Axes>"
            ]
          },
          "metadata": {
            "needs_background": "light"
          },
          "output_type": "display_data"
        }
      ],
      "source": [
        "# extra code – this cell generates and saves Figure 4–14\n",
        "\n",
        "from sklearn.preprocessing import StandardScaler\n",
        "from sklearn.pipeline import make_pipeline\n",
        "\n",
        "plt.figure(figsize=(6, 4))\n",
        "\n",
        "for style, width, degree in ((\"r-+\", 2, 1), (\"b--\", 2, 2), (\"g-\", 1, 300)):\n",
        "    polybig_features = PolynomialFeatures(degree=degree, include_bias=False)\n",
        "    std_scaler = StandardScaler()\n",
        "    lin_reg = LinearRegression()\n",
        "    polynomial_regression = make_pipeline(polybig_features, std_scaler, lin_reg)\n",
        "    polynomial_regression.fit(X, y)\n",
        "    y_newbig = polynomial_regression.predict(X_new)\n",
        "    label = f\"{degree} degree{'s' if degree > 1 else ''}\"\n",
        "    plt.plot(X_new, y_newbig, style, label=label, linewidth=width)\n",
        "\n",
        "plt.plot(X, y, \"b.\", linewidth=3)\n",
        "plt.legend(loc=\"upper left\")\n",
        "plt.xlabel(\"$x_1$\")\n",
        "plt.ylabel(\"$y$\", rotation=0)\n",
        "plt.axis([-3, 3, 0, 10])\n",
        "plt.grid()\n",
        "save_fig(\"high_degree_polynomials_plot\")\n",
        "plt.show()"
      ]
    },
    {
      "attachments": {},
      "cell_type": "markdown",
      "metadata": {
        "id": "bBRRQWSUTDNx"
      },
      "source": [
        "# Learning Curves"
      ]
    },
    {
      "cell_type": "code",
      "execution_count": 36,
      "metadata": {
        "colab": {
          "base_uri": "https://localhost:8080/",
          "height": 395
        },
        "id": "f9xCS2fDTDNx",
        "outputId": "a27c2422-3b7f-47de-a70d-9e8aa1d7d020"
      },
      "outputs": [
        {
          "data": {
            "image/png": "[encoded data removed]",
            "text/plain": [
              "<Figure size 432x288 with 1 Axes>"
            ]
          },
          "metadata": {
            "needs_background": "light"
          },
          "output_type": "display_data"
        }
      ],
      "source": [
        "from sklearn.model_selection import learning_curve\n",
        "\n",
        "train_sizes, train_scores, valid_scores = learning_curve(\n",
        "    LinearRegression(), X, y, train_sizes=np.linspace(0.01, 1.0, 40), cv=5,\n",
        "    scoring=\"neg_root_mean_squared_error\"\n",
        ")\n",
        "train_errors = -train_scores.mean(axis=1)\n",
        "valid_errors = -valid_scores.mean(axis=1)\n",
        "\n",
        "plt.figure(figsize=(6, 4))  # extra code – not needed, just formatting\n",
        "plt.plot(train_sizes, train_errors, \"r-+\", linewidth=2, label=\"train\")\n",
        "plt.plot(train_sizes, valid_errors, \"b-\", linewidth=3, label=\"valid\")\n",
        "\n",
        "# extra code – beautifies and saves Figure 4–15\n",
        "plt.xlabel(\"Training set size\")\n",
        "plt.ylabel(\"RMSE\")\n",
        "plt.grid()\n",
        "plt.legend(loc=\"upper right\")\n",
        "plt.axis([0, 80, 0, 2.5])\n",
        "save_fig(\"underfitting_learning_curves_plot\")\n",
        "\n",
        "plt.show()"
      ]
    },
    {
      "cell_type": "code",
      "execution_count": 37,
      "metadata": {
        "colab": {
          "base_uri": "https://localhost:8080/"
        },
        "id": "DD2HxWewTDNy",
        "outputId": "3bb004d0-d0c7-47b6-cad1-a2e59a9a5fa5"
      },
      "outputs": [
        {
          "name": "stdout",
          "output_type": "stream",
          "text": [
            "[learning_curve] Training set sizes: [ 1  2  4  6  8 10 12 15 17 19 21 23 25 27 29 31 33 35 37 39 41 43 45 47\n",
            " 49 51 53 55 57 59 61 63 65 67 69 71 73 75 77 80]\n"
          ]
        },
        {
          "name": "stderr",
          "output_type": "stream",
          "text": [
            "[Parallel(n_jobs=1)]: Using backend SequentialBackend with 1 concurrent workers.\n",
            "[Parallel(n_jobs=1)]: Done 200 out of 200 | elapsed:    4.1s finished\n"
          ]
        }
      ],
      "source": [
        "from sklearn.pipeline import make_pipeline\n",
        "\n",
        "polynomial_regression = make_pipeline(\n",
        "    PolynomialFeatures(degree=10, include_bias=False),\n",
        "    LinearRegression()\n",
        ")\n",
        "train_sizes, train_scores, valid_scores = learning_curve(\n",
        "    polynomial_regression, X, y, train_sizes=np.linspace(0.01,1.0,40), cv=5,\n",
        "    scoring=\"neg_root_mean_squared_error\" , verbose=1\n",
        ")\n",
        "\n"
      ]
    },
    {
      "cell_type": "code",
      "execution_count": 38,
      "metadata": {
        "colab": {
          "base_uri": "https://localhost:8080/",
          "height": 395
        },
        "id": "86fHGZngTDNy",
        "outputId": "da94ffa9-fcb1-4465-993e-ebdadc2c5b3e"
      },
      "outputs": [
        {
          "data": {
            "image/png": "[encoded data removed]",
            "text/plain": [
              "<Figure size 432x288 with 1 Axes>"
            ]
          },
          "metadata": {
            "needs_background": "light"
          },
          "output_type": "display_data"
        }
      ],
      "source": [
        "# extra code – generates and saves Figure 4–16\n",
        "\n",
        "train_errors = -train_scores.mean(axis=1)\n",
        "valid_errors = -valid_scores.mean(axis=1)\n",
        "\n",
        "plt.figure(figsize=(6, 4))\n",
        "plt.plot(train_sizes, train_errors, \"r-+\", linewidth=2, label=\"train\")\n",
        "plt.plot(train_sizes, valid_errors, \"b-\", linewidth=3, label=\"valid\")\n",
        "plt.legend(loc=\"upper right\")\n",
        "plt.xlabel(\"Training set size\")\n",
        "plt.ylabel(\"RMSE\")\n",
        "plt.grid()\n",
        "plt.axis([0, 80, 0, 2.5])\n",
        "save_fig(\"learning_curves_plot\")\n",
        "plt.show()"
      ]
    },
    {
      "cell_type": "code",
      "execution_count": 39,
      "metadata": {
        "colab": {
          "base_uri": "https://localhost:8080/",
          "height": 464
        },
        "id": "X0gUnKk3LrG8",
        "outputId": "af9ab086-0f64-421e-d4fd-89824fd63d49"
      },
      "outputs": [
        {
          "name": "stdout",
          "output_type": "stream",
          "text": [
            "[learning_curve] Training set sizes: [ 1  2  4  6  8 10 12 15 17 19 21 23 25 27 29 31 33 35 37 39 41 43 45 47\n",
            " 49 51 53 55 57 59 61 63 65 67 69 71 73 75 77 80]\n"
          ]
        },
        {
          "name": "stderr",
          "output_type": "stream",
          "text": [
            "[Parallel(n_jobs=1)]: Using backend SequentialBackend with 1 concurrent workers.\n",
            "[Parallel(n_jobs=1)]: Done 200 out of 200 | elapsed:    1.2s finished\n"
          ]
        },
        {
          "data": {
            "image/png": "[encoded data removed]",
            "text/plain": [
              "<Figure size 432x288 with 1 Axes>"
            ]
          },
          "metadata": {
            "needs_background": "light"
          },
          "output_type": "display_data"
        }
      ],
      "source": [
        "# Checking degree=2\n",
        "\n",
        "from sklearn.pipeline import make_pipeline\n",
        "\n",
        "polynomial_regression = make_pipeline(\n",
        "    PolynomialFeatures(degree=2, include_bias=False),\n",
        "    LinearRegression()\n",
        ")\n",
        "train_sizes, train_scores, valid_scores = learning_curve(\n",
        "    polynomial_regression, X, y, train_sizes=np.linspace(0.01,1.0,40), cv=5,\n",
        "    scoring=\"neg_root_mean_squared_error\" , verbose=1\n",
        ")\n",
        "\n",
        "train_errors = -train_scores.mean(axis=1)\n",
        "valid_errors = -valid_scores.mean(axis=1)\n",
        "\n",
        "plt.figure(figsize=(6, 4))\n",
        "plt.plot(train_sizes, train_errors, \"r-+\", linewidth=2, label=\"train\")\n",
        "plt.plot(train_sizes, valid_errors, \"b-\", linewidth=3, label=\"valid\")\n",
        "plt.legend(loc=\"upper right\")\n",
        "plt.xlabel(\"Training set size\")\n",
        "plt.ylabel(\"RMSE\")\n",
        "plt.grid()\n",
        "plt.axis([0, 80, 0, 2.5])\n",
        "save_fig(\"learning_curves_plot\")\n",
        "plt.show()"
      ]
    },
    {
      "attachments": {},
      "cell_type": "markdown",
      "metadata": {
        "id": "cLnKdE9zL70N"
      },
      "source": [
        "## Finding Underfitting Models \n",
        "\n",
        "There are several ways to check if a model is underfitting, which refers to a situation where the model is not complex enough to capture the underlying patterns in the data. Here are some common methods:\n",
        "\n",
        "1. Training and Validation Loss: The most common way to check for underfitting is to monitor the training and validation loss during training. If both the training and validation loss are high and plateau early, it's a sign that the model is not complex enough to capture the underlying patterns in the data.\n",
        "\n",
        "2. Learning Curve: Plotting the learning curve is another way to check for underfitting. The learning curve shows the training and validation loss as a function of the number of training examples. If the learning curve shows that the validation loss is consistently higher than the training loss, it's a sign that the model is not complex enough to capture the underlying patterns in the data.\n",
        "\n",
        "3. Model Performance: If the model is underfitting, the performance on the training set will be poor, and the performance on the test set will be even worse. So, checking the performance of the model on both the training and test sets can help to identify underfitting.\n",
        "\n",
        "4. Model Complexity: If the model is underfitting, increasing the complexity of the model may help. Adding more layers or increasing the number of neurons in each layer can increase the model's capacity to capture complex patterns in the data.\n",
        "\n",
        "It's important to note that sometimes underfitting can be caused by other factors such as insufficient training time, poor choice of hyperparameters, or poor quality of the data. Therefore, it's important to carefully examine all possible factors that may contribute to underfitting."
      ]
    },
    {
      "attachments": {},
      "cell_type": "markdown",
      "metadata": {
        "id": "PkeiT9Z9TDNy"
      },
      "source": [
        "# Regularized Linear Models"
      ]
    },
    {
      "attachments": {},
      "cell_type": "markdown",
      "metadata": {
        "id": "X8UzRGGwTDNy"
      },
      "source": [
        "## Ridge Regression"
      ]
    },
    {
      "attachments": {},
      "cell_type": "markdown",
      "metadata": {
        "id": "kZMOjA3KTDNy"
      },
      "source": [
        "Let's generate a very small and noisy linear dataset:"
      ]
    },
    {
      "cell_type": "code",
      "execution_count": 40,
      "metadata": {
        "id": "wTfAHcfQTDNy"
      },
      "outputs": [],
      "source": [
        "# extra code – we've done this type of generation several times before\n",
        "np.random.seed(42)\n",
        "m = 20\n",
        "X = 3 * np.random.rand(m, 1)\n",
        "y = 1 + 0.5 * X + np.random.randn(m, 1) / 1.5\n",
        "X_new = np.linspace(0, 3, 100).reshape(100, 1)"
      ]
    },
    {
      "cell_type": "code",
      "execution_count": 41,
      "metadata": {
        "colab": {
          "base_uri": "https://localhost:8080/",
          "height": 398
        },
        "id": "XVLwjHKPTDNz",
        "outputId": "315b9193-5216-4b06-97cf-5121a3bf283b"
      },
      "outputs": [
        {
          "data": {
            "image/png": "[encoded data removed]",
            "text/plain": [
              "<Figure size 432x288 with 1 Axes>"
            ]
          },
          "metadata": {
            "needs_background": "light"
          },
          "output_type": "display_data"
        }
      ],
      "source": [
        "# extra code – a quick peek at the dataset we just generated\n",
        "plt.figure(figsize=(6, 4))\n",
        "plt.plot(X, y, \".\")\n",
        "plt.xlabel(\"$x_1$\")\n",
        "plt.ylabel(\"$y$  \", rotation=0)\n",
        "plt.axis([0, 3, 0, 3.5])\n",
        "plt.grid()\n",
        "plt.show()"
      ]
    },
    {
      "cell_type": "code",
      "execution_count": 42,
      "metadata": {
        "colab": {
          "base_uri": "https://localhost:8080/"
        },
        "id": "k69bO1RATDNz",
        "outputId": "d7bd7aac-25e0-40db-df79-5fd482de98ad"
      },
      "outputs": [
        {
          "data": {
            "text/plain": [
              "array([[1.55325833]])"
            ]
          },
          "execution_count": 42,
          "metadata": {},
          "output_type": "execute_result"
        }
      ],
      "source": [
        "from sklearn.linear_model import Ridge\n",
        "\n",
        "ridge_reg = Ridge(alpha=0.1, solver=\"cholesky\")\n",
        "ridge_reg.fit(X, y)\n",
        "ridge_reg.predict([[1.5]])"
      ]
    },
    {
      "cell_type": "code",
      "execution_count": 43,
      "metadata": {
        "colab": {
          "base_uri": "https://localhost:8080/",
          "height": 345
        },
        "id": "pG5khjzvTDNz",
        "outputId": "28fe3e3f-20f4-424f-ba89-c6530ad6ea2d"
      },
      "outputs": [
        {
          "data": {
            "image/png": "[encoded data removed]",
            "text/plain": [
              "<Figure size 648x252 with 2 Axes>"
            ]
          },
          "metadata": {
            "needs_background": "light"
          },
          "output_type": "display_data"
        }
      ],
      "source": [
        "# extra code – this cell generates and saves Figure 4–17\n",
        "\n",
        "def plot_model(model_class, polynomial, alphas, **model_kwargs):\n",
        "    plt.plot(X, y, \"b.\", linewidth=3)\n",
        "    for alpha, style in zip(alphas, (\"b:\", \"g--\", \"r-\")):\n",
        "        if alpha > 0:\n",
        "            model = model_class(alpha, **model_kwargs)\n",
        "        else:\n",
        "            model = LinearRegression()\n",
        "        if polynomial:\n",
        "            model = make_pipeline(\n",
        "                PolynomialFeatures(degree=10, include_bias=False),\n",
        "                StandardScaler(),\n",
        "                model)\n",
        "        model.fit(X, y)\n",
        "        y_new_regul = model.predict(X_new)\n",
        "        plt.plot(X_new, y_new_regul, style, linewidth=2,\n",
        "                 label=fr\"$\\alpha = {alpha}$\")\n",
        "    plt.legend(loc=\"upper left\")\n",
        "    plt.xlabel(\"$x_1$\")\n",
        "    plt.axis([0, 3, 0, 3.5])\n",
        "    plt.grid()\n",
        "\n",
        "plt.figure(figsize=(9, 3.5))\n",
        "plt.subplot(121)\n",
        "plot_model(Ridge, polynomial=False, alphas=(0, 10, 100), random_state=42)\n",
        "plt.ylabel(\"$y$  \", rotation=0)\n",
        "plt.subplot(122)\n",
        "plot_model(Ridge, polynomial=True, alphas=(0, 10**-5, 1), random_state=42)\n",
        "plt.gca().axes.yaxis.set_ticklabels([])\n",
        "save_fig(\"ridge_regression_plot\")\n",
        "plt.show()"
      ]
    },
    {
      "cell_type": "code",
      "execution_count": 44,
      "metadata": {
        "colab": {
          "base_uri": "https://localhost:8080/"
        },
        "id": "bO-ZpyItTDNz",
        "outputId": "b1a70e3a-6c57-4070-923e-e4956e035604"
      },
      "outputs": [
        {
          "data": {
            "text/plain": [
              "array([1.55302613])"
            ]
          },
          "execution_count": 44,
          "metadata": {},
          "output_type": "execute_result"
        }
      ],
      "source": [
        "sgd_reg = SGDRegressor(penalty=\"l2\", alpha=0.1 / m, tol=None,\n",
        "                       max_iter=1000, eta0=0.01, random_state=42)\n",
        "sgd_reg.fit(X, y.ravel())  # y.ravel() because fit() expects 1D targets\n",
        "sgd_reg.predict([[1.5]])"
      ]
    },
    {
      "cell_type": "code",
      "execution_count": 45,
      "metadata": {
        "colab": {
          "base_uri": "https://localhost:8080/"
        },
        "id": "dmOBLeFPTDNz",
        "outputId": "44dce0c5-0042-480a-af6e-aa93932fe4d7"
      },
      "outputs": [
        {
          "data": {
            "text/plain": [
              "array([[1.55326019]])"
            ]
          },
          "execution_count": 45,
          "metadata": {},
          "output_type": "execute_result"
        }
      ],
      "source": [
        "# extra code – show that we get roughly the same solution as earlier when\n",
        "#              we use Stochastic Average GD (solver=\"sag\")\n",
        "ridge_reg = Ridge(alpha=0.1, solver=\"sag\", random_state=42)\n",
        "ridge_reg.fit(X, y)\n",
        "ridge_reg.predict([[1.5]])"
      ]
    },
    {
      "cell_type": "code",
      "execution_count": 46,
      "metadata": {
        "colab": {
          "base_uri": "https://localhost:8080/"
        },
        "id": "NKy1DG13TDN0",
        "outputId": "c72b37f6-245e-46b0-e7e3-a861847e63e4"
      },
      "outputs": [
        {
          "data": {
            "text/plain": [
              "array([[0.97898394],\n",
              "       [0.3828496 ]])"
            ]
          },
          "execution_count": 46,
          "metadata": {},
          "output_type": "execute_result"
        }
      ],
      "source": [
        "# extra code – shows the closed form solution of Ridge regression,\n",
        "#              compare with the next Ridge model's learned parameters below\n",
        "alpha = 0.1\n",
        "A = np.array([[0., 0.], [0., 1.]])\n",
        "X_b = np.c_[np.ones(m), X]\n",
        "np.linalg.inv(X_b.T @ X_b + alpha * A) @ X_b.T @ y"
      ]
    },
    {
      "cell_type": "code",
      "execution_count": 47,
      "metadata": {
        "colab": {
          "base_uri": "https://localhost:8080/"
        },
        "id": "kOHiRAIqTDN0",
        "outputId": "c2c5eaff-6ed0-4a12-e773-ebe7484dbedb"
      },
      "outputs": [
        {
          "data": {
            "text/plain": [
              "(array([0.97896386]), array([[0.38286422]]))"
            ]
          },
          "execution_count": 47,
          "metadata": {},
          "output_type": "execute_result"
        }
      ],
      "source": [
        "ridge_reg.intercept_, ridge_reg.coef_  # extra code"
      ]
    },
    {
      "attachments": {},
      "cell_type": "markdown",
      "metadata": {
        "id": "7r0wzT6ZTDN0"
      },
      "source": [
        "## Lasso Regression"
      ]
    },
    {
      "cell_type": "code",
      "execution_count": 48,
      "metadata": {
        "id": "oASgu8tiTDN0"
      },
      "outputs": [
        {
          "data": {
            "text/plain": [
              "array([1.53788174])"
            ]
          },
          "execution_count": 48,
          "metadata": {},
          "output_type": "execute_result"
        }
      ],
      "source": [
        "from sklearn.linear_model import Lasso\n",
        "\n",
        "lasso_reg = Lasso(alpha=0.1)\n",
        "lasso_reg.fit(X, y)\n",
        "lasso_reg.predict([[1.5]])"
      ]
    },
    {
      "cell_type": "code",
      "execution_count": 49,
      "metadata": {
        "id": "qOHKRsEtTDN0"
      },
      "outputs": [
        {
          "data": {
            "image/png": "[encoded data removed]",
            "text/plain": [
              "<Figure size 648x252 with 2 Axes>"
            ]
          },
          "metadata": {
            "needs_background": "light"
          },
          "output_type": "display_data"
        }
      ],
      "source": [
        "# extra code – this cell generates and saves Figure 4–18\n",
        "plt.figure(figsize=(9, 3.5))\n",
        "plt.subplot(121)\n",
        "plot_model(Lasso, polynomial=False, alphas=(0, 0.1, 1), random_state=42)\n",
        "plt.ylabel(\"$y$  \", rotation=0)\n",
        "plt.subplot(122)\n",
        "plot_model(Lasso, polynomial=True, alphas=(0, 1e-2, 1), random_state=42)\n",
        "plt.gca().axes.yaxis.set_ticklabels([])\n",
        "save_fig(\"lasso_regression_plot\")\n",
        "plt.show()"
      ]
    },
    {
      "cell_type": "code",
      "execution_count": 50,
      "metadata": {
        "id": "btkbZovKTDN1"
      },
      "outputs": [
        {
          "data": {
            "image/png": "[encoded data removed]",
            "text/plain": [
              "<Figure size 727.2x576 with 4 Axes>"
            ]
          },
          "metadata": {
            "needs_background": "light"
          },
          "output_type": "display_data"
        }
      ],
      "source": [
        "# extra code – this BIG cell generates and saves Figure 4–19\n",
        "\n",
        "t1a, t1b, t2a, t2b = -1, 3, -1.5, 1.5\n",
        "\n",
        "t1s = np.linspace(t1a, t1b, 500)\n",
        "t2s = np.linspace(t2a, t2b, 500)\n",
        "t1, t2 = np.meshgrid(t1s, t2s)\n",
        "T = np.c_[t1.ravel(), t2.ravel()]\n",
        "Xr = np.array([[1, 1], [1, -1], [1, 0.5]])\n",
        "yr = 2 * Xr[:, :1] + 0.5 * Xr[:, 1:]\n",
        "\n",
        "J = (1 / len(Xr) * ((T @ Xr.T - yr.T) ** 2).sum(axis=1)).reshape(t1.shape)\n",
        "\n",
        "N1 = np.linalg.norm(T, ord=1, axis=1).reshape(t1.shape)\n",
        "N2 = np.linalg.norm(T, ord=2, axis=1).reshape(t1.shape)\n",
        "\n",
        "t_min_idx = np.unravel_index(J.argmin(), J.shape)\n",
        "t1_min, t2_min = t1[t_min_idx], t2[t_min_idx]\n",
        "\n",
        "t_init = np.array([[0.25], [-1]])\n",
        "\n",
        "def bgd_path(theta, X, y, l1, l2, core=1, eta=0.05, n_iterations=200):\n",
        "    path = [theta]\n",
        "    for iteration in range(n_iterations):\n",
        "        gradients = (core * 2 / len(X) * X.T @ (X @ theta - y)\n",
        "                     + l1 * np.sign(theta) + l2 * theta)\n",
        "        theta = theta - eta * gradients\n",
        "        path.append(theta)\n",
        "    return np.array(path)\n",
        "\n",
        "fig, axes = plt.subplots(2, 2, sharex=True, sharey=True, figsize=(10.1, 8))\n",
        "\n",
        "for i, N, l1, l2, title in ((0, N1, 2.0, 0, \"Lasso\"), (1, N2, 0, 2.0, \"Ridge\")):\n",
        "    JR = J + l1 * N1 + l2 * 0.5 * N2 ** 2\n",
        "\n",
        "    tr_min_idx = np.unravel_index(JR.argmin(), JR.shape)\n",
        "    t1r_min, t2r_min = t1[tr_min_idx], t2[tr_min_idx]\n",
        "\n",
        "    levels = np.exp(np.linspace(0, 1, 20)) - 1\n",
        "    levelsJ = levels * (J.max() - J.min()) + J.min()\n",
        "    levelsJR = levels * (JR.max() - JR.min()) + JR.min()\n",
        "    levelsN = np.linspace(0, N.max(), 10)\n",
        "\n",
        "    path_J = bgd_path(t_init, Xr, yr, l1=0, l2=0)\n",
        "    path_JR = bgd_path(t_init, Xr, yr, l1, l2)\n",
        "    path_N = bgd_path(theta=np.array([[2.0], [0.5]]), X=Xr, y=yr,\n",
        "                      l1=np.sign(l1) / 3, l2=np.sign(l2), core=0)\n",
        "    ax = axes[i, 0]\n",
        "    ax.grid()\n",
        "    ax.axhline(y=0, color=\"k\")\n",
        "    ax.axvline(x=0, color=\"k\")\n",
        "    ax.contourf(t1, t2, N / 2.0, levels=levelsN)\n",
        "    ax.plot(path_N[:, 0], path_N[:, 1], \"y--\")\n",
        "    ax.plot(0, 0, \"ys\")\n",
        "    ax.plot(t1_min, t2_min, \"ys\")\n",
        "    ax.set_title(fr\"$\\ell_{i + 1}$ penalty\")\n",
        "    ax.axis([t1a, t1b, t2a, t2b])\n",
        "    if i == 1:\n",
        "        ax.set_xlabel(r\"$\\theta_1$\")\n",
        "    ax.set_ylabel(r\"$\\theta_2$\", rotation=0)\n",
        "\n",
        "    ax = axes[i, 1]\n",
        "    ax.grid()\n",
        "    ax.axhline(y=0, color=\"k\")\n",
        "    ax.axvline(x=0, color=\"k\")\n",
        "    ax.contourf(t1, t2, JR, levels=levelsJR, alpha=0.9)\n",
        "    ax.plot(path_JR[:, 0], path_JR[:, 1], \"w-o\")\n",
        "    ax.plot(path_N[:, 0], path_N[:, 1], \"y--\")\n",
        "    ax.plot(0, 0, \"ys\")\n",
        "    ax.plot(t1_min, t2_min, \"ys\")\n",
        "    ax.plot(t1r_min, t2r_min, \"rs\")\n",
        "    ax.set_title(title)\n",
        "    ax.axis([t1a, t1b, t2a, t2b])\n",
        "    if i == 1:\n",
        "        ax.set_xlabel(r\"$\\theta_1$\")\n",
        "\n",
        "save_fig(\"lasso_vs_ridge_plot\")\n",
        "plt.show()"
      ]
    },
    {
      "attachments": {},
      "cell_type": "markdown",
      "metadata": {
        "id": "dCRFZfGdTDN1"
      },
      "source": [
        "## Elastic Net"
      ]
    },
    {
      "cell_type": "code",
      "execution_count": null,
      "metadata": {
        "id": "M54bXbl4TDN1"
      },
      "outputs": [],
      "source": [
        "from sklearn.linear_model import ElasticNet\n",
        "\n",
        "elastic_net = ElasticNet(alpha=0.1, l1_ratio=0.5)\n",
        "elastic_net.fit(X, y)\n",
        "elastic_net.predict([[1.5]])"
      ]
    },
    {
      "attachments": {},
      "cell_type": "markdown",
      "metadata": {
        "id": "qrbWzdV4TDN2"
      },
      "source": [
        "## Early Stopping"
      ]
    },
    {
      "attachments": {},
      "cell_type": "markdown",
      "metadata": {
        "id": "YY0Di9m9TDN2"
      },
      "source": [
        "Let's go back to the quadratic dataset we used earlier:"
      ]
    },
    {
      "cell_type": "code",
      "execution_count": null,
      "metadata": {
        "id": "K_BkfXugTDN2"
      },
      "outputs": [],
      "source": [
        "from copy import deepcopy\n",
        "from sklearn.metrics import mean_squared_error\n",
        "from sklearn.preprocessing import StandardScaler\n",
        "\n",
        "# extra code – creates the same quadratic dataset as earlier and splits it\n",
        "np.random.seed(42)\n",
        "m = 100\n",
        "X = 6 * np.random.rand(m, 1) - 3\n",
        "y = 0.5 * X ** 2 + X + 2 + np.random.randn(m, 1)\n",
        "X_train, y_train = X[: m // 2], y[: m // 2, 0]\n",
        "X_valid, y_valid = X[m // 2 :], y[m // 2 :, 0]\n",
        "\n",
        "preprocessing = make_pipeline(PolynomialFeatures(degree=90, include_bias=False),\n",
        "                              StandardScaler())\n",
        "X_train_prep = preprocessing.fit_transform(X_train)\n",
        "X_valid_prep = preprocessing.transform(X_valid)\n",
        "sgd_reg = SGDRegressor(penalty=None, eta0=0.002, random_state=42)\n",
        "n_epochs = 500\n",
        "best_valid_rmse = float('inf')\n",
        "train_errors, val_errors = [], []  # extra code – it's for the figure below\n",
        "\n",
        "for epoch in range(n_epochs):\n",
        "    sgd_reg.partial_fit(X_train_prep, y_train)\n",
        "    y_valid_predict = sgd_reg.predict(X_valid_prep)\n",
        "    val_error = mean_squared_error(y_valid, y_valid_predict, squared=False)\n",
        "    if val_error < best_valid_rmse:\n",
        "        best_valid_rmse = val_error\n",
        "        best_model = deepcopy(sgd_reg)\n",
        "\n",
        "    # extra code – we evaluate the train error and save it for the figure\n",
        "    y_train_predict = sgd_reg.predict(X_train_prep)\n",
        "    train_error = mean_squared_error(y_train, y_train_predict, squared=False)\n",
        "    val_errors.append(val_error)\n",
        "    train_errors.append(train_error)\n",
        "\n",
        "# extra code – this section generates and saves Figure 4–20\n",
        "best_epoch = np.argmin(val_errors)\n",
        "plt.figure(figsize=(6, 4))\n",
        "plt.annotate('Best model',\n",
        "             xy=(best_epoch, best_valid_rmse),\n",
        "             xytext=(best_epoch, best_valid_rmse + 0.5),\n",
        "             ha=\"center\",\n",
        "             arrowprops=dict(facecolor='black', shrink=0.05))\n",
        "plt.plot([0, n_epochs], [best_valid_rmse, best_valid_rmse], \"k:\", linewidth=2)\n",
        "plt.plot(val_errors, \"b-\", linewidth=3, label=\"Validation set\")\n",
        "plt.plot(best_epoch, best_valid_rmse, \"bo\")\n",
        "plt.plot(train_errors, \"r--\", linewidth=2, label=\"Training set\")\n",
        "plt.legend(loc=\"upper right\")\n",
        "plt.xlabel(\"Epoch\")\n",
        "plt.ylabel(\"RMSE\")\n",
        "plt.axis([0, n_epochs, 0, 3.5])\n",
        "plt.grid()\n",
        "save_fig(\"early_stopping_plot\")\n",
        "plt.show()"
      ]
    },
    {
      "attachments": {},
      "cell_type": "markdown",
      "metadata": {
        "id": "OQZok99_TDN3"
      },
      "source": [
        "# Logistic Regression"
      ]
    },
    {
      "attachments": {},
      "cell_type": "markdown",
      "metadata": {
        "id": "AgS4_LAoTDN3"
      },
      "source": [
        "## Estimating Probabilities"
      ]
    },
    {
      "cell_type": "code",
      "execution_count": null,
      "metadata": {
        "id": "vTprm_z5TDN3"
      },
      "outputs": [],
      "source": [
        "# extra code – generates and saves Figure 4–21\n",
        "\n",
        "lim = 6\n",
        "t = np.linspace(-lim, lim, 100)\n",
        "sig = 1 / (1 + np.exp(-t))\n",
        "\n",
        "plt.figure(figsize=(8, 3))\n",
        "plt.plot([-lim, lim], [0, 0], \"k-\")\n",
        "plt.plot([-lim, lim], [0.5, 0.5], \"k:\")\n",
        "plt.plot([-lim, lim], [1, 1], \"k:\")\n",
        "plt.plot([0, 0], [-1.1, 1.1], \"k-\")\n",
        "plt.plot(t, sig, \"b-\", linewidth=2, label=r\"$\\sigma(t) = \\dfrac{1}{1 + e^{-t}}$\")\n",
        "plt.xlabel(\"t\")\n",
        "plt.legend(loc=\"upper left\")\n",
        "plt.axis([-lim, lim, -0.1, 1.1])\n",
        "plt.gca().set_yticks([0, 0.25, 0.5, 0.75, 1])\n",
        "plt.grid()\n",
        "save_fig(\"logistic_function_plot\")\n",
        "plt.show()"
      ]
    },
    {
      "attachments": {},
      "cell_type": "markdown",
      "metadata": {
        "id": "isRXmCyzTDN3"
      },
      "source": [
        "## Decision Boundaries"
      ]
    },
    {
      "cell_type": "code",
      "execution_count": null,
      "metadata": {
        "id": "SN-9xQiWTDN3"
      },
      "outputs": [],
      "source": [
        "from sklearn.datasets import load_iris\n",
        "\n",
        "iris = load_iris(as_frame=True)\n",
        "list(iris)"
      ]
    },
    {
      "cell_type": "code",
      "execution_count": null,
      "metadata": {
        "id": "Yv587V8ETDN4"
      },
      "outputs": [],
      "source": [
        "print(iris.DESCR)  # extra code – it's a bit too long"
      ]
    },
    {
      "cell_type": "code",
      "execution_count": null,
      "metadata": {
        "id": "WLXzEuX_TDN4"
      },
      "outputs": [],
      "source": [
        "iris.data.head(3)"
      ]
    },
    {
      "cell_type": "code",
      "execution_count": null,
      "metadata": {
        "id": "l1l4zjOYTDN4"
      },
      "outputs": [],
      "source": [
        "iris.target.head(3)  # note that the instances are not shuffled"
      ]
    },
    {
      "cell_type": "code",
      "execution_count": null,
      "metadata": {
        "id": "8JOCtOX6TDN4"
      },
      "outputs": [],
      "source": [
        "iris.target_names"
      ]
    },
    {
      "cell_type": "code",
      "execution_count": null,
      "metadata": {
        "id": "jZj1b2N-TDN4"
      },
      "outputs": [],
      "source": [
        "from sklearn.linear_model import LogisticRegression\n",
        "from sklearn.model_selection import train_test_split\n",
        "\n",
        "X = iris.data[[\"petal width (cm)\"]].values\n",
        "y = iris.target_names[iris.target] == 'virginica'\n",
        "X_train, X_test, y_train, y_test = train_test_split(X, y, random_state=42)\n",
        "\n",
        "log_reg = LogisticRegression(random_state=42)\n",
        "log_reg.fit(X_train, y_train)"
      ]
    },
    {
      "cell_type": "code",
      "execution_count": null,
      "metadata": {
        "id": "HGNv4SdATDN5"
      },
      "outputs": [],
      "source": [
        "X_new = np.linspace(0, 3, 1000).reshape(-1, 1)  # reshape to get a column vector\n",
        "y_proba = log_reg.predict_proba(X_new)\n",
        "decision_boundary = X_new[y_proba[:, 1] >= 0.5][0, 0]\n",
        "\n",
        "plt.figure(figsize=(8, 3))  # extra code – not needed, just formatting\n",
        "plt.plot(X_new, y_proba[:, 0], \"b--\", linewidth=2,\n",
        "         label=\"Not Iris virginica proba\")\n",
        "plt.plot(X_new, y_proba[:, 1], \"g-\", linewidth=2, label=\"Iris virginica proba\")\n",
        "plt.plot([decision_boundary, decision_boundary], [0, 1], \"k:\", linewidth=2,\n",
        "         label=\"Decision boundary\")\n",
        "\n",
        "# extra code – this section beautifies and saves Figure 4–23\n",
        "plt.arrow(x=decision_boundary, y=0.08, dx=-0.3, dy=0,\n",
        "          head_width=0.05, head_length=0.1, fc=\"b\", ec=\"b\")\n",
        "plt.arrow(x=decision_boundary, y=0.92, dx=0.3, dy=0,\n",
        "          head_width=0.05, head_length=0.1, fc=\"g\", ec=\"g\")\n",
        "plt.plot(X_train[y_train == 0], y_train[y_train == 0], \"bs\")\n",
        "plt.plot(X_train[y_train == 1], y_train[y_train == 1], \"g^\")\n",
        "plt.xlabel(\"Petal width (cm)\")\n",
        "plt.ylabel(\"Probability\")\n",
        "plt.legend(loc=\"center left\")\n",
        "plt.axis([0, 3, -0.02, 1.02])\n",
        "plt.grid()\n",
        "save_fig(\"logistic_regression_plot\")\n",
        "\n",
        "plt.show()"
      ]
    },
    {
      "cell_type": "code",
      "execution_count": null,
      "metadata": {
        "id": "NNQhk5WdTDN5"
      },
      "outputs": [],
      "source": [
        "decision_boundary"
      ]
    },
    {
      "cell_type": "code",
      "execution_count": null,
      "metadata": {
        "id": "AYYvj0BGTDN5"
      },
      "outputs": [],
      "source": [
        "log_reg.predict([[1.7], [1.5]])"
      ]
    },
    {
      "cell_type": "code",
      "execution_count": null,
      "metadata": {
        "id": "l5zVqJ8-TDN5"
      },
      "outputs": [],
      "source": [
        "# extra code – this cell generates and saves Figure 4–24\n",
        "\n",
        "X = iris.data[[\"petal length (cm)\", \"petal width (cm)\"]].values\n",
        "y = iris.target_names[iris.target] == 'virginica'\n",
        "X_train, X_test, y_train, y_test = train_test_split(X, y, random_state=42)\n",
        "\n",
        "log_reg = LogisticRegression(C=2, random_state=42)\n",
        "log_reg.fit(X_train, y_train)\n",
        "\n",
        "# for the contour plot\n",
        "x0, x1 = np.meshgrid(np.linspace(2.9, 7, 500).reshape(-1, 1),\n",
        "                     np.linspace(0.8, 2.7, 200).reshape(-1, 1))\n",
        "X_new = np.c_[x0.ravel(), x1.ravel()]  # one instance per point on the figure\n",
        "y_proba = log_reg.predict_proba(X_new)\n",
        "zz = y_proba[:, 1].reshape(x0.shape)\n",
        "\n",
        "# for the decision boundary\n",
        "left_right = np.array([2.9, 7])\n",
        "boundary = -((log_reg.coef_[0, 0] * left_right + log_reg.intercept_[0])\n",
        "             / log_reg.coef_[0, 1])\n",
        "\n",
        "plt.figure(figsize=(10, 4))\n",
        "plt.plot(X_train[y_train == 0, 0], X_train[y_train == 0, 1], \"bs\")\n",
        "plt.plot(X_train[y_train == 1, 0], X_train[y_train == 1, 1], \"g^\")\n",
        "contour = plt.contour(x0, x1, zz, cmap=plt.cm.brg)\n",
        "plt.clabel(contour, inline=1)\n",
        "plt.plot(left_right, boundary, \"k--\", linewidth=3)\n",
        "plt.text(3.5, 1.27, \"Not Iris virginica\", color=\"b\", ha=\"center\")\n",
        "plt.text(6.5, 2.3, \"Iris virginica\", color=\"g\", ha=\"center\")\n",
        "plt.xlabel(\"Petal length\")\n",
        "plt.ylabel(\"Petal width\")\n",
        "plt.axis([2.9, 7, 0.8, 2.7])\n",
        "plt.grid()\n",
        "save_fig(\"logistic_regression_contour_plot\")\n",
        "plt.show()"
      ]
    },
    {
      "attachments": {},
      "cell_type": "markdown",
      "metadata": {
        "id": "fueEU6gVTDN5"
      },
      "source": [
        "## Softmax Regression"
      ]
    },
    {
      "cell_type": "code",
      "execution_count": null,
      "metadata": {
        "id": "01-hXr4FTDN6"
      },
      "outputs": [],
      "source": [
        "X = iris.data[[\"petal length (cm)\", \"petal width (cm)\"]].values\n",
        "y = iris[\"target\"]\n",
        "X_train, X_test, y_train, y_test = train_test_split(X, y, random_state=42)\n",
        "\n",
        "softmax_reg = LogisticRegression(C=30, random_state=42)\n",
        "softmax_reg.fit(X_train, y_train)"
      ]
    },
    {
      "cell_type": "code",
      "execution_count": null,
      "metadata": {
        "id": "zySS3sERTDN6",
        "tags": []
      },
      "outputs": [],
      "source": [
        "softmax_reg.predict([[5, 2]])"
      ]
    },
    {
      "cell_type": "code",
      "execution_count": null,
      "metadata": {
        "id": "tK2mfwLPTDN6",
        "tags": []
      },
      "outputs": [],
      "source": [
        "softmax_reg.predict_proba([[5, 2]]).round(2)"
      ]
    },
    {
      "cell_type": "code",
      "execution_count": null,
      "metadata": {
        "id": "Ou8KWcgjTDN7"
      },
      "outputs": [],
      "source": [
        "# extra code – this cell generates and saves Figure 4–25\n",
        "\n",
        "from matplotlib.colors import ListedColormap\n",
        "\n",
        "custom_cmap = ListedColormap([\"#fafab0\", \"#9898ff\", \"#a0faa0\"])\n",
        "\n",
        "x0, x1 = np.meshgrid(np.linspace(0, 8, 500).reshape(-1, 1),\n",
        "                     np.linspace(0, 3.5, 200).reshape(-1, 1))\n",
        "X_new = np.c_[x0.ravel(), x1.ravel()]\n",
        "\n",
        "y_proba = softmax_reg.predict_proba(X_new)\n",
        "y_predict = softmax_reg.predict(X_new)\n",
        "\n",
        "zz1 = y_proba[:, 1].reshape(x0.shape)\n",
        "zz = y_predict.reshape(x0.shape)\n",
        "\n",
        "plt.figure(figsize=(10, 4))\n",
        "plt.plot(X[y == 2, 0], X[y == 2, 1], \"g^\", label=\"Iris virginica\")\n",
        "plt.plot(X[y == 1, 0], X[y == 1, 1], \"bs\", label=\"Iris versicolor\")\n",
        "plt.plot(X[y == 0, 0], X[y == 0, 1], \"yo\", label=\"Iris setosa\")\n",
        "\n",
        "plt.contourf(x0, x1, zz, cmap=custom_cmap)\n",
        "contour = plt.contour(x0, x1, zz1, cmap=\"hot\")\n",
        "plt.clabel(contour, inline=1)\n",
        "plt.xlabel(\"Petal length\")\n",
        "plt.ylabel(\"Petal width\")\n",
        "plt.legend(loc=\"center left\")\n",
        "plt.axis([0.5, 7, 0, 3.5])\n",
        "plt.grid()\n",
        "save_fig(\"softmax_regression_contour_plot\")\n",
        "plt.show()"
      ]
    },
    {
      "attachments": {},
      "cell_type": "markdown",
      "metadata": {
        "id": "uVoMQZBkTDN7"
      },
      "source": [
        "# Exercise solutions"
      ]
    },
    {
      "attachments": {},
      "cell_type": "markdown",
      "metadata": {
        "id": "yE7pKiVTTDN7"
      },
      "source": [
        "## 1. to 11."
      ]
    },
    {
      "attachments": {},
      "cell_type": "markdown",
      "metadata": {
        "id": "cdG2R1UhTDN7"
      },
      "source": [
        "1. If you have a training set with millions of features you can use Stochastic Gradient Descent or Mini-batch Gradient Descent, and perhaps Batch Gradient Descent if the training set fits in memory. But you cannot use the Normal Equation or the SVD approach because the computational complexity grows quickly (more than quadratically) with the number of features.\n",
        "2. If the features in your training set have very different scales, the cost function will have the shape of an elongated bowl, so the Gradient Descent algorithms will take a long time to converge. To solve this you should scale the data before training the model. Note that the Normal Equation or SVD approach will work just fine without scaling. Moreover, regularized models may converge to a suboptimal solution if the features are not scaled: since regularization penalizes large weights, features with smaller values will tend to be ignored compared to features with larger values.\n",
        "3. Gradient Descent cannot get stuck in a local minimum when training a Logistic Regression model because the cost function is convex. _Convex_ means that if you draw a straight line between any two points on the curve, the line never crosses the curve.\n",
        "4. If the optimization problem is convex (such as Linear Regression or Logistic Regression), and assuming the learning rate is not too high, then all Gradient Descent algorithms will approach the global optimum and end up producing fairly similar models. However, unless you gradually reduce the learning rate, Stochastic GD and Mini-batch GD will never truly converge; instead, they will keep jumping back and forth around the global optimum. This means that even if you let them run for a very long time, these Gradient Descent algorithms will produce slightly different models.\n",
        "5. If the validation error consistently goes up after every epoch, then one possibility is that the learning rate is too high and the algorithm is diverging. If the training error also goes up, then this is clearly the problem and you should reduce the learning rate. However, if the training error is not going up, then your model is overfitting the training set and you should stop training.\n",
        "6. Due to their random nature, neither Stochastic Gradient Descent nor Mini-batch Gradient Descent is guaranteed to make progress at every single training iteration. So if you immediately stop training when the validation error goes up, you may stop much too early, before the optimum is reached. A better option is to save the model at regular intervals; then, when it has not improved for a long time (meaning it will probably never beat the record), you can revert to the best saved model.\n",
        "7. Stochastic Gradient Descent has the fastest training iteration since it considers only one training instance at a time, so it is generally the first to reach the vicinity of the global optimum (or Mini-batch GD with a very small mini-batch size). However, only Batch Gradient Descent will actually converge, given enough training time. As mentioned, Stochastic GD and Mini-batch GD will bounce around the optimum, unless you gradually reduce the learning rate.\n",
        "8. If the validation error is much higher than the training error, this is likely because your model is overfitting the training set. One way to try to fix this is to reduce the polynomial degree: a model with fewer degrees of freedom is less likely to overfit. Another thing you can try is to regularize the model—for example, by adding an ℓ₂ penalty (Ridge) or an ℓ₁ penalty (Lasso) to the cost function. This will also reduce the degrees of freedom of the model. Lastly, you can try to increase the size of the training set.\n",
        "9. If both the training error and the validation error are almost equal and fairly high, the model is likely underfitting the training set, which means it has a high bias. You should try reducing the regularization hyperparameter _α_.\n",
        "10. Let's see:\n",
        "  * A model with some regularization typically performs better than a model without any regularization, so you should generally prefer Ridge Regression over plain Linear Regression.\n",
        "  * Lasso Regression uses an ℓ₁ penalty, which tends to push the weights down to exactly zero. This leads to sparse models, where all weights are zero except for the most important weights. This is a way to perform feature selection automatically, which is good if you suspect that only a few features actually matter. When you are not sure, you should prefer Ridge Regression.\n",
        "  * Elastic Net is generally preferred over Lasso since Lasso may behave erratically in some cases (when several features are strongly correlated or when there are more features than training instances). However, it does add an extra hyperparameter to tune. If you want Lasso without the erratic behavior, you can just use Elastic Net with an `l1_ratio` close to 1.\n",
        "11. If you want to classify pictures as outdoor/indoor and daytime/nighttime, since these are not exclusive classes (i.e., all four combinations are possible) you should train two Logistic Regression classifiers."
      ]
    },
    {
      "attachments": {},
      "cell_type": "markdown",
      "metadata": {
        "id": "GNOS9I6gTDN8"
      },
      "source": [
        "## 12. Batch Gradient Descent with early stopping for Softmax Regression\n",
        "Exercise: _Implement Batch Gradient Descent with early stopping for Softmax Regression without using Scikit-Learn, only NumPy. Use it on a classification task such as the iris dataset._"
      ]
    },
    {
      "attachments": {},
      "cell_type": "markdown",
      "metadata": {
        "id": "tOr6K1IVTDN8"
      },
      "source": [
        "Let's start by loading the data. We will just reuse the Iris dataset we loaded earlier."
      ]
    },
    {
      "cell_type": "code",
      "execution_count": null,
      "metadata": {
        "id": "E2izWFN1TDN8"
      },
      "outputs": [],
      "source": [
        "X = iris.data[[\"petal length (cm)\", \"petal width (cm)\"]].values\n",
        "y = iris[\"target\"].values"
      ]
    },
    {
      "attachments": {},
      "cell_type": "markdown",
      "metadata": {
        "id": "2iY9q0HgTDN8"
      },
      "source": [
        "We need to add the bias term for every instance ($x_0 = 1$). The easiest option to do this would be to use Scikit-Learn's `add_dummy_feature()` function, but the point of this exercise is to get a better understanding of the algorithms by implementing them manually. So here is one possible implementation:"
      ]
    },
    {
      "cell_type": "code",
      "execution_count": null,
      "metadata": {
        "id": "vH4oJpmSTDN8"
      },
      "outputs": [],
      "source": [
        "X_with_bias = np.c_[np.ones(len(X)), X]"
      ]
    },
    {
      "attachments": {},
      "cell_type": "markdown",
      "metadata": {
        "id": "AegdZU1UTDN8"
      },
      "source": [
        "The easiest option to split the dataset into a training set, a validation set and a test set would be to use Scikit-Learn's `train_test_split()` function, but again, we want to do it manually:"
      ]
    },
    {
      "cell_type": "code",
      "execution_count": null,
      "metadata": {
        "id": "RM_Yk-CVTDN9"
      },
      "outputs": [],
      "source": [
        "test_ratio = 0.2\n",
        "validation_ratio = 0.2\n",
        "total_size = len(X_with_bias)\n",
        "\n",
        "test_size = int(total_size * test_ratio)\n",
        "validation_size = int(total_size * validation_ratio)\n",
        "train_size = total_size - test_size - validation_size\n",
        "\n",
        "np.random.seed(42)\n",
        "rnd_indices = np.random.permutation(total_size)\n",
        "\n",
        "X_train = X_with_bias[rnd_indices[:train_size]]\n",
        "y_train = y[rnd_indices[:train_size]]\n",
        "X_valid = X_with_bias[rnd_indices[train_size:-test_size]]\n",
        "y_valid = y[rnd_indices[train_size:-test_size]]\n",
        "X_test = X_with_bias[rnd_indices[-test_size:]]\n",
        "y_test = y[rnd_indices[-test_size:]]"
      ]
    },
    {
      "attachments": {},
      "cell_type": "markdown",
      "metadata": {
        "id": "mgB460SxTDN9"
      },
      "source": [
        "The targets are currently class indices (0, 1 or 2), but we need target class probabilities to train the Softmax Regression model. Each instance will have target class probabilities equal to 0.0 for all classes except for the target class which will have a probability of 1.0 (in other words, the vector of class probabilities for any given instance is a one-hot vector). Let's write a small function to convert the vector of class indices into a matrix containing a one-hot vector for each instance. To understand this code, you need to know that `np.diag(np.ones(n))` creates an n×n matrix full of 0s except for 1s on the main diagonal. Moreover, if `a` is a NumPy array, then `a[[1, 3, 2]]` returns an array with 3 rows equal to `a[1]`, `a[3]` and `a[2]` (this is [advanced NumPy indexing](https://numpy.org/doc/stable/user/basics.indexing.html#advanced-indexing))."
      ]
    },
    {
      "cell_type": "code",
      "execution_count": null,
      "metadata": {
        "id": "Ky_sSswyTDN9"
      },
      "outputs": [],
      "source": [
        "def to_one_hot(y):\n",
        "    return np.diag(np.ones(y.max() + 1))[y]"
      ]
    },
    {
      "attachments": {},
      "cell_type": "markdown",
      "metadata": {
        "id": "y5hOpcA7TDN9"
      },
      "source": [
        "Let's test this function on the first 10 instances:"
      ]
    },
    {
      "cell_type": "code",
      "execution_count": null,
      "metadata": {
        "id": "Z1odyWJFTDN9"
      },
      "outputs": [],
      "source": [
        "y_train[:10]"
      ]
    },
    {
      "cell_type": "code",
      "execution_count": null,
      "metadata": {
        "id": "NnzqSpi0TDN9"
      },
      "outputs": [],
      "source": [
        "to_one_hot(y_train[:10])"
      ]
    },
    {
      "attachments": {},
      "cell_type": "markdown",
      "metadata": {
        "id": "CEjZtWelTDN-"
      },
      "source": [
        "Looks good, so let's create the target class probabilities matrix for the training set and the test set:"
      ]
    },
    {
      "cell_type": "code",
      "execution_count": null,
      "metadata": {
        "id": "ovkJZxy2TDN-"
      },
      "outputs": [],
      "source": [
        "Y_train_one_hot = to_one_hot(y_train)\n",
        "Y_valid_one_hot = to_one_hot(y_valid)\n",
        "Y_test_one_hot = to_one_hot(y_test)"
      ]
    },
    {
      "attachments": {},
      "cell_type": "markdown",
      "metadata": {
        "id": "WxP4vSYwTDN-"
      },
      "source": [
        "Now let's scale the inputs. We compute the mean and standard deviation of each feature on the training set (except for the bias feature), then we center and scale each feature in the training set, the validation set, and the test set:"
      ]
    },
    {
      "cell_type": "code",
      "execution_count": null,
      "metadata": {
        "id": "T7baH2-iTDN-"
      },
      "outputs": [],
      "source": [
        "mean = X_train[:, 1:].mean(axis=0)\n",
        "std = X_train[:, 1:].std(axis=0)\n",
        "X_train[:, 1:] = (X_train[:, 1:] - mean) / std\n",
        "X_valid[:, 1:] = (X_valid[:, 1:] - mean) / std\n",
        "X_test[:, 1:] = (X_test[:, 1:] - mean) / std"
      ]
    },
    {
      "attachments": {},
      "cell_type": "markdown",
      "metadata": {
        "id": "4ZSPA0xhTDN-"
      },
      "source": [
        "Now let's implement the Softmax function. Recall that it is defined by the following equation:\n",
        "\n",
        "$\\sigma\\left(\\mathbf{s}(\\mathbf{x})\\right)_k = \\dfrac{\\exp\\left(s_k(\\mathbf{x})\\right)}{\\sum\\limits_{j=1}^{K}{\\exp\\left(s_j(\\mathbf{x})\\right)}}$"
      ]
    },
    {
      "cell_type": "code",
      "execution_count": null,
      "metadata": {
        "id": "ePZQP08NTDN-"
      },
      "outputs": [],
      "source": [
        "def softmax(logits):\n",
        "    exps = np.exp(logits)\n",
        "    exp_sums = exps.sum(axis=1, keepdims=True)\n",
        "    return exps / exp_sums"
      ]
    },
    {
      "attachments": {},
      "cell_type": "markdown",
      "metadata": {
        "id": "D46hTJ4wTDN-"
      },
      "source": [
        "We are almost ready to start training. Let's define the number of inputs and outputs:"
      ]
    },
    {
      "cell_type": "code",
      "execution_count": null,
      "metadata": {
        "id": "UM7InMdATDN-"
      },
      "outputs": [],
      "source": [
        "n_inputs = X_train.shape[1]  # == 3 (2 features plus the bias term)\n",
        "n_outputs = len(np.unique(y_train))  # == 3 (there are 3 iris classes)"
      ]
    },
    {
      "attachments": {},
      "cell_type": "markdown",
      "metadata": {
        "id": "r9aVMcNsTDN_"
      },
      "source": [
        "Now here comes the hardest part: training! Theoretically, it's simple: it's just a matter of translating the math equations into Python code. But in practice, it can be quite tricky: in particular, it's easy to mix up the order of the terms, or the indices. You can even end up with code that looks like it's working but is actually not computing exactly the right thing. When unsure, you should write down the shape of each term in the equation and make sure the corresponding terms in your code match closely. It can also help to evaluate each term independently and print them out. The good news it that you won't have to do this everyday, since all this is well implemented by Scikit-Learn, but it will help you understand what's going on under the hood.\n",
        "\n",
        "So the equations we will need are the cost function:\n",
        "\n",
        "$J(\\mathbf{\\Theta}) =\n",
        "- \\dfrac{1}{m}\\sum\\limits_{i=1}^{m}\\sum\\limits_{k=1}^{K}{y_k^{(i)}\\log\\left(\\hat{p}_k^{(i)}\\right)}$\n",
        "\n",
        "And the equation for the gradients:\n",
        "\n",
        "$\\nabla_{\\mathbf{\\theta}^{(k)}} \\, J(\\mathbf{\\Theta}) = \\dfrac{1}{m} \\sum\\limits_{i=1}^{m}{ \\left ( \\hat{p}^{(i)}_k - y_k^{(i)} \\right ) \\mathbf{x}^{(i)}}$\n",
        "\n",
        "Note that $\\log\\left(\\hat{p}_k^{(i)}\\right)$ may not be computable if $\\hat{p}_k^{(i)} = 0$. So we will add a tiny value $\\epsilon$ to $\\log\\left(\\hat{p}_k^{(i)}\\right)$ to avoid getting `nan` values."
      ]
    },
    {
      "cell_type": "code",
      "execution_count": null,
      "metadata": {
        "id": "2t6aE9E7TDN_"
      },
      "outputs": [],
      "source": [
        "eta = 0.5\n",
        "n_epochs = 5001\n",
        "m = len(X_train)\n",
        "epsilon = 1e-5\n",
        "\n",
        "np.random.seed(42)\n",
        "Theta = np.random.randn(n_inputs, n_outputs)\n",
        "\n",
        "for epoch in range(n_epochs):\n",
        "    logits = X_train @ Theta\n",
        "    Y_proba = softmax(logits)\n",
        "    if epoch % 1000 == 0:\n",
        "        Y_proba_valid = softmax(X_valid @ Theta)\n",
        "        xentropy_losses = -(Y_valid_one_hot * np.log(Y_proba_valid + epsilon))\n",
        "        print(epoch, xentropy_losses.sum(axis=1).mean())\n",
        "    error = Y_proba - Y_train_one_hot\n",
        "    gradients = 1 / m * X_train.T @ error\n",
        "    Theta = Theta - eta * gradients"
      ]
    },
    {
      "attachments": {},
      "cell_type": "markdown",
      "metadata": {
        "id": "Jf6KqmnFTDN_"
      },
      "source": [
        "And that's it! The Softmax model is trained. Let's look at the model parameters:"
      ]
    },
    {
      "cell_type": "code",
      "execution_count": null,
      "metadata": {
        "id": "zb8ojAj_TDN_"
      },
      "outputs": [],
      "source": [
        "Theta"
      ]
    },
    {
      "attachments": {},
      "cell_type": "markdown",
      "metadata": {
        "id": "leZc_bJLTDN_"
      },
      "source": [
        "Let's make predictions for the validation set and check the accuracy score:"
      ]
    },
    {
      "cell_type": "code",
      "execution_count": null,
      "metadata": {
        "id": "Lv8liC0VTDN_"
      },
      "outputs": [],
      "source": [
        "logits = X_valid @ Theta\n",
        "Y_proba = softmax(logits)\n",
        "y_predict = Y_proba.argmax(axis=1)\n",
        "\n",
        "accuracy_score = (y_predict == y_valid).mean()\n",
        "accuracy_score"
      ]
    },
    {
      "attachments": {},
      "cell_type": "markdown",
      "metadata": {
        "id": "88vH-i6mTDN_"
      },
      "source": [
        "Well, this model looks pretty ok. For the sake of the exercise, let's add a bit of $\\ell_2$ regularization. The following training code is similar to the one above, but the loss now has an additional $\\ell_2$ penalty, and the gradients have the proper additional term (note that we don't regularize the first element of `Theta` since this corresponds to the bias term). Also, let's try increasing the learning rate `eta`."
      ]
    },
    {
      "cell_type": "code",
      "execution_count": null,
      "metadata": {
        "id": "iyjfPokPTDN_"
      },
      "outputs": [],
      "source": [
        "eta = 0.5\n",
        "n_epochs = 5001\n",
        "m = len(X_train)\n",
        "epsilon = 1e-5\n",
        "alpha = 0.01  # regularization hyperparameter\n",
        "\n",
        "np.random.seed(42)\n",
        "Theta = np.random.randn(n_inputs, n_outputs)\n",
        "\n",
        "for epoch in range(n_epochs):\n",
        "    logits = X_train @ Theta\n",
        "    Y_proba = softmax(logits)\n",
        "    if epoch % 1000 == 0:\n",
        "        Y_proba_valid = softmax(X_valid @ Theta)\n",
        "        xentropy_losses = -(Y_valid_one_hot * np.log(Y_proba_valid + epsilon))\n",
        "        l2_loss = 1 / 2 * (Theta[1:] ** 2).sum()\n",
        "        total_loss = xentropy_losses.sum(axis=1).mean() + alpha * l2_loss\n",
        "        print(epoch, total_loss.round(4))\n",
        "    error = Y_proba - Y_train_one_hot\n",
        "    gradients = 1 / m * X_train.T @ error\n",
        "    gradients += np.r_[np.zeros([1, n_outputs]), alpha * Theta[1:]]\n",
        "    Theta = Theta - eta * gradients"
      ]
    },
    {
      "attachments": {},
      "cell_type": "markdown",
      "metadata": {
        "id": "pMLQF0K5TDOA"
      },
      "source": [
        "Because of the additional $\\ell_2$ penalty, the loss seems greater than earlier, but perhaps this model will perform better? Let's find out:"
      ]
    },
    {
      "cell_type": "code",
      "execution_count": null,
      "metadata": {
        "id": "qcYpG3ERTDOA"
      },
      "outputs": [],
      "source": [
        "logits = X_valid @ Theta\n",
        "Y_proba = softmax(logits)\n",
        "y_predict = Y_proba.argmax(axis=1)\n",
        "\n",
        "accuracy_score = (y_predict == y_valid).mean()\n",
        "accuracy_score"
      ]
    },
    {
      "attachments": {},
      "cell_type": "markdown",
      "metadata": {
        "id": "thjWg6ZITDOA"
      },
      "source": [
        "In this case, the $\\ell_2$ penalty did not change the test accuracy. Perhaps try fine-tuning `alpha`?"
      ]
    },
    {
      "attachments": {},
      "cell_type": "markdown",
      "metadata": {
        "id": "HLVqEbqCTDOA"
      },
      "source": [
        "Now let's add early stopping. For this we just need to measure the loss on the validation set at every iteration and stop when the error starts growing."
      ]
    },
    {
      "cell_type": "code",
      "execution_count": null,
      "metadata": {
        "id": "ptCIwJ76TDOA"
      },
      "outputs": [],
      "source": [
        "eta = 0.5\n",
        "n_epochs = 50_001\n",
        "m = len(X_train)\n",
        "epsilon = 1e-5\n",
        "C = 100  # regularization hyperparameter\n",
        "best_loss = np.infty\n",
        "\n",
        "np.random.seed(42)\n",
        "Theta = np.random.randn(n_inputs, n_outputs)\n",
        "\n",
        "for epoch in range(n_epochs):\n",
        "    logits = X_train @ Theta\n",
        "    Y_proba = softmax(logits)\n",
        "    Y_proba_valid = softmax(X_valid @ Theta)\n",
        "    xentropy_losses = -(Y_valid_one_hot * np.log(Y_proba_valid + epsilon))\n",
        "    l2_loss = 1 / 2 * (Theta[1:] ** 2).sum()\n",
        "    total_loss = xentropy_losses.sum(axis=1).mean() + 1 / C * l2_loss\n",
        "    if epoch % 1000 == 0:\n",
        "        print(epoch, total_loss.round(4))\n",
        "    if total_loss < best_loss:\n",
        "        best_loss = total_loss\n",
        "    else:\n",
        "        print(epoch - 1, best_loss.round(4))\n",
        "        print(epoch, total_loss.round(4), \"early stopping!\")\n",
        "        break\n",
        "    error = Y_proba - Y_train_one_hot\n",
        "    gradients = 1 / m * X_train.T @ error\n",
        "    gradients += np.r_[np.zeros([1, n_outputs]), 1 / C * Theta[1:]]\n",
        "    Theta = Theta - eta * gradients"
      ]
    },
    {
      "cell_type": "code",
      "execution_count": null,
      "metadata": {
        "id": "_XwEsjTRTDOA"
      },
      "outputs": [],
      "source": [
        "logits = X_valid @ Theta\n",
        "Y_proba = softmax(logits)\n",
        "y_predict = Y_proba.argmax(axis=1)\n",
        "\n",
        "accuracy_score = (y_predict == y_valid).mean()\n",
        "accuracy_score"
      ]
    },
    {
      "attachments": {},
      "cell_type": "markdown",
      "metadata": {
        "id": "79JKrWIKTDOB"
      },
      "source": [
        "Oh well, still no change in validation accuracy, but at least early stopping shortened training a bit."
      ]
    },
    {
      "attachments": {},
      "cell_type": "markdown",
      "metadata": {
        "id": "_IBINm7KTDOB"
      },
      "source": [
        "Now let's plot the model's predictions on the whole dataset (remember to scale all features fed to the model):"
      ]
    },
    {
      "cell_type": "code",
      "execution_count": null,
      "metadata": {
        "id": "pYTzpEHTTDOB"
      },
      "outputs": [],
      "source": [
        "custom_cmap = mpl.colors.ListedColormap(['#fafab0', '#9898ff', '#a0faa0'])\n",
        "\n",
        "x0, x1 = np.meshgrid(np.linspace(0, 8, 500).reshape(-1, 1),\n",
        "                     np.linspace(0, 3.5, 200).reshape(-1, 1))\n",
        "X_new = np.c_[x0.ravel(), x1.ravel()]\n",
        "X_new = (X_new - mean) / std\n",
        "X_new_with_bias = np.c_[np.ones(len(X_new)), X_new]\n",
        "\n",
        "logits = X_new_with_bias @ Theta\n",
        "Y_proba = softmax(logits)\n",
        "y_predict = Y_proba.argmax(axis=1)\n",
        "\n",
        "zz1 = Y_proba[:, 1].reshape(x0.shape)\n",
        "zz = y_predict.reshape(x0.shape)\n",
        "\n",
        "plt.figure(figsize=(10, 4))\n",
        "plt.plot(X[y == 2, 0], X[y == 2, 1], \"g^\", label=\"Iris virginica\")\n",
        "plt.plot(X[y == 1, 0], X[y == 1, 1], \"bs\", label=\"Iris versicolor\")\n",
        "plt.plot(X[y == 0, 0], X[y == 0, 1], \"yo\", label=\"Iris setosa\")\n",
        "\n",
        "plt.contourf(x0, x1, zz, cmap=custom_cmap)\n",
        "contour = plt.contour(x0, x1, zz1, cmap=\"hot\")\n",
        "plt.clabel(contour, inline=1)\n",
        "plt.xlabel(\"Petal length\")\n",
        "plt.ylabel(\"Petal width\")\n",
        "plt.legend(loc=\"upper left\")\n",
        "plt.axis([0, 7, 0, 3.5])\n",
        "plt.grid()\n",
        "plt.show()"
      ]
    },
    {
      "attachments": {},
      "cell_type": "markdown",
      "metadata": {
        "id": "HqTjNYzxTDOB"
      },
      "source": [
        "And now let's measure the final model's accuracy on the test set:"
      ]
    },
    {
      "cell_type": "code",
      "execution_count": null,
      "metadata": {
        "id": "hxJWut4cTDOB"
      },
      "outputs": [],
      "source": [
        "logits = X_test @ Theta\n",
        "Y_proba = softmax(logits)\n",
        "y_predict = Y_proba.argmax(axis=1)\n",
        "\n",
        "accuracy_score = (y_predict == y_test).mean()\n",
        "accuracy_score"
      ]
    },
    {
      "attachments": {},
      "cell_type": "markdown",
      "metadata": {
        "id": "ZWaa63T8TDOB"
      },
      "source": [
        "Well we get even better performance on the test set. This variability is likely due to the very small size of the dataset: depending on how you sample the training set, validation set and the test set, you can get quite different results. Try changing the random seed and running the code again a few times, you will see that the results will vary."
      ]
    },
    {
      "cell_type": "code",
      "execution_count": null,
      "metadata": {
        "id": "bCw9i5EGTDOC"
      },
      "outputs": [],
      "source": []
    }
  ],
  "metadata": {
    "colab": {
      "provenance": [],
      "toc_visible": true
    },
    "kernelspec": {
      "display_name": "Python 3",
      "language": "python",
      "name": "python3"
    },
    "language_info": {
      "codemirror_mode": {
        "name": "ipython",
        "version": 3
      },
      "file_extension": ".py",
      "mimetype": "text/x-python",
      "name": "python",
      "nbconvert_exporter": "python",
      "pygments_lexer": "ipython3",
      "version": "3.9.6"
    },
    "nav_menu": {},
    "toc": {
      "navigate_menu": true,
      "number_sections": true,
      "sideBar": true,
      "threshold": 6,
      "toc_cell": false,
      "toc_section_display": "block",
      "toc_window_display": false
    }
  },
  "nbformat": 4,
  "nbformat_minor": 0
}
