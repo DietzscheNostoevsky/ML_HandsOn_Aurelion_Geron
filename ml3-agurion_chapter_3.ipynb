{
  "cells": [
    {
      "cell_type": "markdown",
      "metadata": {
        "id": "UbghWo3PeiWR"
      },
      "source": [
        "**Chapter 3 – Classification**"
      ]
    },
    {
      "cell_type": "markdown",
      "metadata": {
        "id": "eC4VpYaheiWT"
      },
      "source": [
        "Self Editing, along with own comments learnt from the book\n",
        "\n",
        "Different from original book source code."
      ]
    },
    {
      "cell_type": "code",
      "execution_count": null,
      "metadata": {
        "colab": {
          "base_uri": "https://localhost:8080/"
        },
        "id": "QlbhTx62eoAI",
        "outputId": "d5ce6a7c-79dc-4716-e812-1f2c118bbbee"
      },
      "outputs": [
        {
          "output_type": "stream",
          "name": "stdout",
          "text": [
            "Current time in IST: 2023-04-18 18:07:28 IST+0530\n"
          ]
        }
      ],
      "source": [
        "# Timing Code \n",
        "\n",
        "import pytz\n",
        "import time\n",
        "import datetime\n",
        "\n",
        "t0 = time.time()\n",
        "now_utc = datetime.datetime.utcnow()\n",
        "ist_tz = pytz.timezone('Asia/Kolkata')\n",
        "now_ist = now_utc.astimezone(ist_tz)\n",
        "print(\"Current time in IST:\", now_ist.strftime(\"%Y-%m-%d %H:%M:%S %Z%z\"))"
      ]
    },
    {
      "cell_type": "markdown",
      "metadata": {
        "id": "kT_mBaTKeiWV"
      },
      "source": [
        "# Setup"
      ]
    },
    {
      "cell_type": "markdown",
      "metadata": {
        "id": "OVcSvzPleiWV"
      },
      "source": [
        "This project requires Python 3.7 or above:"
      ]
    },
    {
      "cell_type": "code",
      "execution_count": 1,
      "metadata": {
        "id": "jhFd7SEdeiWW"
      },
      "outputs": [],
      "source": [
        "import sys\n",
        "\n",
        "assert sys.version_info >= (3, 7)"
      ]
    },
    {
      "cell_type": "markdown",
      "metadata": {
        "id": "_eFwfgsueiWW"
      },
      "source": [
        "It also requires Scikit-Learn ≥ 1.0.1:"
      ]
    },
    {
      "cell_type": "code",
      "execution_count": 2,
      "metadata": {
        "id": "L2pxgwnOeiWX"
      },
      "outputs": [],
      "source": [
        "from packaging import version\n",
        "import sklearn\n",
        "\n",
        "assert version.parse(sklearn.__version__) >= version.parse(\"1.0.1\")"
      ]
    },
    {
      "cell_type": "markdown",
      "metadata": {
        "id": "RwZwWBu7eiWX"
      },
      "source": [
        "Defining the default font sizes to make the figures prettier:"
      ]
    },
    {
      "cell_type": "code",
      "execution_count": 3,
      "metadata": {
        "id": "1aUGEforeiWX"
      },
      "outputs": [],
      "source": [
        "import matplotlib.pyplot as plt\n",
        "\n",
        "plt.rc('font', size=14)\n",
        "plt.rc('axes', labelsize=14, titlesize=14)\n",
        "plt.rc('legend', fontsize=14)\n",
        "plt.rc('xtick', labelsize=10)\n",
        "plt.rc('ytick', labelsize=10)"
      ]
    },
    {
      "cell_type": "markdown",
      "metadata": {
        "id": "Y2mK8BfLeiWY"
      },
      "source": [
        "And let's create the `images/classification` folder (if it doesn't already exist), and define the `save_fig()` function which is used through this notebook to save the figures in high-res for the book:"
      ]
    },
    {
      "cell_type": "code",
      "execution_count": 4,
      "metadata": {
        "id": "e_sMaSjyeiWY"
      },
      "outputs": [],
      "source": [
        "from pathlib import Path\n",
        "\n",
        "IMAGES_PATH = Path() / \"images\" / \"classification\"\n",
        "IMAGES_PATH.mkdir(parents=True, exist_ok=True)\n",
        "\n",
        "def save_fig(fig_id, tight_layout=True, fig_extension=\"png\", resolution=300):\n",
        "    path = IMAGES_PATH / f\"{fig_id}.{fig_extension}\"\n",
        "    if tight_layout:\n",
        "        plt.tight_layout()\n",
        "    plt.savefig(path, format=fig_extension, dpi=resolution)"
      ]
    },
    {
      "cell_type": "markdown",
      "metadata": {
        "id": "eDxl-iwceiWY"
      },
      "source": [
        "# MNIST\n",
        "\n",
        "Hello World of Machine Learning"
      ]
    },
    {
      "cell_type": "markdown",
      "source": [
        "### fetching MNIST data using sklearn\n",
        "OpenML.org\n"
      ],
      "metadata": {
        "id": "YSrtpVycVwgR"
      }
    },
    {
      "cell_type": "code",
      "execution_count": 5,
      "metadata": {
        "id": "lpQZcYYneiWZ",
        "colab": {
          "base_uri": "https://localhost:8080/"
        },
        "outputId": "ba15684a-d7cf-4eba-d3c8-095ad8897d5d"
      },
      "outputs": [
        {
          "output_type": "stream",
          "name": "stderr",
          "text": [
            "/usr/local/lib/python3.9/dist-packages/sklearn/datasets/_openml.py:968: FutureWarning: The default value of `parser` will change from `'liac-arff'` to `'auto'` in 1.4. You can set `parser='auto'` to silence this warning. Therefore, an `ImportError` will be raised from 1.4 if the dataset is dense and pandas is not installed. Note that the pandas parser may return different data types. See the Notes Section in fetch_openml's API doc for details.\n",
            "  warn(\n"
          ]
        }
      ],
      "source": [
        "from sklearn.datasets import fetch_openml\n",
        "\n",
        "mnist = fetch_openml('mnist_784', as_frame=False) # False, or it would return Pandas dataframe as default"
      ]
    },
    {
      "cell_type": "code",
      "execution_count": 6,
      "metadata": {
        "colab": {
          "base_uri": "https://localhost:8080/"
        },
        "id": "pV0WnBm1eiWZ",
        "outputId": "d147c989-4830-4dee-9c58-cc2074238b61"
      },
      "outputs": [
        {
          "output_type": "stream",
          "name": "stdout",
          "text": [
            "**Author**: Yann LeCun, Corinna Cortes, Christopher J.C. Burges  \n",
            "**Source**: [MNIST Website](http://yann.lecun.com/exdb/mnist/) - Date unknown  \n",
            "**Please cite**:  \n",
            "\n",
            "The MNIST database of handwritten digits with 784 features, raw data available at: http://yann.lecun.com/exdb/mnist/. It can be split in a training set of the first 60,000 examples, and a test set of 10,000 examples  \n",
            "\n",
            "It is a subset of a larger set available from NIST. The digits have been size-normalized and centered in a fixed-size image. It is a good database for people who want to try learning techniques and pattern recognition methods on real-world data while spending minimal efforts on preprocessing and formatting. The original black and white (bilevel) images from NIST were size normalized to fit in a 20x20 pixel box while preserving their aspect ratio. The resulting images contain grey levels as a result of the anti-aliasing technique used by the normalization algorithm. the images were centered in a 28x28 image by computing the center of mass of the pixels, and translating the image so as to position this point at the center of the 28x28 field.  \n",
            "\n",
            "With some classification methods (particularly template-based methods, such as SVM and K-nearest neighbors), the error rate improves when the digits are centered by bounding box rather than center of mass. If you do this kind of pre-processing, you should report it in your publications. The MNIST database was constructed from NIST's NIST originally designated SD-3 as their training set and SD-1 as their test set. However, SD-3 is much cleaner and easier to recognize than SD-1. The reason for this can be found on the fact that SD-3 was collected among Census Bureau employees, while SD-1 was collected among high-school students. Drawing sensible conclusions from learning experiments requires that the result be independent of the choice of training set and test among the complete set of samples. Therefore it was necessary to build a new database by mixing NIST's datasets.  \n",
            "\n",
            "The MNIST training set is composed of 30,000 patterns from SD-3 and 30,000 patterns from SD-1. Our test set was composed of 5,000 patterns from SD-3 and 5,000 patterns from SD-1. The 60,000 pattern training set contained examples from approximately 250 writers. We made sure that the sets of writers of the training set and test set were disjoint. SD-1 contains 58,527 digit images written by 500 different writers. In contrast to SD-3, where blocks of data from each writer appeared in sequence, the data in SD-1 is scrambled. Writer identities for SD-1 is available and we used this information to unscramble the writers. We then split SD-1 in two: characters written by the first 250 writers went into our new training set. The remaining 250 writers were placed in our test set. Thus we had two sets with nearly 30,000 examples each. The new training set was completed with enough examples from SD-3, starting at pattern # 0, to make a full set of 60,000 training patterns. Similarly, the new test set was completed with SD-3 examples starting at pattern # 35,000 to make a full set with 60,000 test patterns. Only a subset of 10,000 test images (5,000 from SD-1 and 5,000 from SD-3) is available on this site. The full 60,000 sample training set is available.\n",
            "\n",
            "Downloaded from openml.org.\n"
          ]
        }
      ],
      "source": [
        "# Dataset decription\n",
        "print(mnist.DESCR)"
      ]
    },
    {
      "cell_type": "code",
      "execution_count": 7,
      "metadata": {
        "colab": {
          "base_uri": "https://localhost:8080/"
        },
        "id": "b6u2e09geiWa",
        "outputId": "34be0d19-ecc1-4812-c308-25217135d95a"
      },
      "outputs": [
        {
          "output_type": "execute_result",
          "data": {
            "text/plain": [
              "dict_keys(['data', 'target', 'frame', 'categories', 'feature_names', 'target_names', 'DESCR', 'details', 'url'])"
            ]
          },
          "metadata": {},
          "execution_count": 7
        }
      ],
      "source": [
        "mnist.keys()  # extra code – we only use data and target in this notebook"
      ]
    },
    {
      "cell_type": "code",
      "source": [
        "print(mnist.categories)"
      ],
      "metadata": {
        "colab": {
          "base_uri": "https://localhost:8080/"
        },
        "id": "00fjKAAzzJmQ",
        "outputId": "55acc27b-be29-45d4-9a9c-b81f623460e7"
      },
      "execution_count": 8,
      "outputs": [
        {
          "output_type": "stream",
          "name": "stdout",
          "text": [
            "{}\n"
          ]
        }
      ]
    },
    {
      "cell_type": "code",
      "execution_count": 9,
      "metadata": {
        "colab": {
          "base_uri": "https://localhost:8080/"
        },
        "id": "JwKU7DB-eiWa",
        "outputId": "8f71497e-0c2a-4538-8e86-99b83816aee9"
      },
      "outputs": [
        {
          "output_type": "execute_result",
          "data": {
            "text/plain": [
              "array([[0., 0., 0., ..., 0., 0., 0.],\n",
              "       [0., 0., 0., ..., 0., 0., 0.],\n",
              "       [0., 0., 0., ..., 0., 0., 0.],\n",
              "       ...,\n",
              "       [0., 0., 0., ..., 0., 0., 0.],\n",
              "       [0., 0., 0., ..., 0., 0., 0.],\n",
              "       [0., 0., 0., ..., 0., 0., 0.]])"
            ]
          },
          "metadata": {},
          "execution_count": 9
        }
      ],
      "source": [
        "# Data - 2D numpy array, target - 1D numpy array\n",
        "X, y = mnist.data, mnist.target\n",
        "X"
      ]
    },
    {
      "cell_type": "code",
      "execution_count": 10,
      "metadata": {
        "colab": {
          "base_uri": "https://localhost:8080/"
        },
        "id": "F_vCewsIeiWa",
        "outputId": "b0276887-90ca-4a90-fcbd-e78ed0afcc02"
      },
      "outputs": [
        {
          "output_type": "execute_result",
          "data": {
            "text/plain": [
              "(70000, 784)"
            ]
          },
          "metadata": {},
          "execution_count": 10
        }
      ],
      "source": [
        "# 70000 images , 28x28 pixels\n",
        "X.shape"
      ]
    },
    {
      "cell_type": "markdown",
      "source": [
        "7000 images,   \n",
        "28x28 pixels,  \n",
        "784 features,   \n",
        "each feature representing one pixel's intensity : 0-white, 1-black\n",
        "\n"
      ],
      "metadata": {
        "id": "pc_8qIJyzeHu"
      }
    },
    {
      "cell_type": "code",
      "execution_count": 11,
      "metadata": {
        "colab": {
          "base_uri": "https://localhost:8080/"
        },
        "id": "F-fhTtWjeiWb",
        "outputId": "4970bd10-428f-4fd0-9554-854f90ed2254"
      },
      "outputs": [
        {
          "output_type": "execute_result",
          "data": {
            "text/plain": [
              "array(['5', '0', '4', ..., '4', '5', '6'], dtype=object)"
            ]
          },
          "metadata": {},
          "execution_count": 11
        }
      ],
      "source": [
        "y"
      ]
    },
    {
      "cell_type": "code",
      "execution_count": 12,
      "metadata": {
        "colab": {
          "base_uri": "https://localhost:8080/"
        },
        "id": "DbK2HEoTeiWb",
        "outputId": "91db5345-c255-4064-ec41-9b806c4162f9"
      },
      "outputs": [
        {
          "output_type": "execute_result",
          "data": {
            "text/plain": [
              "(70000,)"
            ]
          },
          "metadata": {},
          "execution_count": 12
        }
      ],
      "source": [
        "y.shape"
      ]
    },
    {
      "cell_type": "markdown",
      "source": [
        "The training set is already shuffled for us, which is good because this guarantees that all cross-validation folds will be similar (we don’t want one fold to be missing some digits). Moreover, some learning algorithms are sensitive to the order of the training instances, and they perform poorly if they get many similar instances in a row. Shuffling the dataset ensures that this won’t happen."
      ],
      "metadata": {
        "id": "OK4fvJs40pX0"
      }
    },
    {
      "cell_type": "markdown",
      "source": [
        "You should always create a test set and set it aside before inspecting the data closely. The MNIST dataset returned by fetch_openml() is actually already split into a training set (the first 60,000 images) and a test set (the last 10,000 images)"
      ],
      "metadata": {
        "id": "Ovdn2wnM0mpP"
      }
    },
    {
      "cell_type": "code",
      "execution_count": 13,
      "metadata": {
        "id": "2inehGGoeiWd"
      },
      "outputs": [],
      "source": [
        "X_train, X_test, y_train, y_test = X[:60000], X[60000:], y[:60000], y[60000:]"
      ]
    },
    {
      "cell_type": "markdown",
      "source": [
        "### Converting array to images "
      ],
      "metadata": {
        "id": "cFRKD77J0HYl"
      }
    },
    {
      "cell_type": "code",
      "execution_count": 14,
      "metadata": {
        "colab": {
          "base_uri": "https://localhost:8080/",
          "height": 475
        },
        "id": "odbvrI4keiWb",
        "outputId": "4e09a387-7edb-4b86-8076-9f4091b2d36c"
      },
      "outputs": [
        {
          "output_type": "display_data",
          "data": {
            "text/plain": [
              "<Figure size 640x480 with 1 Axes>"
            ],
            "image/png": "[encoded data removed]"
          },
          "metadata": {}
        }
      ],
      "source": [
        "import matplotlib.pyplot as plt\n",
        "\n",
        "def plot_digit(image_data):\n",
        "    image = image_data.reshape(28, 28)\n",
        "    plt.imshow(image, cmap=\"binary\")\n",
        "    plt.axis(\"off\")\n",
        "\n",
        "some_digit = X[0]\n",
        "plot_digit(some_digit)\n",
        "save_fig(\"some_digit_plot\")  # extra code\n",
        "plt.show()"
      ]
    },
    {
      "cell_type": "code",
      "execution_count": 15,
      "metadata": {
        "colab": {
          "base_uri": "https://localhost:8080/",
          "height": 35
        },
        "id": "tySN-y41eiWc",
        "outputId": "0d5ae8f1-f407-4a99-da84-c6e9359ffe2b"
      },
      "outputs": [
        {
          "output_type": "execute_result",
          "data": {
            "text/plain": [
              "'5'"
            ],
            "application/vnd.google.colaboratory.intrinsic+json": {
              "type": "string"
            }
          },
          "metadata": {},
          "execution_count": 15
        }
      ],
      "source": [
        "y[0]"
      ]
    },
    {
      "cell_type": "code",
      "execution_count": 16,
      "metadata": {
        "colab": {
          "base_uri": "https://localhost:8080/",
          "height": 729
        },
        "id": "QGdMwXJmeiWd",
        "outputId": "fd22f6de-233b-403c-b9df-6962d18d3836"
      },
      "outputs": [
        {
          "output_type": "display_data",
          "data": {
            "text/plain": [
              "<Figure size 900x900 with 100 Axes>"
            ],
            "image/png": "[encoded data removed]"
          },
          "metadata": {}
        }
      ],
      "source": [
        "# extra code – this cell generates and saves Figure 3–2\n",
        "plt.figure(figsize=(9, 9))\n",
        "for idx, image_data in enumerate(X[:100]):\n",
        "    plt.subplot(10, 10, idx + 1)\n",
        "    plot_digit(image_data)\n",
        "plt.subplots_adjust(wspace=0, hspace=0)\n",
        "save_fig(\"more_digits_plot\", tight_layout=False)\n",
        "plt.show()"
      ]
    },
    {
      "cell_type": "markdown",
      "metadata": {
        "id": "4G5pM0AQeiWd"
      },
      "source": [
        "# Training a Binary Classifier\n",
        "\n",
        "**\"5\" Detector**"
      ]
    },
    {
      "cell_type": "markdown",
      "source": [
        "Let’s simplify the problem for now and only try to identify one digit—for example, the number 5. This “5-detector” will be an example of a binary classifier, capable of distinguishing between just two classes, 5 and non-5"
      ],
      "metadata": {
        "id": "iv42HrIf097l"
      }
    },
    {
      "cell_type": "code",
      "execution_count": 17,
      "metadata": {
        "id": "7wzLeMazeiWe"
      },
      "outputs": [],
      "source": [
        "# Creating target vector for classification task \n",
        "y_train_5 = (y_train == '5')  # True for all 5s, False for all other digits\n",
        "y_test_5 = (y_test == '5')"
      ]
    },
    {
      "cell_type": "markdown",
      "source": [
        "Let’s pick a classifier and train it. A good place to start is with a **stochastic gradient descent (SGD, or stochastic GD) classifier**, using Scikit-Learn’s SGDClassifier class. This classifier is capable of handling very large datasets efficiently. This is in part because SGD deals with training instances independently, one at a time, which also makes SGD well suited for online learning,"
      ],
      "metadata": {
        "id": "ZSgZdGPh1zwy"
      }
    },
    {
      "cell_type": "code",
      "execution_count": 18,
      "metadata": {
        "colab": {
          "base_uri": "https://localhost:8080/",
          "height": 75
        },
        "id": "BjUipg7beiWe",
        "outputId": "6fad18b0-7240-483d-f755-2fa9d97fe89a"
      },
      "outputs": [
        {
          "output_type": "execute_result",
          "data": {
            "text/plain": [
              "SGDClassifier(random_state=42)"
            ],
            "text/html": [
              "<style>#sk-container-id-1 {color: black;background-color: white;}#sk-container-id-1 pre{padding: 0;}#sk-container-id-1 div.sk-toggleable {background-color: white;}#sk-container-id-1 label.sk-toggleable__label {cursor: pointer;display: block;width: 100%;margin-bottom: 0;padding: 0.3em;box-sizing: border-box;text-align: center;}#sk-container-id-1 label.sk-toggleable__label-arrow:before {content: \"▸\";float: left;margin-right: 0.25em;color: #696969;}#sk-container-id-1 label.sk-toggleable__label-arrow:hover:before {color: black;}#sk-container-id-1 div.sk-estimator:hover label.sk-toggleable__label-arrow:before {color: black;}#sk-container-id-1 div.sk-toggleable__content {max-height: 0;max-width: 0;overflow: hidden;text-align: left;background-color: #f0f8ff;}#sk-container-id-1 div.sk-toggleable__content pre {margin: 0.2em;color: black;border-radius: 0.25em;background-color: #f0f8ff;}#sk-container-id-1 input.sk-toggleable__control:checked~div.sk-toggleable__content {max-height: 200px;max-width: 100%;overflow: auto;}#sk-container-id-1 input.sk-toggleable__control:checked~label.sk-toggleable__label-arrow:before {content: \"▾\";}#sk-container-id-1 div.sk-estimator input.sk-toggleable__control:checked~label.sk-toggleable__label {background-color: #d4ebff;}#sk-container-id-1 div.sk-label input.sk-toggleable__control:checked~label.sk-toggleable__label {background-color: #d4ebff;}#sk-container-id-1 input.sk-hidden--visually {border: 0;clip: rect(1px 1px 1px 1px);clip: rect(1px, 1px, 1px, 1px);height: 1px;margin: -1px;overflow: hidden;padding: 0;position: absolute;width: 1px;}#sk-container-id-1 div.sk-estimator {font-family: monospace;background-color: #f0f8ff;border: 1px dotted black;border-radius: 0.25em;box-sizing: border-box;margin-bottom: 0.5em;}#sk-container-id-1 div.sk-estimator:hover {background-color: #d4ebff;}#sk-container-id-1 div.sk-parallel-item::after {content: \"\";width: 100%;border-bottom: 1px solid gray;flex-grow: 1;}#sk-container-id-1 div.sk-label:hover label.sk-toggleable__label {background-color: #d4ebff;}#sk-container-id-1 div.sk-serial::before {content: \"\";position: absolute;border-left: 1px solid gray;box-sizing: border-box;top: 0;bottom: 0;left: 50%;z-index: 0;}#sk-container-id-1 div.sk-serial {display: flex;flex-direction: column;align-items: center;background-color: white;padding-right: 0.2em;padding-left: 0.2em;position: relative;}#sk-container-id-1 div.sk-item {position: relative;z-index: 1;}#sk-container-id-1 div.sk-parallel {display: flex;align-items: stretch;justify-content: center;background-color: white;position: relative;}#sk-container-id-1 div.sk-item::before, #sk-container-id-1 div.sk-parallel-item::before {content: \"\";position: absolute;border-left: 1px solid gray;box-sizing: border-box;top: 0;bottom: 0;left: 50%;z-index: -1;}#sk-container-id-1 div.sk-parallel-item {display: flex;flex-direction: column;z-index: 1;position: relative;background-color: white;}#sk-container-id-1 div.sk-parallel-item:first-child::after {align-self: flex-end;width: 50%;}#sk-container-id-1 div.sk-parallel-item:last-child::after {align-self: flex-start;width: 50%;}#sk-container-id-1 div.sk-parallel-item:only-child::after {width: 0;}#sk-container-id-1 div.sk-dashed-wrapped {border: 1px dashed gray;margin: 0 0.4em 0.5em 0.4em;box-sizing: border-box;padding-bottom: 0.4em;background-color: white;}#sk-container-id-1 div.sk-label label {font-family: monospace;font-weight: bold;display: inline-block;line-height: 1.2em;}#sk-container-id-1 div.sk-label-container {text-align: center;}#sk-container-id-1 div.sk-container {/* jupyter's `normalize.less` sets `[hidden] { display: none; }` but bootstrap.min.css set `[hidden] { display: none !important; }` so we also need the `!important` here to be able to override the default hidden behavior on the sphinx rendered scikit-learn.org. See: https://github.com/scikit-learn/scikit-learn/issues/21755 */display: inline-block !important;position: relative;}#sk-container-id-1 div.sk-text-repr-fallback {display: none;}</style><div id=\"sk-container-id-1\" class=\"sk-top-container\"><div class=\"sk-text-repr-fallback\"><pre>SGDClassifier(random_state=42)</pre><b>In a Jupyter environment, please rerun this cell to show the HTML representation or trust the notebook. <br />On GitHub, the HTML representation is unable to render, please try loading this page with nbviewer.org.</b></div><div class=\"sk-container\" hidden><div class=\"sk-item\"><div class=\"sk-estimator sk-toggleable\"><input class=\"sk-toggleable__control sk-hidden--visually\" id=\"sk-estimator-id-1\" type=\"checkbox\" checked><label for=\"sk-estimator-id-1\" class=\"sk-toggleable__label sk-toggleable__label-arrow\">SGDClassifier</label><div class=\"sk-toggleable__content\"><pre>SGDClassifier(random_state=42)</pre></div></div></div></div></div>"
            ]
          },
          "metadata": {},
          "execution_count": 18
        }
      ],
      "source": [
        "from sklearn.linear_model import SGDClassifier\n",
        "sgd_clf = SGDClassifier(random_state=42)\n",
        "sgd_clf.fit(X_train, y_train_5)"
      ]
    },
    {
      "cell_type": "markdown",
      "source": [
        "Now we can use it to detect images of the number 5:\n"
      ],
      "metadata": {
        "id": "pJBYx8a87scJ"
      }
    },
    {
      "cell_type": "code",
      "execution_count": 19,
      "metadata": {
        "colab": {
          "base_uri": "https://localhost:8080/"
        },
        "id": "UMcLrAyBeiWe",
        "outputId": "fa948677-c3fd-4c85-bfd0-d1b5e6ace7a7"
      },
      "outputs": [
        {
          "output_type": "execute_result",
          "data": {
            "text/plain": [
              "array([ True])"
            ]
          },
          "metadata": {},
          "execution_count": 19
        }
      ],
      "source": [
        "sgd_clf.predict([some_digit])"
      ]
    },
    {
      "cell_type": "markdown",
      "metadata": {
        "id": "6r17HMrCeiWe"
      },
      "source": [
        "# Performance Measures\n",
        "\n",
        "Evaluating a classifier is often significantly trickier than evaluating a regressor"
      ]
    },
    {
      "cell_type": "markdown",
      "metadata": {
        "id": "iNF2JB02eiWf"
      },
      "source": [
        "## Measuring Accuracy Using Cross-Validation"
      ]
    },
    {
      "cell_type": "markdown",
      "source": [
        "Let’s use the cross_val_score() function to evaluate our SGDClassifier model, using k-fold cross-validation with three folds. Remember that k-fold cross-validation means splitting the training set into k folds (in this case, three), then training the model k times, holding out a different fold each time for evaluation. "
      ],
      "metadata": {
        "id": "JKRjeYKm897x"
      }
    },
    {
      "cell_type": "code",
      "execution_count": 20,
      "metadata": {
        "colab": {
          "base_uri": "https://localhost:8080/"
        },
        "id": "VF_78wk7eiWf",
        "outputId": "e4f8c033-2cc8-4e86-dd7b-ff1044861dc8"
      },
      "outputs": [
        {
          "output_type": "execute_result",
          "data": {
            "text/plain": [
              "array([0.95035, 0.96035, 0.9604 ])"
            ]
          },
          "metadata": {},
          "execution_count": 20
        }
      ],
      "source": [
        "from sklearn.model_selection import cross_val_score\n",
        "\n",
        "cross_val_score(sgd_clf, X_train, y_train_5, cv=3, scoring=\"accuracy\")"
      ]
    },
    {
      "cell_type": "markdown",
      "source": [
        "Above 95% accuracy (ratio of correct predictions) on all cross-validation folds? This looks amazing, doesn’t it?"
      ],
      "metadata": {
        "id": "opHfyvZv9xtV"
      }
    },
    {
      "cell_type": "markdown",
      "source": [
        "let’s look at a dummy classifier that just classifies every single image in the most frequent class, which in this case is the negative class (i.e., non 5):"
      ],
      "metadata": {
        "id": "o3rmVoQa-Qet"
      }
    },
    {
      "cell_type": "markdown",
      "source": [
        "**From ChatGPT**  \n",
        "***DummyClassifier*** is a classifier that makes predictions using simple rules. **It can be used as a baseline model for classification tasks** where the classes are imbalanced or where the data contains a lot of noise. The DummyClassifier can make two types of predictions:\n",
        "\n",
        " -   \"most frequent\" - Always predicts the most frequent class in the training data.   \n",
        " -  \"stratified\" - Randomly predicts each class with a probability proportional to the class frequencies in the training data."
      ],
      "metadata": {
        "id": "b4A4Sy5CBWUM"
      }
    },
    {
      "cell_type": "code",
      "execution_count": 21,
      "metadata": {
        "colab": {
          "base_uri": "https://localhost:8080/"
        },
        "id": "crQziGAteiWf",
        "outputId": "90c8a1d4-626e-42de-8836-625e0c61f465"
      },
      "outputs": [
        {
          "output_type": "stream",
          "name": "stdout",
          "text": [
            "False\n"
          ]
        }
      ],
      "source": [
        "from sklearn.dummy import DummyClassifier \n",
        "\n",
        "dummy_clf = DummyClassifier()\n",
        "dummy_clf.fit(X_train, y_train_5)\n",
        "print(any(dummy_clf.predict(X_train))) # The any() function in Python returns True if any element of the given iterable is True, otherwise it returns False\n",
        "\n",
        "# It should print out False, thats what its designed to do \n"
      ]
    },
    {
      "cell_type": "markdown",
      "source": [
        "Checking this model's accuracy "
      ],
      "metadata": {
        "id": "o-YrtkQfLLMj"
      }
    },
    {
      "cell_type": "code",
      "execution_count": 22,
      "metadata": {
        "colab": {
          "base_uri": "https://localhost:8080/"
        },
        "id": "-LczYgI5eiWf",
        "outputId": "a91990d6-300c-4ec3-d588-075130490083"
      },
      "outputs": [
        {
          "output_type": "execute_result",
          "data": {
            "text/plain": [
              "array([0.90965, 0.90965, 0.90965])"
            ]
          },
          "metadata": {},
          "execution_count": 22
        }
      ],
      "source": [
        "cross_val_score(dummy_clf, X_train, y_train_5, cv=3, scoring=\"accuracy\")"
      ]
    },
    {
      "cell_type": "markdown",
      "source": [
        "it has over 90% accuracy! This is simply because only about 10% of the images are 5s, so if you always guess that an image is not a 5, you will be right about 90% of the time. \n",
        "\n",
        "So the SGD classifier was only am improvement of 5%, ie 95% over baseline model. "
      ],
      "metadata": {
        "id": "-X7H7_9CLiSH"
      }
    },
    {
      "cell_type": "markdown",
      "source": [
        "This demonstrates why accuracy is generally not the preferred performance measure for classifiers, especially when you are dealing with skewed datasets (i.e., when some classes are much more frequent than others). A much better way to evaluate the performance of a classifier is to look at the confusion matrix (CM)."
      ],
      "metadata": {
        "id": "Idh9bLX8Meaz"
      }
    },
    {
      "cell_type": "markdown",
      "source": [
        "## Implementing Cross Validation "
      ],
      "metadata": {
        "id": "EzlM0j-z-Gk7"
      }
    },
    {
      "cell_type": "markdown",
      "source": [
        "Occasionally you will need more control over the cross-validation process than what Scikit-Learn provides off the shelf. In these cases, you can implement cross- validation yourself. The following code does roughly the same thing as Scikit-Learn’s cross_val_score() function, and it prints the same result:"
      ],
      "metadata": {
        "id": "038kswHsMsvz"
      }
    },
    {
      "cell_type": "code",
      "execution_count": 23,
      "metadata": {
        "colab": {
          "base_uri": "https://localhost:8080/"
        },
        "id": "9WX168raeiWf",
        "outputId": "79f81965-82de-4132-fe99-923ad268caf7"
      },
      "outputs": [
        {
          "output_type": "stream",
          "name": "stdout",
          "text": [
            "0.95035\n",
            "0.96035\n",
            "0.9604\n"
          ]
        }
      ],
      "source": [
        "# sklearn.model_selection.StratifiedKFold is a cross-validation technique \n",
        "# used for classification tasks to ensure that each fold is made by \n",
        "# preserving the percentage of samples for each class. \n",
        "# This is important when dealing with imbalanced datasets, \n",
        "# where one class has a much smaller number of samples compared to the other class(es).\n",
        "\n",
        "\n",
        "# The StratifiedKFold function splits the data into K folds, \n",
        "# ensuring that each fold has the same proportion of the target classes as the complete dataset. \n",
        "# It returns indices that can be used to index into the original data array \n",
        "# to retrieve the training and validation sets for each fold.\n",
        "\n",
        "# The clone function in scikit-learn creates a new estimator \n",
        "# with the same parameters as the original estimator. \n",
        "# It is useful in situations where you want to create \n",
        "# multiple instances of an estimator with the same parameters.\n",
        "\n",
        "from sklearn.model_selection import StratifiedKFold\n",
        "from sklearn.base import clone\n",
        "\n",
        "skfolds = StratifiedKFold(n_splits=3) # Add shuffle=True if dataset is not already shuffled\n",
        "\n",
        "for train_index, test_index in skfolds.split(X_train, y_train_5):\n",
        "    clone_clf = clone(sgd_clf)\n",
        "    X_train_folds = X_train[train_index]\n",
        "    y_train_folds = y_train_5[train_index]\n",
        "    X_test_fold = X_train[test_index]\n",
        "    y_test_fold = y_train_5[test_index]\n",
        "\n",
        "    clone_clf.fit(X_train_folds, y_train_folds)\n",
        "    y_pred = clone_clf.predict(X_test_fold)\n",
        "    n_correct = sum(y_pred == y_test_fold)\n",
        "    print(n_correct/len(y_pred)) # prints percentage \n",
        "\n",
        "\n"
      ]
    },
    {
      "cell_type": "markdown",
      "metadata": {
        "id": "h0vEEunXeiWg"
      },
      "source": [
        "## Confusion Matrix"
      ]
    },
    {
      "cell_type": "markdown",
      "source": [
        "The general idea of a confusion matrix is to count the number of times instances of class A are classified as class B, for all A/B pairs. For example, to know the number of times the classifier confused images of 8s with 0s, you would look at row #8, column #0 of the confusion matrix."
      ],
      "metadata": {
        "id": "KZ22n8rjR3-6"
      }
    },
    {
      "cell_type": "markdown",
      "source": [
        "To compute the confusion matrix, you first need to have a set of predictions so that they can be compared to the actual targets. You could make predictions on the test set, but it’s best to keep that untouched for now (remember that you want to use the test set only at the very end of your project, once you have a classifier that you are ready to launch). \n",
        "\n",
        "Instead, you can use the cross_val_predict() function:"
      ],
      "metadata": {
        "id": "KE0ieG2nTCd9"
      }
    },
    {
      "cell_type": "code",
      "execution_count": 24,
      "metadata": {
        "id": "i72-BGAleiWg"
      },
      "outputs": [],
      "source": [
        "from sklearn.model_selection import cross_val_predict\n",
        "\n",
        "y_train_pred = cross_val_predict(sgd_clf, X_train, y_train_5, cv=3)"
      ]
    },
    {
      "cell_type": "markdown",
      "source": [
        "cross_val_predict() performs k-fold cross-validation, but instead of returning the evaluation scores, it returns the predic‐ tions made on each test fold. "
      ],
      "metadata": {
        "id": "NBwLrFz5WYZs"
      }
    },
    {
      "cell_type": "code",
      "source": [
        "y_train_pred"
      ],
      "metadata": {
        "colab": {
          "base_uri": "https://localhost:8080/"
        },
        "id": "imZGX-qaThHG",
        "outputId": "19077730-0539-4e55-b990-b421be81c413"
      },
      "execution_count": 25,
      "outputs": [
        {
          "output_type": "execute_result",
          "data": {
            "text/plain": [
              "array([ True, False, False, ...,  True, False, False])"
            ]
          },
          "metadata": {},
          "execution_count": 25
        }
      ]
    },
    {
      "cell_type": "code",
      "execution_count": 26,
      "metadata": {
        "colab": {
          "base_uri": "https://localhost:8080/"
        },
        "id": "3Vsh2T6yeiWg",
        "outputId": "68a3a9b0-14ab-4310-d09a-88a3cceabb7e"
      },
      "outputs": [
        {
          "output_type": "execute_result",
          "data": {
            "text/plain": [
              "array([[53892,   687],\n",
              "       [ 1891,  3530]])"
            ]
          },
          "metadata": {},
          "execution_count": 26
        }
      ],
      "source": [
        "from sklearn.metrics import confusion_matrix\n",
        "\n",
        "cm = confusion_matrix(y_train_5, y_train_pred)\n",
        "cm"
      ]
    },
    {
      "cell_type": "markdown",
      "source": [
        "Each row in a confusion matrix represents an actual class, while each column represents a predicted class. The first row of this matrix considers non-5 images (the negative class): 53,892 of them were correctly classified as non-5s (they are called true negatives), while the remaining 687 were wrongly classified as 5s (false positives, also called type I errors). The second row considers the images of 5s (the positive class): 1,891 were wrongly classified as non-5s (false negatives, also called type II errors), while the remaining 3,530 were correctly classified as 5s (true positives)."
      ],
      "metadata": {
        "id": "6SPDs-7pXYHo"
      }
    },
    {
      "cell_type": "markdown",
      "source": [
        "[true negative, false positive]  \n",
        "[false negative, true positive] \n"
      ],
      "metadata": {
        "id": "InoMOZ7IW-51"
      }
    },
    {
      "cell_type": "markdown",
      "source": [
        "![Confusion_matrix.png](data:image/png;base64,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)"
      ],
      "metadata": {
        "id": "zP4A8g57xRt0"
      }
    },
    {
      "cell_type": "markdown",
      "source": [
        "A perfect classifier would only have true positives and true negatives, so its confusion matrix would have nonzero values only on its main diagonal (top left to bottom right"
      ],
      "metadata": {
        "id": "GNYjofkmX5Sq"
      }
    },
    {
      "cell_type": "code",
      "execution_count": 27,
      "metadata": {
        "colab": {
          "base_uri": "https://localhost:8080/"
        },
        "id": "AARMNGq5eiWh",
        "outputId": "3032bf91-07a7-42c6-f945-e3ec5b1ef277"
      },
      "outputs": [
        {
          "output_type": "execute_result",
          "data": {
            "text/plain": [
              "array([[54579,     0],\n",
              "       [    0,  5421]])"
            ]
          },
          "metadata": {},
          "execution_count": 27
        }
      ],
      "source": [
        "y_train_perfect_predictions = y_train_5  # pretend we reached perfection\n",
        "confusion_matrix(y_train_5, y_train_perfect_predictions)"
      ]
    },
    {
      "cell_type": "markdown",
      "metadata": {
        "id": "U_QEvl0TeiWh"
      },
      "source": [
        "## Precision and Recall"
      ]
    },
    {
      "cell_type": "markdown",
      "source": [
        "Precision is the fraction of true positive examples among the examples that the model classified as positive. In other words, the number of true positives divided by the number of false positives plus true positives."
      ],
      "metadata": {
        "id": "-CT8BDjJ6LJC"
      }
    },
    {
      "cell_type": "code",
      "execution_count": 29,
      "metadata": {
        "id": "d4t8DY8veiWh",
        "colab": {
          "base_uri": "https://localhost:8080/"
        },
        "outputId": "38781289-3b0b-4c02-99d1-0d72efa2ecc7"
      },
      "outputs": [
        {
          "output_type": "execute_result",
          "data": {
            "text/plain": [
              "0.8370879772350012"
            ]
          },
          "metadata": {},
          "execution_count": 29
        }
      ],
      "source": [
        "from sklearn.metrics import precision_score, recall_score\n",
        "precision_score(y_train_5, y_train_pred) # = 3530/(687+3530)"
      ]
    },
    {
      "cell_type": "code",
      "execution_count": 30,
      "metadata": {
        "id": "F4o9ZveQeiWn",
        "colab": {
          "base_uri": "https://localhost:8080/"
        },
        "outputId": "10076f57-527a-4aa6-9c35-9e5b89d06629"
      },
      "outputs": [
        {
          "output_type": "execute_result",
          "data": {
            "text/plain": [
              "0.8370879772350012"
            ]
          },
          "metadata": {},
          "execution_count": 30
        }
      ],
      "source": [
        "# extra code – this cell also computes the precision: TP / (FP + TP)\n",
        "cm[1, 1] / (cm[0, 1] + cm[1, 1])"
      ]
    },
    {
      "cell_type": "markdown",
      "source": [
        "Recall, also known as sensitivity, is the fraction of examples classified as positive, among the total number of positive examples. In other words, the number of true positives divided by the number of true positives plus false negatives."
      ],
      "metadata": {
        "id": "OobObaTT6Qvl"
      }
    },
    {
      "cell_type": "code",
      "execution_count": 31,
      "metadata": {
        "id": "A0luCOWeeiWn",
        "colab": {
          "base_uri": "https://localhost:8080/"
        },
        "outputId": "b5409d89-e5c5-4903-de25-cfdc83c91bb2"
      },
      "outputs": [
        {
          "output_type": "execute_result",
          "data": {
            "text/plain": [
              "0.6511713705958311"
            ]
          },
          "metadata": {},
          "execution_count": 31
        }
      ],
      "source": [
        "recall_score(y_train_5, y_train_pred)  # == 3530 / (1891 + 3530)"
      ]
    },
    {
      "cell_type": "code",
      "execution_count": 32,
      "metadata": {
        "id": "0efs52BpeiWn",
        "colab": {
          "base_uri": "https://localhost:8080/"
        },
        "outputId": "486cf1f5-6190-4aea-d314-dd397854419c"
      },
      "outputs": [
        {
          "output_type": "execute_result",
          "data": {
            "text/plain": [
              "0.6511713705958311"
            ]
          },
          "metadata": {},
          "execution_count": 32
        }
      ],
      "source": [
        "# extra code – this cell also computes the recall: TP / (FN + TP)\n",
        "cm[1, 1] / (cm[1, 0] + cm[1, 1])"
      ]
    },
    {
      "cell_type": "markdown",
      "source": [
        "It is often convenient to combine precision and recall into a single metric called the F1 score, especially when you need a single metric to compare two classifiers. The F1 score is the harmonic mean of precision and recall. Whereas the regular mean treats all values equally, the harmonic mean gives much more weight to low values. As a result, the classifier will only get a high F1 score if both recall and precision are high.\n"
      ],
      "metadata": {
        "id": "KBQcXoru6c6f"
      }
    },
    {
      "cell_type": "code",
      "execution_count": 33,
      "metadata": {
        "id": "7FmgIUCzeiWn",
        "colab": {
          "base_uri": "https://localhost:8080/"
        },
        "outputId": "53c59c18-ef07-4bb5-ffb2-4aebabbfb0de"
      },
      "outputs": [
        {
          "output_type": "execute_result",
          "data": {
            "text/plain": [
              "0.7325171197343846"
            ]
          },
          "metadata": {},
          "execution_count": 33
        }
      ],
      "source": [
        "from sklearn.metrics import f1_score\n",
        "\n",
        "f1_score(y_train_5, y_train_pred)"
      ]
    },
    {
      "cell_type": "code",
      "execution_count": 34,
      "metadata": {
        "id": "eDqgOjACeiWo",
        "colab": {
          "base_uri": "https://localhost:8080/"
        },
        "outputId": "67d7dbc4-f1e1-4b2b-ea59-34e9ab22baa6"
      },
      "outputs": [
        {
          "output_type": "execute_result",
          "data": {
            "text/plain": [
              "0.7325171197343847"
            ]
          },
          "metadata": {},
          "execution_count": 34
        }
      ],
      "source": [
        "# extra code – this cell also computes the f1 score\n",
        "cm[1, 1] / (cm[1, 1] + (cm[1, 0] + cm[0, 1]) / 2)"
      ]
    },
    {
      "cell_type": "markdown",
      "metadata": {
        "id": "x2ivL5REeiWo"
      },
      "source": [
        "## Precision/Recall Trade-off"
      ]
    },
    {
      "cell_type": "code",
      "execution_count": null,
      "metadata": {
        "id": "cxEtop0CeiWo"
      },
      "outputs": [],
      "source": [
        "y_scores = sgd_clf.decision_function([some_digit])\n",
        "y_scores"
      ]
    },
    {
      "cell_type": "code",
      "execution_count": null,
      "metadata": {
        "id": "oRvxyHPZeiWo"
      },
      "outputs": [],
      "source": [
        "threshold = 0\n",
        "y_some_digit_pred = (y_scores > threshold)"
      ]
    },
    {
      "cell_type": "code",
      "execution_count": null,
      "metadata": {
        "id": "DmZl14_KeiWo"
      },
      "outputs": [],
      "source": [
        "y_some_digit_pred"
      ]
    },
    {
      "cell_type": "code",
      "execution_count": null,
      "metadata": {
        "id": "ymVzY4dGeiWp"
      },
      "outputs": [],
      "source": [
        "# extra code – just shows that y_scores > 0 produces the same result as\n",
        "#              calling predict()\n",
        "y_scores > 0"
      ]
    },
    {
      "cell_type": "code",
      "execution_count": null,
      "metadata": {
        "id": "r_x-0J_ieiWp"
      },
      "outputs": [],
      "source": [
        "threshold = 3000\n",
        "y_some_digit_pred = (y_scores > threshold)\n",
        "y_some_digit_pred"
      ]
    },
    {
      "cell_type": "code",
      "execution_count": null,
      "metadata": {
        "id": "XqoYxRQWeiWp"
      },
      "outputs": [],
      "source": [
        "y_scores = cross_val_predict(sgd_clf, X_train, y_train_5, cv=3,\n",
        "                             method=\"decision_function\")"
      ]
    },
    {
      "cell_type": "code",
      "execution_count": null,
      "metadata": {
        "id": "zAkpkw4UeiWp"
      },
      "outputs": [],
      "source": [
        "from sklearn.metrics import precision_recall_curve\n",
        "\n",
        "precisions, recalls, thresholds = precision_recall_curve(y_train_5, y_scores)"
      ]
    },
    {
      "cell_type": "code",
      "execution_count": null,
      "metadata": {
        "id": "oBpGzysCeiWq"
      },
      "outputs": [],
      "source": [
        "plt.figure(figsize=(8, 4))  # extra code – it's not needed, just formatting\n",
        "plt.plot(thresholds, precisions[:-1], \"b--\", label=\"Precision\", linewidth=2)\n",
        "plt.plot(thresholds, recalls[:-1], \"g-\", label=\"Recall\", linewidth=2)\n",
        "plt.vlines(threshold, 0, 1.0, \"k\", \"dotted\", label=\"threshold\")\n",
        "\n",
        "# extra code – this section just beautifies and saves Figure 3–5\n",
        "idx = (thresholds >= threshold).argmax()  # first index ≥ threshold\n",
        "plt.plot(thresholds[idx], precisions[idx], \"bo\")\n",
        "plt.plot(thresholds[idx], recalls[idx], \"go\")\n",
        "plt.axis([-50000, 50000, 0, 1])\n",
        "plt.grid()\n",
        "plt.xlabel(\"Threshold\")\n",
        "plt.legend(loc=\"center right\")\n",
        "save_fig(\"precision_recall_vs_threshold_plot\")\n",
        "\n",
        "plt.show()"
      ]
    },
    {
      "cell_type": "code",
      "execution_count": null,
      "metadata": {
        "id": "xs573Mu7eiWq"
      },
      "outputs": [],
      "source": [
        "import matplotlib.patches as patches  # extra code – for the curved arrow\n",
        "\n",
        "plt.figure(figsize=(6, 5))  # extra code – not needed, just formatting\n",
        "\n",
        "plt.plot(recalls, precisions, linewidth=2, label=\"Precision/Recall curve\")\n",
        "\n",
        "# extra code – just beautifies and saves Figure 3–6\n",
        "plt.plot([recalls[idx], recalls[idx]], [0., precisions[idx]], \"k:\")\n",
        "plt.plot([0.0, recalls[idx]], [precisions[idx], precisions[idx]], \"k:\")\n",
        "plt.plot([recalls[idx]], [precisions[idx]], \"ko\",\n",
        "         label=\"Point at threshold 3,000\")\n",
        "plt.gca().add_patch(patches.FancyArrowPatch(\n",
        "    (0.79, 0.60), (0.61, 0.78),\n",
        "    connectionstyle=\"arc3,rad=.2\",\n",
        "    arrowstyle=\"Simple, tail_width=1.5, head_width=8, head_length=10\",\n",
        "    color=\"#444444\"))\n",
        "plt.text(0.56, 0.62, \"Higher\\nthreshold\", color=\"#333333\")\n",
        "plt.xlabel(\"Recall\")\n",
        "plt.ylabel(\"Precision\")\n",
        "plt.axis([0, 1, 0, 1])\n",
        "plt.grid()\n",
        "plt.legend(loc=\"lower left\")\n",
        "save_fig(\"precision_vs_recall_plot\")\n",
        "\n",
        "plt.show()"
      ]
    },
    {
      "cell_type": "code",
      "execution_count": null,
      "metadata": {
        "id": "ImSNKP3IeiWq"
      },
      "outputs": [],
      "source": [
        "idx_for_90_precision = (precisions >= 0.90).argmax()\n",
        "threshold_for_90_precision = thresholds[idx_for_90_precision]\n",
        "threshold_for_90_precision"
      ]
    },
    {
      "cell_type": "code",
      "execution_count": null,
      "metadata": {
        "id": "5oVNwH3deiWq"
      },
      "outputs": [],
      "source": [
        "y_train_pred_90 = (y_scores >= threshold_for_90_precision)"
      ]
    },
    {
      "cell_type": "code",
      "execution_count": null,
      "metadata": {
        "id": "0vDEf8CkeiWr"
      },
      "outputs": [],
      "source": [
        "precision_score(y_train_5, y_train_pred_90)"
      ]
    },
    {
      "cell_type": "code",
      "execution_count": null,
      "metadata": {
        "id": "kLovKSQGeiWr"
      },
      "outputs": [],
      "source": [
        "recall_at_90_precision = recall_score(y_train_5, y_train_pred_90)\n",
        "recall_at_90_precision"
      ]
    },
    {
      "cell_type": "markdown",
      "metadata": {
        "id": "sg8B-PrWeiWr"
      },
      "source": [
        "## The ROC Curve"
      ]
    },
    {
      "cell_type": "code",
      "execution_count": null,
      "metadata": {
        "id": "uaqZu9y0eiWr"
      },
      "outputs": [],
      "source": [
        "from sklearn.metrics import roc_curve\n",
        "\n",
        "fpr, tpr, thresholds = roc_curve(y_train_5, y_scores)"
      ]
    },
    {
      "cell_type": "code",
      "execution_count": null,
      "metadata": {
        "id": "G3aScSfkeiWr"
      },
      "outputs": [],
      "source": [
        "idx_for_threshold_at_90 = (thresholds <= threshold_for_90_precision).argmax()\n",
        "tpr_90, fpr_90 = tpr[idx_for_threshold_at_90], fpr[idx_for_threshold_at_90]\n",
        "\n",
        "plt.figure(figsize=(6, 5))  # extra code – not needed, just formatting\n",
        "plt.plot(fpr, tpr, linewidth=2, label=\"ROC curve\")\n",
        "plt.plot([0, 1], [0, 1], 'k:', label=\"Random classifier's ROC curve\")\n",
        "plt.plot([fpr_90], [tpr_90], \"ko\", label=\"Threshold for 90% precision\")\n",
        "\n",
        "# extra code – just beautifies and saves Figure 3–7\n",
        "plt.gca().add_patch(patches.FancyArrowPatch(\n",
        "    (0.20, 0.89), (0.07, 0.70),\n",
        "    connectionstyle=\"arc3,rad=.4\",\n",
        "    arrowstyle=\"Simple, tail_width=1.5, head_width=8, head_length=10\",\n",
        "    color=\"#444444\"))\n",
        "plt.text(0.12, 0.71, \"Higher\\nthreshold\", color=\"#333333\")\n",
        "plt.xlabel('False Positive Rate (Fall-Out)')\n",
        "plt.ylabel('True Positive Rate (Recall)')\n",
        "plt.grid()\n",
        "plt.axis([0, 1, 0, 1])\n",
        "plt.legend(loc=\"lower right\", fontsize=13)\n",
        "save_fig(\"roc_curve_plot\")\n",
        "\n",
        "plt.show()"
      ]
    },
    {
      "cell_type": "code",
      "execution_count": null,
      "metadata": {
        "id": "BxoluycreiWs"
      },
      "outputs": [],
      "source": [
        "from sklearn.metrics import roc_auc_score\n",
        "\n",
        "roc_auc_score(y_train_5, y_scores)"
      ]
    },
    {
      "cell_type": "markdown",
      "metadata": {
        "id": "4B_axRVBeiWs"
      },
      "source": [
        "**Warning:** the following cell may take a few minutes to run."
      ]
    },
    {
      "cell_type": "code",
      "execution_count": null,
      "metadata": {
        "id": "-9aEoKxweiWs"
      },
      "outputs": [],
      "source": [
        "from sklearn.ensemble import RandomForestClassifier\n",
        "\n",
        "forest_clf = RandomForestClassifier(random_state=42)"
      ]
    },
    {
      "cell_type": "code",
      "execution_count": null,
      "metadata": {
        "id": "cKupClOdeiWs"
      },
      "outputs": [],
      "source": [
        "y_probas_forest = cross_val_predict(forest_clf, X_train, y_train_5, cv=3,\n",
        "                                    method=\"predict_proba\")"
      ]
    },
    {
      "cell_type": "code",
      "execution_count": null,
      "metadata": {
        "id": "m5v-D-E6eiWt"
      },
      "outputs": [],
      "source": [
        "y_probas_forest[:2]"
      ]
    },
    {
      "cell_type": "markdown",
      "metadata": {
        "id": "QHRzWEyFeiWt"
      },
      "source": [
        "These are _estimated probabilities_. Among the images that the model classified as positive with a probability between 50% and 60%, there are actually about 94% positive images:"
      ]
    },
    {
      "cell_type": "code",
      "execution_count": null,
      "metadata": {
        "id": "6-IG-vmoeiWt"
      },
      "outputs": [],
      "source": [
        "# Not in the code\n",
        "idx_50_to_60 = (y_probas_forest[:, 1] > 0.50) & (y_probas_forest[:, 1] < 0.60)\n",
        "print(f\"{(y_train_5[idx_50_to_60]).sum() / idx_50_to_60.sum():.1%}\")"
      ]
    },
    {
      "cell_type": "code",
      "execution_count": null,
      "metadata": {
        "id": "-TakCTogeiWt"
      },
      "outputs": [],
      "source": [
        "y_scores_forest = y_probas_forest[:, 1]\n",
        "precisions_forest, recalls_forest, thresholds_forest = precision_recall_curve(\n",
        "    y_train_5, y_scores_forest)"
      ]
    },
    {
      "cell_type": "code",
      "execution_count": null,
      "metadata": {
        "id": "2yHi_o_5eiWu"
      },
      "outputs": [],
      "source": [
        "plt.figure(figsize=(6, 5))  # extra code – not needed, just formatting\n",
        "\n",
        "plt.plot(recalls_forest, precisions_forest, \"b-\", linewidth=2,\n",
        "         label=\"Random Forest\")\n",
        "plt.plot(recalls, precisions, \"--\", linewidth=2, label=\"SGD\")\n",
        "\n",
        "# extra code – just beautifies and saves Figure 3–8\n",
        "plt.xlabel(\"Recall\")\n",
        "plt.ylabel(\"Precision\")\n",
        "plt.axis([0, 1, 0, 1])\n",
        "plt.grid()\n",
        "plt.legend(loc=\"lower left\")\n",
        "save_fig(\"pr_curve_comparison_plot\")\n",
        "\n",
        "plt.show()"
      ]
    },
    {
      "cell_type": "markdown",
      "metadata": {
        "id": "zMEpru00eiWu"
      },
      "source": [
        "We could use `cross_val_predict(forest_clf, X_train, y_train_5, cv=3)` to compute `y_train_pred_forest`, but since we already have the estimated probabilities, we can just use the default threshold of 50% probability to get the same predictions much faster:"
      ]
    },
    {
      "cell_type": "code",
      "execution_count": null,
      "metadata": {
        "id": "lfhf4nbkeiWu"
      },
      "outputs": [],
      "source": [
        "y_train_pred_forest = y_probas_forest[:, 1] >= 0.5  # positive proba ≥ 50%\n",
        "f1_score(y_train_5, y_train_pred_forest)"
      ]
    },
    {
      "cell_type": "code",
      "execution_count": null,
      "metadata": {
        "id": "DaUVBq7ieiWv"
      },
      "outputs": [],
      "source": [
        "roc_auc_score(y_train_5, y_scores_forest)"
      ]
    },
    {
      "cell_type": "code",
      "execution_count": null,
      "metadata": {
        "id": "jUuBLcDneiWv"
      },
      "outputs": [],
      "source": [
        "precision_score(y_train_5, y_train_pred_forest)"
      ]
    },
    {
      "cell_type": "code",
      "execution_count": null,
      "metadata": {
        "id": "elqAhzFUeiWv"
      },
      "outputs": [],
      "source": [
        "recall_score(y_train_5, y_train_pred_forest)"
      ]
    },
    {
      "cell_type": "markdown",
      "metadata": {
        "id": "qr0oy5ICeiWv"
      },
      "source": [
        "# Multiclass Classification"
      ]
    },
    {
      "cell_type": "markdown",
      "metadata": {
        "id": "tXR_rNMReiWw"
      },
      "source": [
        "SVMs do not scale well to large datasets, so let's only train on the first 2,000 instances, or else this section will take a very long time to run:"
      ]
    },
    {
      "cell_type": "code",
      "execution_count": null,
      "metadata": {
        "id": "wEIjcVQ9eiWw"
      },
      "outputs": [],
      "source": [
        "from sklearn.svm import SVC\n",
        "\n",
        "svm_clf = SVC(random_state=42)\n",
        "svm_clf.fit(X_train[:2000], y_train[:2000])  # y_train, not y_train_5"
      ]
    },
    {
      "cell_type": "code",
      "execution_count": null,
      "metadata": {
        "id": "xRX0rbSreiWw"
      },
      "outputs": [],
      "source": [
        "svm_clf.predict([some_digit])"
      ]
    },
    {
      "cell_type": "code",
      "execution_count": null,
      "metadata": {
        "id": "e-kHSxCZeiWw"
      },
      "outputs": [],
      "source": [
        "some_digit_scores = svm_clf.decision_function([some_digit])\n",
        "some_digit_scores.round(2)"
      ]
    },
    {
      "cell_type": "code",
      "execution_count": null,
      "metadata": {
        "id": "MyGmGuCyeiWx"
      },
      "outputs": [],
      "source": [
        "class_id = some_digit_scores.argmax()\n",
        "class_id"
      ]
    },
    {
      "cell_type": "code",
      "execution_count": null,
      "metadata": {
        "id": "D8cJQJgZeiWx"
      },
      "outputs": [],
      "source": [
        "svm_clf.classes_"
      ]
    },
    {
      "cell_type": "code",
      "execution_count": null,
      "metadata": {
        "id": "OPLgzeTkeiWy"
      },
      "outputs": [],
      "source": [
        "svm_clf.classes_[class_id]"
      ]
    },
    {
      "cell_type": "markdown",
      "metadata": {
        "id": "_vK8x202eiWz"
      },
      "source": [
        "If you want `decision_function()` to return all 45 scores, you can set the `decision_function_shape` hyperparameter to `\"ovo\"`. The default value is `\"ovr\"`, but don't let this confuse you: `SVC` always uses OvO for training. This hyperparameter only affects whether or not the 45 scores get aggregated or not:"
      ]
    },
    {
      "cell_type": "code",
      "execution_count": null,
      "metadata": {
        "id": "hnlsSyTHeiWz"
      },
      "outputs": [],
      "source": [
        "# extra code – shows how to get all 45 OvO scores if needed\n",
        "svm_clf.decision_function_shape = \"ovo\"\n",
        "some_digit_scores_ovo = svm_clf.decision_function([some_digit])\n",
        "some_digit_scores_ovo.round(2)"
      ]
    },
    {
      "cell_type": "code",
      "execution_count": null,
      "metadata": {
        "id": "FLzeQNBseiWz"
      },
      "outputs": [],
      "source": [
        "from sklearn.multiclass import OneVsRestClassifier\n",
        "\n",
        "ovr_clf = OneVsRestClassifier(SVC(random_state=42))\n",
        "ovr_clf.fit(X_train[:2000], y_train[:2000])"
      ]
    },
    {
      "cell_type": "code",
      "execution_count": null,
      "metadata": {
        "id": "0uvcI81ZeiWz"
      },
      "outputs": [],
      "source": [
        "ovr_clf.predict([some_digit])"
      ]
    },
    {
      "cell_type": "code",
      "execution_count": null,
      "metadata": {
        "id": "iO66cgyqeiWz"
      },
      "outputs": [],
      "source": [
        "len(ovr_clf.estimators_)"
      ]
    },
    {
      "cell_type": "code",
      "execution_count": null,
      "metadata": {
        "id": "RviKdI5YeiW0"
      },
      "outputs": [],
      "source": [
        "sgd_clf = SGDClassifier(random_state=42)\n",
        "sgd_clf.fit(X_train, y_train)\n",
        "sgd_clf.predict([some_digit])"
      ]
    },
    {
      "cell_type": "code",
      "execution_count": null,
      "metadata": {
        "id": "Keo0p9YxeiW0"
      },
      "outputs": [],
      "source": [
        "sgd_clf.decision_function([some_digit]).round()"
      ]
    },
    {
      "cell_type": "markdown",
      "metadata": {
        "id": "tDno4kxMeiW0"
      },
      "source": [
        "**Warning:** the following two cells may take a few minutes each to run:"
      ]
    },
    {
      "cell_type": "code",
      "execution_count": null,
      "metadata": {
        "id": "FL7-BdxzeiW0"
      },
      "outputs": [],
      "source": [
        "cross_val_score(sgd_clf, X_train, y_train, cv=3, scoring=\"accuracy\")"
      ]
    },
    {
      "cell_type": "code",
      "execution_count": null,
      "metadata": {
        "id": "ZgYkYOe7eiW1"
      },
      "outputs": [],
      "source": [
        "from sklearn.preprocessing import StandardScaler\n",
        "\n",
        "scaler = StandardScaler()\n",
        "X_train_scaled = scaler.fit_transform(X_train.astype(\"float64\"))\n",
        "cross_val_score(sgd_clf, X_train_scaled, y_train, cv=3, scoring=\"accuracy\")"
      ]
    },
    {
      "cell_type": "markdown",
      "metadata": {
        "id": "nRWNskUReiW1"
      },
      "source": [
        "# Error Analysis"
      ]
    },
    {
      "cell_type": "markdown",
      "metadata": {
        "id": "rvUS_c-QeiW1"
      },
      "source": [
        "**Warning:** the following cell will take a few minutes to run:"
      ]
    },
    {
      "cell_type": "code",
      "execution_count": null,
      "metadata": {
        "id": "dG4dwF0oeiW1"
      },
      "outputs": [],
      "source": [
        "from sklearn.metrics import ConfusionMatrixDisplay\n",
        "\n",
        "y_train_pred = cross_val_predict(sgd_clf, X_train_scaled, y_train, cv=3)\n",
        "plt.rc('font', size=9)  # extra code – make the text smaller\n",
        "ConfusionMatrixDisplay.from_predictions(y_train, y_train_pred)\n",
        "plt.show()"
      ]
    },
    {
      "cell_type": "code",
      "execution_count": null,
      "metadata": {
        "id": "hS6joSvyeiW2"
      },
      "outputs": [],
      "source": [
        "plt.rc('font', size=10)  # extra code\n",
        "ConfusionMatrixDisplay.from_predictions(y_train, y_train_pred,\n",
        "                                        normalize=\"true\", values_format=\".0%\")\n",
        "plt.show()"
      ]
    },
    {
      "cell_type": "code",
      "execution_count": null,
      "metadata": {
        "id": "l_Clv4gSeiW2"
      },
      "outputs": [],
      "source": [
        "sample_weight = (y_train_pred != y_train)\n",
        "plt.rc('font', size=10)  # extra code\n",
        "ConfusionMatrixDisplay.from_predictions(y_train, y_train_pred,\n",
        "                                        sample_weight=sample_weight,\n",
        "                                        normalize=\"true\", values_format=\".0%\")\n",
        "plt.show()"
      ]
    },
    {
      "cell_type": "markdown",
      "metadata": {
        "id": "VDeqwj7leiW2"
      },
      "source": [
        "Let's put all plots in a couple of figures for the book:"
      ]
    },
    {
      "cell_type": "code",
      "execution_count": null,
      "metadata": {
        "id": "t6bR9nK_eiW3"
      },
      "outputs": [],
      "source": [
        "# extra code – this cell generates and saves Figure 3–9\n",
        "fig, axs = plt.subplots(nrows=1, ncols=2, figsize=(9, 4))\n",
        "plt.rc('font', size=9)\n",
        "ConfusionMatrixDisplay.from_predictions(y_train, y_train_pred, ax=axs[0])\n",
        "axs[0].set_title(\"Confusion matrix\")\n",
        "plt.rc('font', size=10)\n",
        "ConfusionMatrixDisplay.from_predictions(y_train, y_train_pred, ax=axs[1],\n",
        "                                        normalize=\"true\", values_format=\".0%\")\n",
        "axs[1].set_title(\"CM normalized by row\")\n",
        "save_fig(\"confusion_matrix_plot_1\")\n",
        "plt.show()"
      ]
    },
    {
      "cell_type": "code",
      "execution_count": null,
      "metadata": {
        "id": "KkE8YIUneiW3"
      },
      "outputs": [],
      "source": [
        "# extra code – this cell generates and saves Figure 3–10\n",
        "fig, axs = plt.subplots(nrows=1, ncols=2, figsize=(9, 4))\n",
        "plt.rc('font', size=10)\n",
        "ConfusionMatrixDisplay.from_predictions(y_train, y_train_pred, ax=axs[0],\n",
        "                                        sample_weight=sample_weight,\n",
        "                                        normalize=\"true\", values_format=\".0%\")\n",
        "axs[0].set_title(\"Errors normalized by row\")\n",
        "ConfusionMatrixDisplay.from_predictions(y_train, y_train_pred, ax=axs[1],\n",
        "                                        sample_weight=sample_weight,\n",
        "                                        normalize=\"pred\", values_format=\".0%\")\n",
        "axs[1].set_title(\"Errors normalized by column\")\n",
        "save_fig(\"confusion_matrix_plot_2\")\n",
        "plt.show()\n",
        "plt.rc('font', size=14)  # make fonts great again"
      ]
    },
    {
      "cell_type": "code",
      "execution_count": null,
      "metadata": {
        "id": "abozGzb7eiW3"
      },
      "outputs": [],
      "source": [
        "cl_a, cl_b = '3', '5'\n",
        "X_aa = X_train[(y_train == cl_a) & (y_train_pred == cl_a)]\n",
        "X_ab = X_train[(y_train == cl_a) & (y_train_pred == cl_b)]\n",
        "X_ba = X_train[(y_train == cl_b) & (y_train_pred == cl_a)]\n",
        "X_bb = X_train[(y_train == cl_b) & (y_train_pred == cl_b)]"
      ]
    },
    {
      "cell_type": "code",
      "execution_count": null,
      "metadata": {
        "id": "8W-gDHI7eiW3"
      },
      "outputs": [],
      "source": [
        "# extra code – this cell generates and saves Figure 3–11\n",
        "size = 5\n",
        "pad = 0.2\n",
        "plt.figure(figsize=(size, size))\n",
        "for images, (label_col, label_row) in [(X_ba, (0, 0)), (X_bb, (1, 0)),\n",
        "                                       (X_aa, (0, 1)), (X_ab, (1, 1))]:\n",
        "    for idx, image_data in enumerate(images[:size*size]):\n",
        "        x = idx % size + label_col * (size + pad)\n",
        "        y = idx // size + label_row * (size + pad)\n",
        "        plt.imshow(image_data.reshape(28, 28), cmap=\"binary\",\n",
        "                   extent=(x, x + 1, y, y + 1))\n",
        "plt.xticks([size / 2, size + pad + size / 2], [str(cl_a), str(cl_b)])\n",
        "plt.yticks([size / 2, size + pad + size / 2], [str(cl_b), str(cl_a)])\n",
        "plt.plot([size + pad / 2, size + pad / 2], [0, 2 * size + pad], \"k:\")\n",
        "plt.plot([0, 2 * size + pad], [size + pad / 2, size + pad / 2], \"k:\")\n",
        "plt.axis([0, 2 * size + pad, 0, 2 * size + pad])\n",
        "plt.xlabel(\"Predicted label\")\n",
        "plt.ylabel(\"True label\")\n",
        "save_fig(\"error_analysis_digits_plot\")\n",
        "plt.show()"
      ]
    },
    {
      "cell_type": "markdown",
      "metadata": {
        "id": "DODV3DC9eiW4"
      },
      "source": [
        "Note: there are several other ways you could code a plot like this one, but it's a bit hard to get the axis labels right:\n",
        "* using [nested GridSpecs](https://matplotlib.org/stable/gallery/subplots_axes_and_figures/gridspec_nested.html)\n",
        "* merging all the digits in each block into a single image (then using 2×2 subplots). For example:\n",
        "    ```python\n",
        "    X_aa[:25].reshape(5, 5, 28, 28).transpose(0, 2, 1, 3).reshape(5 * 28, 5 * 28)\n",
        "    ```\n",
        "* using [subfigures](https://matplotlib.org/stable/gallery/subplots_axes_and_figures/subfigures.html) (since Matplotlib 3.4)"
      ]
    },
    {
      "cell_type": "markdown",
      "metadata": {
        "id": "fbMqlo3ZeiW4"
      },
      "source": [
        "# Multilabel Classification"
      ]
    },
    {
      "cell_type": "code",
      "execution_count": null,
      "metadata": {
        "id": "b00BFW9teiW4",
        "tags": []
      },
      "outputs": [],
      "source": [
        "import numpy as np\n",
        "from sklearn.neighbors import KNeighborsClassifier\n",
        "\n",
        "y_train_large = (y_train >= '7')\n",
        "y_train_odd = (y_train.astype('int8') % 2 == 1)\n",
        "y_multilabel = np.c_[y_train_large, y_train_odd]\n",
        "\n",
        "knn_clf = KNeighborsClassifier()\n",
        "knn_clf.fit(X_train, y_multilabel)"
      ]
    },
    {
      "cell_type": "code",
      "execution_count": null,
      "metadata": {
        "id": "fgjLiqPHeiW4"
      },
      "outputs": [],
      "source": [
        "knn_clf.predict([some_digit])"
      ]
    },
    {
      "cell_type": "markdown",
      "metadata": {
        "id": "4yDSMOY9eiW4"
      },
      "source": [
        "**Warning**: the following cell may take a few minutes to run:"
      ]
    },
    {
      "cell_type": "code",
      "execution_count": null,
      "metadata": {
        "id": "2KkfDIDVeiW5"
      },
      "outputs": [],
      "source": [
        "y_train_knn_pred = cross_val_predict(knn_clf, X_train, y_multilabel, cv=3)\n",
        "f1_score(y_multilabel, y_train_knn_pred, average=\"macro\")"
      ]
    },
    {
      "cell_type": "code",
      "execution_count": null,
      "metadata": {
        "id": "Y8BrTqhoeiW5"
      },
      "outputs": [],
      "source": [
        "# extra code – shows that we get a negligible performance improvement when we\n",
        "#              set average=\"weighted\" because the classes are already pretty\n",
        "#              well balanced.\n",
        "f1_score(y_multilabel, y_train_knn_pred, average=\"weighted\")"
      ]
    },
    {
      "cell_type": "code",
      "execution_count": null,
      "metadata": {
        "id": "_g28FzCceiW5"
      },
      "outputs": [],
      "source": [
        "from sklearn.multioutput import ClassifierChain\n",
        "\n",
        "chain_clf = ClassifierChain(SVC(), cv=3, random_state=42)\n",
        "chain_clf.fit(X_train[:2000], y_multilabel[:2000])"
      ]
    },
    {
      "cell_type": "code",
      "execution_count": null,
      "metadata": {
        "id": "MBbF-x1xeiW5"
      },
      "outputs": [],
      "source": [
        "chain_clf.predict([some_digit])"
      ]
    },
    {
      "cell_type": "markdown",
      "metadata": {
        "id": "GyLjpQIJeiW5"
      },
      "source": [
        "# Multioutput Classification"
      ]
    },
    {
      "cell_type": "code",
      "execution_count": null,
      "metadata": {
        "id": "J95o-S-8eiW6"
      },
      "outputs": [],
      "source": [
        "np.random.seed(42)  # to make this code example reproducible\n",
        "noise = np.random.randint(0, 100, (len(X_train), 784))\n",
        "X_train_mod = X_train + noise\n",
        "noise = np.random.randint(0, 100, (len(X_test), 784))\n",
        "X_test_mod = X_test + noise\n",
        "y_train_mod = X_train\n",
        "y_test_mod = X_test"
      ]
    },
    {
      "cell_type": "code",
      "execution_count": null,
      "metadata": {
        "id": "81PTxucceiW6"
      },
      "outputs": [],
      "source": [
        "# extra code – this cell generates and saves Figure 3–12\n",
        "plt.subplot(121); plot_digit(X_test_mod[0])\n",
        "plt.subplot(122); plot_digit(y_test_mod[0])\n",
        "save_fig(\"noisy_digit_example_plot\")\n",
        "plt.show()"
      ]
    },
    {
      "cell_type": "code",
      "execution_count": null,
      "metadata": {
        "id": "JxQyJDCHeiW6"
      },
      "outputs": [],
      "source": [
        "knn_clf = KNeighborsClassifier()\n",
        "knn_clf.fit(X_train_mod, y_train_mod)\n",
        "clean_digit = knn_clf.predict([X_test_mod[0]])\n",
        "plot_digit(clean_digit)\n",
        "save_fig(\"cleaned_digit_example_plot\")  # extra code – saves Figure 3–13\n",
        "plt.show()"
      ]
    },
    {
      "cell_type": "markdown",
      "metadata": {
        "id": "apqCZP-weiW6"
      },
      "source": [
        "# Exercise solutions"
      ]
    },
    {
      "cell_type": "markdown",
      "metadata": {
        "id": "brQFwLaoeiW6"
      },
      "source": [
        "## 1. An MNIST Classifier With Over 97% Accuracy"
      ]
    },
    {
      "cell_type": "markdown",
      "metadata": {
        "id": "keJ6A2iBeiW6"
      },
      "source": [
        "Exercise: _Try to build a classifier for the MNIST dataset that achieves over 97% accuracy on the test set. Hint: the `KNeighborsClassifier` works quite well for this task; you just need to find good hyperparameter values (try a grid search on the `weights` and `n_neighbors` hyperparameters)._"
      ]
    },
    {
      "cell_type": "markdown",
      "metadata": {
        "id": "TpjIe8iqeiW6"
      },
      "source": [
        "Let's start with a simple K-Nearest Neighbors classifier and measure its performance on the test set. This will be our baseline:"
      ]
    },
    {
      "cell_type": "code",
      "execution_count": null,
      "metadata": {
        "id": "9Ngr04BVeiW7"
      },
      "outputs": [],
      "source": [
        "knn_clf = KNeighborsClassifier()\n",
        "knn_clf.fit(X_train, y_train)\n",
        "baseline_accuracy = knn_clf.score(X_test, y_test)\n",
        "baseline_accuracy"
      ]
    },
    {
      "cell_type": "markdown",
      "metadata": {
        "id": "eH9r4DGseiW7"
      },
      "source": [
        "Great! A regular KNN classifier with the default hyperparameters is already very close to our goal."
      ]
    },
    {
      "cell_type": "markdown",
      "metadata": {
        "id": "TZqBzQLWeiW7"
      },
      "source": [
        "Let's see if tuning the hyperparameters can help. To speed up the search, let's train only on the first 10,000 images:"
      ]
    },
    {
      "cell_type": "code",
      "execution_count": null,
      "metadata": {
        "id": "xo05uxoweiW7"
      },
      "outputs": [],
      "source": [
        "from sklearn.model_selection import GridSearchCV\n",
        "\n",
        "param_grid = [{'weights': [\"uniform\", \"distance\"], 'n_neighbors': [3, 4, 5, 6]}]\n",
        "\n",
        "knn_clf = KNeighborsClassifier()\n",
        "grid_search = GridSearchCV(knn_clf, param_grid, cv=5)\n",
        "grid_search.fit(X_train[:10_000], y_train[:10_000])"
      ]
    },
    {
      "cell_type": "code",
      "execution_count": null,
      "metadata": {
        "id": "tnFl-ZDQeiW7"
      },
      "outputs": [],
      "source": [
        "grid_search.best_params_"
      ]
    },
    {
      "cell_type": "code",
      "execution_count": null,
      "metadata": {
        "id": "H2lsQa5SeiW7"
      },
      "outputs": [],
      "source": [
        "grid_search.best_score_"
      ]
    },
    {
      "cell_type": "markdown",
      "metadata": {
        "id": "ZilwttrYeiW8"
      },
      "source": [
        "The score dropped, but that was expected since we only trained on 10,000 images. So let's take the best model and train it again on the full training set:"
      ]
    },
    {
      "cell_type": "code",
      "execution_count": null,
      "metadata": {
        "id": "U0BU5L-WeiW8"
      },
      "outputs": [],
      "source": [
        "grid_search.best_estimator_.fit(X_train, y_train)\n",
        "tuned_accuracy = grid_search.score(X_test, y_test)\n",
        "tuned_accuracy"
      ]
    },
    {
      "cell_type": "markdown",
      "metadata": {
        "id": "HjJv5oV7eiW8"
      },
      "source": [
        "We reached our goal of 97% accuracy! 🥳"
      ]
    },
    {
      "cell_type": "markdown",
      "metadata": {
        "id": "8Fuh0zjJeiW8"
      },
      "source": [
        "## 2. Data Augmentation"
      ]
    },
    {
      "cell_type": "markdown",
      "metadata": {
        "id": "Z20Br3ibeiW8"
      },
      "source": [
        "Exercise: _Write a function that can shift an MNIST image in any direction (left, right, up, or down) by one pixel. You can use the `shift()` function from the `scipy.ndimage` module. For example, `shift(image, [2, 1], cval=0)` shifts the image two pixels down and one pixel to the right. Then, for each image in the training set, create four shifted copies (one per direction) and add them to the training set. Finally, train your best model on this expanded training set and measure its accuracy on the test set. You should observe that your model performs even better now! This technique of artificially growing the training set is called _data augmentation_ or _training set expansion_._"
      ]
    },
    {
      "cell_type": "markdown",
      "metadata": {
        "id": "wCuluzuqeiW8"
      },
      "source": [
        "Let's try augmenting the MNIST dataset by adding slightly shifted versions of each image."
      ]
    },
    {
      "cell_type": "code",
      "execution_count": null,
      "metadata": {
        "id": "kKmapI97eiW9"
      },
      "outputs": [],
      "source": [
        "from scipy.ndimage import shift"
      ]
    },
    {
      "cell_type": "code",
      "execution_count": null,
      "metadata": {
        "id": "jNX1V79reiW9"
      },
      "outputs": [],
      "source": [
        "def shift_image(image, dx, dy):\n",
        "    image = image.reshape((28, 28))\n",
        "    shifted_image = shift(image, [dy, dx], cval=0, mode=\"constant\")\n",
        "    return shifted_image.reshape([-1])"
      ]
    },
    {
      "cell_type": "markdown",
      "metadata": {
        "id": "6LbOouPxeiW9"
      },
      "source": [
        "Let's see if it works:"
      ]
    },
    {
      "cell_type": "code",
      "execution_count": null,
      "metadata": {
        "id": "sbMfc1RweiW-"
      },
      "outputs": [],
      "source": [
        "image = X_train[1000]  # some random digit to demo\n",
        "shifted_image_down = shift_image(image, 0, 5)\n",
        "shifted_image_left = shift_image(image, -5, 0)\n",
        "\n",
        "plt.figure(figsize=(12, 3))\n",
        "plt.subplot(131)\n",
        "plt.title(\"Original\")\n",
        "plt.imshow(image.reshape(28, 28),\n",
        "           interpolation=\"nearest\", cmap=\"Greys\")\n",
        "plt.subplot(132)\n",
        "plt.title(\"Shifted down\")\n",
        "plt.imshow(shifted_image_down.reshape(28, 28),\n",
        "           interpolation=\"nearest\", cmap=\"Greys\")\n",
        "plt.subplot(133)\n",
        "plt.title(\"Shifted left\")\n",
        "plt.imshow(shifted_image_left.reshape(28, 28),\n",
        "           interpolation=\"nearest\", cmap=\"Greys\")\n",
        "plt.show()"
      ]
    },
    {
      "cell_type": "markdown",
      "metadata": {
        "id": "mJK73Q-keiW-"
      },
      "source": [
        "Looks good! Now let's create an augmented training set by shifting every image left, right, up and down by one pixel:"
      ]
    },
    {
      "cell_type": "code",
      "execution_count": null,
      "metadata": {
        "id": "eJ67ESTOeiW_"
      },
      "outputs": [],
      "source": [
        "X_train_augmented = [image for image in X_train]\n",
        "y_train_augmented = [label for label in y_train]\n",
        "\n",
        "for dx, dy in ((-1, 0), (1, 0), (0, 1), (0, -1)):\n",
        "    for image, label in zip(X_train, y_train):\n",
        "        X_train_augmented.append(shift_image(image, dx, dy))\n",
        "        y_train_augmented.append(label)\n",
        "\n",
        "X_train_augmented = np.array(X_train_augmented)\n",
        "y_train_augmented = np.array(y_train_augmented)"
      ]
    },
    {
      "cell_type": "markdown",
      "metadata": {
        "id": "-Dok6F4weiW_"
      },
      "source": [
        "Let's shuffle the augmented training set, or else all shifted images will be grouped together:"
      ]
    },
    {
      "cell_type": "code",
      "execution_count": null,
      "metadata": {
        "id": "Dhi_E612eiW_"
      },
      "outputs": [],
      "source": [
        "shuffle_idx = np.random.permutation(len(X_train_augmented))\n",
        "X_train_augmented = X_train_augmented[shuffle_idx]\n",
        "y_train_augmented = y_train_augmented[shuffle_idx]"
      ]
    },
    {
      "cell_type": "markdown",
      "metadata": {
        "id": "oZf58bo7eiW_"
      },
      "source": [
        "Now let's train the model using the best hyperparameters we found in the previous exercise:"
      ]
    },
    {
      "cell_type": "code",
      "execution_count": null,
      "metadata": {
        "id": "Oc2nlw25eiW_"
      },
      "outputs": [],
      "source": [
        "knn_clf = KNeighborsClassifier(**grid_search.best_params_)"
      ]
    },
    {
      "cell_type": "code",
      "execution_count": null,
      "metadata": {
        "id": "yvdbBC_DeiW_"
      },
      "outputs": [],
      "source": [
        "knn_clf.fit(X_train_augmented, y_train_augmented)"
      ]
    },
    {
      "cell_type": "markdown",
      "metadata": {
        "id": "fhbH8rileiW_"
      },
      "source": [
        "**Warning**: the following cell may take a few minutes to run:"
      ]
    },
    {
      "cell_type": "code",
      "execution_count": null,
      "metadata": {
        "id": "SFFYjTHseiXA"
      },
      "outputs": [],
      "source": [
        "augmented_accuracy = knn_clf.score(X_test, y_test)\n",
        "augmented_accuracy"
      ]
    },
    {
      "cell_type": "markdown",
      "metadata": {
        "id": "NyiQrCg_eiXA"
      },
      "source": [
        "By simply augmenting the data, we've got a 0.5% accuracy boost. Perhaps it does not sound so impressive, but it actually means that the error rate dropped significantly:"
      ]
    },
    {
      "cell_type": "code",
      "execution_count": null,
      "metadata": {
        "id": "ubrchW-FeiXA",
        "tags": []
      },
      "outputs": [],
      "source": [
        "error_rate_change = (1 - augmented_accuracy) / (1 - tuned_accuracy) - 1\n",
        "print(f\"error_rate_change = {error_rate_change:.0%}\")"
      ]
    },
    {
      "cell_type": "markdown",
      "metadata": {
        "id": "84W3DQDoeiXA"
      },
      "source": [
        "The error rate dropped quite a bit thanks to data augmentation."
      ]
    },
    {
      "cell_type": "markdown",
      "metadata": {
        "id": "aL_Oeo1peiXA"
      },
      "source": [
        "## 3. Tackle the Titanic dataset"
      ]
    },
    {
      "cell_type": "markdown",
      "metadata": {
        "id": "KwaOV-_3eiXF"
      },
      "source": [
        "Exercise: _Tackle the Titanic dataset. A great place to start is on [Kaggle](https://www.kaggle.com/c/titanic). Alternatively, you can download the data from https://homl.info/titanic.tgz and unzip this tarball like you did for the housing data in Chapter 2. This will give you two CSV files: _train.csv_ and _test.csv_ which you can load using `pandas.read_csv()`. The goal is to train a classifier that can predict the `Survived` column based on the other columns._"
      ]
    },
    {
      "cell_type": "markdown",
      "metadata": {
        "id": "OjVAz0A1eiXF"
      },
      "source": [
        "Let's fetch the data and load it:"
      ]
    },
    {
      "cell_type": "code",
      "execution_count": null,
      "metadata": {
        "id": "5Iq_PNXXeiXG"
      },
      "outputs": [],
      "source": [
        "from pathlib import Path\n",
        "import pandas as pd\n",
        "import tarfile\n",
        "import urllib.request\n",
        "\n",
        "def load_titanic_data():\n",
        "    tarball_path = Path(\"datasets/titanic.tgz\")\n",
        "    if not tarball_path.is_file():\n",
        "        Path(\"datasets\").mkdir(parents=True, exist_ok=True)\n",
        "        url = \"https://github.com/ageron/data/raw/main/titanic.tgz\"\n",
        "        urllib.request.urlretrieve(url, tarball_path)\n",
        "        with tarfile.open(tarball_path) as titanic_tarball:\n",
        "            titanic_tarball.extractall(path=\"datasets\")\n",
        "    return [pd.read_csv(Path(\"datasets/titanic\") / filename)\n",
        "            for filename in (\"train.csv\", \"test.csv\")]"
      ]
    },
    {
      "cell_type": "code",
      "execution_count": null,
      "metadata": {
        "id": "y4eFejJ7eiXG"
      },
      "outputs": [],
      "source": [
        "train_data, test_data = load_titanic_data()"
      ]
    },
    {
      "cell_type": "markdown",
      "metadata": {
        "id": "C31Z7gKMeiXG"
      },
      "source": [
        "The data is already split into a training set and a test set. However, the test data does *not* contain the labels: your goal is to train the best model you can on the training data, then make your predictions on the test data and upload them to Kaggle to see your final score."
      ]
    },
    {
      "cell_type": "markdown",
      "metadata": {
        "id": "w7eK80tseiXG"
      },
      "source": [
        "Let's take a peek at the top few rows of the training set:"
      ]
    },
    {
      "cell_type": "code",
      "execution_count": null,
      "metadata": {
        "id": "lcIDxiJXeiXG"
      },
      "outputs": [],
      "source": [
        "train_data.head()"
      ]
    },
    {
      "cell_type": "markdown",
      "metadata": {
        "id": "avXnogcaeiXG"
      },
      "source": [
        "The attributes have the following meaning:\n",
        "* **PassengerId**: a unique identifier for each passenger\n",
        "* **Survived**: that's the target, 0 means the passenger did not survive, while 1 means he/she survived.\n",
        "* **Pclass**: passenger class.\n",
        "* **Name**, **Sex**, **Age**: self-explanatory\n",
        "* **SibSp**: how many siblings & spouses of the passenger aboard the Titanic.\n",
        "* **Parch**: how many children & parents of the passenger aboard the Titanic.\n",
        "* **Ticket**: ticket id\n",
        "* **Fare**: price paid (in pounds)\n",
        "* **Cabin**: passenger's cabin number\n",
        "* **Embarked**: where the passenger embarked the Titanic"
      ]
    },
    {
      "cell_type": "markdown",
      "metadata": {
        "id": "YdNBLnZ4eiXH"
      },
      "source": [
        "The goal is to predict whether or not a passenger survived based on attributes such as their age, sex, passenger class, where they embarked and so on."
      ]
    },
    {
      "cell_type": "markdown",
      "metadata": {
        "id": "hlR8X98beiXH"
      },
      "source": [
        "Let's explicitly set the `PassengerId` column as the index column:"
      ]
    },
    {
      "cell_type": "code",
      "execution_count": null,
      "metadata": {
        "id": "_qPdh6hneiXH"
      },
      "outputs": [],
      "source": [
        "train_data = train_data.set_index(\"PassengerId\")\n",
        "test_data = test_data.set_index(\"PassengerId\")"
      ]
    },
    {
      "cell_type": "markdown",
      "metadata": {
        "id": "XsecY0KieiXH"
      },
      "source": [
        "Let's get more info to see how much data is missing:"
      ]
    },
    {
      "cell_type": "code",
      "execution_count": null,
      "metadata": {
        "id": "4yRHORdJeiXH"
      },
      "outputs": [],
      "source": [
        "train_data.info()"
      ]
    },
    {
      "cell_type": "code",
      "execution_count": null,
      "metadata": {
        "id": "Hui7cGaGeiXH"
      },
      "outputs": [],
      "source": [
        "train_data[train_data[\"Sex\"]==\"female\"][\"Age\"].median()"
      ]
    },
    {
      "cell_type": "markdown",
      "metadata": {
        "id": "j_XjnOgAeiXH"
      },
      "source": [
        "Okay, the **Age**, **Cabin** and **Embarked** attributes are sometimes null (less than 891 non-null), especially the **Cabin** (77% are null). We will ignore the **Cabin** for now and focus on the rest. The **Age** attribute has about 19% null values, so we will need to decide what to do with them. Replacing null values with the median age seems reasonable. We could be a bit smarter by predicting the age based on the other columns (for example, the median age is 37 in 1st class, 29 in 2nd class and 24 in 3rd class), but we'll keep things simple and just use the overall median age."
      ]
    },
    {
      "cell_type": "markdown",
      "metadata": {
        "id": "tk-vOuKUeiXI"
      },
      "source": [
        "The **Name** and **Ticket** attributes may have some value, but they will be a bit tricky to convert into useful numbers that a model can consume. So for now, we will ignore them."
      ]
    },
    {
      "cell_type": "markdown",
      "metadata": {
        "id": "SqOBUxJ1eiXI"
      },
      "source": [
        "Let's take a look at the numerical attributes:"
      ]
    },
    {
      "cell_type": "code",
      "execution_count": null,
      "metadata": {
        "id": "uVSmL47KeiXI"
      },
      "outputs": [],
      "source": [
        "train_data.describe()"
      ]
    },
    {
      "cell_type": "markdown",
      "metadata": {
        "id": "FUuAA_EGeiXL"
      },
      "source": [
        "* Yikes, only 38% **Survived**! 😭 That's close enough to 40%, so accuracy will be a reasonable metric to evaluate our model.\n",
        "* The mean **Fare** was £32.20, which does not seem so expensive (but it was probably a lot of money back then).\n",
        "* The mean **Age** was less than 30 years old."
      ]
    },
    {
      "cell_type": "markdown",
      "metadata": {
        "id": "FG_cUaSkeiXL"
      },
      "source": [
        "Let's check that the target is indeed 0 or 1:"
      ]
    },
    {
      "cell_type": "code",
      "execution_count": null,
      "metadata": {
        "id": "piU6dMY0eiXM"
      },
      "outputs": [],
      "source": [
        "train_data[\"Survived\"].value_counts()"
      ]
    },
    {
      "cell_type": "markdown",
      "metadata": {
        "id": "Zt8WI338eiXM"
      },
      "source": [
        "Now let's take a quick look at all the categorical attributes:"
      ]
    },
    {
      "cell_type": "code",
      "execution_count": null,
      "metadata": {
        "id": "MSwjhPBkeiXM"
      },
      "outputs": [],
      "source": [
        "train_data[\"Pclass\"].value_counts()"
      ]
    },
    {
      "cell_type": "code",
      "execution_count": null,
      "metadata": {
        "id": "Tt6dLRcyeiXM"
      },
      "outputs": [],
      "source": [
        "train_data[\"Sex\"].value_counts()"
      ]
    },
    {
      "cell_type": "code",
      "execution_count": null,
      "metadata": {
        "id": "cGqlnjiCeiXN"
      },
      "outputs": [],
      "source": [
        "train_data[\"Embarked\"].value_counts()"
      ]
    },
    {
      "cell_type": "markdown",
      "metadata": {
        "id": "ldYTmKTdeiXO"
      },
      "source": [
        "The Embarked attribute tells us where the passenger embarked: C=Cherbourg, Q=Queenstown, S=Southampton."
      ]
    },
    {
      "cell_type": "markdown",
      "metadata": {
        "id": "csP2ACYreiXO"
      },
      "source": [
        "Now let's build our preprocessing pipelines, starting with the pipeline for numerical attributes:"
      ]
    },
    {
      "cell_type": "code",
      "execution_count": null,
      "metadata": {
        "id": "JUyi5LpJeiXO"
      },
      "outputs": [],
      "source": [
        "from sklearn.pipeline import Pipeline\n",
        "from sklearn.impute import SimpleImputer\n",
        "\n",
        "num_pipeline = Pipeline([\n",
        "        (\"imputer\", SimpleImputer(strategy=\"median\")),\n",
        "        (\"scaler\", StandardScaler())\n",
        "    ])"
      ]
    },
    {
      "cell_type": "markdown",
      "metadata": {
        "id": "6__fQqhVeiXO"
      },
      "source": [
        "Now we can build the pipeline for the categorical attributes:"
      ]
    },
    {
      "cell_type": "code",
      "execution_count": null,
      "metadata": {
        "id": "_0DctbBbeiXO"
      },
      "outputs": [],
      "source": [
        "from sklearn.preprocessing import OrdinalEncoder, OneHotEncoder"
      ]
    },
    {
      "cell_type": "code",
      "execution_count": null,
      "metadata": {
        "id": "srL__bnqeiXO"
      },
      "outputs": [],
      "source": [
        "cat_pipeline = Pipeline([\n",
        "        (\"ordinal_encoder\", OrdinalEncoder()),    \n",
        "        (\"imputer\", SimpleImputer(strategy=\"most_frequent\")),\n",
        "        (\"cat_encoder\", OneHotEncoder(sparse=False)),\n",
        "    ])"
      ]
    },
    {
      "cell_type": "markdown",
      "metadata": {
        "id": "sgWrYsVCeiXP"
      },
      "source": [
        "Finally, let's join the numerical and categorical pipelines:"
      ]
    },
    {
      "cell_type": "code",
      "execution_count": null,
      "metadata": {
        "id": "0to83_MeeiXP"
      },
      "outputs": [],
      "source": [
        "from sklearn.compose import ColumnTransformer\n",
        "\n",
        "num_attribs = [\"Age\", \"SibSp\", \"Parch\", \"Fare\"]\n",
        "cat_attribs = [\"Pclass\", \"Sex\", \"Embarked\"]\n",
        "\n",
        "preprocess_pipeline = ColumnTransformer([\n",
        "        (\"num\", num_pipeline, num_attribs),\n",
        "        (\"cat\", cat_pipeline, cat_attribs),\n",
        "    ])"
      ]
    },
    {
      "cell_type": "markdown",
      "metadata": {
        "id": "3ueXMA8TeiXP"
      },
      "source": [
        "Cool! Now we have a nice preprocessing pipeline that takes the raw data and outputs numerical input features that we can feed to any Machine Learning model we want."
      ]
    },
    {
      "cell_type": "code",
      "execution_count": null,
      "metadata": {
        "id": "6h1RQFWpeiXP"
      },
      "outputs": [],
      "source": [
        "X_train = preprocess_pipeline.fit_transform(train_data)\n",
        "X_train"
      ]
    },
    {
      "cell_type": "markdown",
      "metadata": {
        "id": "IniU9RS7eiXP"
      },
      "source": [
        "Let's not forget to get the labels:"
      ]
    },
    {
      "cell_type": "code",
      "execution_count": null,
      "metadata": {
        "id": "YMjvZYjveiXP"
      },
      "outputs": [],
      "source": [
        "y_train = train_data[\"Survived\"]"
      ]
    },
    {
      "cell_type": "markdown",
      "metadata": {
        "id": "I5aysxyweiXQ"
      },
      "source": [
        "We are now ready to train a classifier. Let's start with a `RandomForestClassifier`:"
      ]
    },
    {
      "cell_type": "code",
      "execution_count": null,
      "metadata": {
        "id": "NgW7vTDMeiXQ"
      },
      "outputs": [],
      "source": [
        "forest_clf = RandomForestClassifier(n_estimators=100, random_state=42)\n",
        "forest_clf.fit(X_train, y_train)"
      ]
    },
    {
      "cell_type": "markdown",
      "metadata": {
        "id": "OeUklSYueiXQ"
      },
      "source": [
        "Great, our model is trained, let's use it to make predictions on the test set:"
      ]
    },
    {
      "cell_type": "code",
      "execution_count": null,
      "metadata": {
        "id": "7W7KQyuJeiXQ"
      },
      "outputs": [],
      "source": [
        "X_test = preprocess_pipeline.transform(test_data)\n",
        "y_pred = forest_clf.predict(X_test)"
      ]
    },
    {
      "cell_type": "markdown",
      "metadata": {
        "id": "ugNHRfJ1eiXQ"
      },
      "source": [
        "And now we could just build a CSV file with these predictions (respecting the format expected by Kaggle), then upload it and hope for the best. But wait! We can do better than hope. Why don't we use cross-validation to have an idea of how good our model is?"
      ]
    },
    {
      "cell_type": "code",
      "execution_count": null,
      "metadata": {
        "id": "unuzlRnleiXR"
      },
      "outputs": [],
      "source": [
        "forest_scores = cross_val_score(forest_clf, X_train, y_train, cv=10)\n",
        "forest_scores.mean()"
      ]
    },
    {
      "cell_type": "markdown",
      "metadata": {
        "id": "9KfFGHKZeiXR"
      },
      "source": [
        "Okay, not too bad! Looking at the [leaderboard](https://www.kaggle.com/c/titanic/leaderboard) for the Titanic competition on Kaggle, you can see that our score is in the top 2%, woohoo! Some Kagglers reached 100% accuracy, but since you can easily find the [list of victims](https://www.encyclopedia-titanica.org/titanic-victims/) of the Titanic, it seems likely that there was little Machine Learning involved in their performance! 😆"
      ]
    },
    {
      "cell_type": "markdown",
      "metadata": {
        "id": "SgRVqOyreiXR"
      },
      "source": [
        "Let's try an `SVC`:"
      ]
    },
    {
      "cell_type": "code",
      "execution_count": null,
      "metadata": {
        "id": "NEy8R24zeiXR"
      },
      "outputs": [],
      "source": [
        "from sklearn.svm import SVC\n",
        "\n",
        "svm_clf = SVC(gamma=\"auto\")\n",
        "svm_scores = cross_val_score(svm_clf, X_train, y_train, cv=10)\n",
        "svm_scores.mean()"
      ]
    },
    {
      "cell_type": "markdown",
      "metadata": {
        "id": "RhagNCrXeiXR"
      },
      "source": [
        "Great! This model looks better."
      ]
    },
    {
      "cell_type": "markdown",
      "metadata": {
        "id": "rUg90Vz7eiXS"
      },
      "source": [
        "But instead of just looking at the mean accuracy across the 10 cross-validation folds, let's plot all 10 scores for each model, along with a box plot highlighting the lower and upper quartiles, and \"whiskers\" showing the extent of the scores (thanks to Nevin Yilmaz for suggesting this visualization). Note that the `boxplot()` function detects outliers (called \"fliers\") and does not include them within the whiskers. Specifically, if the lower quartile is $Q_1$ and the upper quartile is $Q_3$, then the interquartile range $IQR = Q_3 - Q_1$ (this is the box's height), and any score lower than $Q_1 - 1.5 \\times IQR$ is a flier, and so is any score greater than $Q3 + 1.5 \\times IQR$."
      ]
    },
    {
      "cell_type": "code",
      "execution_count": null,
      "metadata": {
        "id": "lTydgy05eiXS"
      },
      "outputs": [],
      "source": [
        "plt.figure(figsize=(8, 4))\n",
        "plt.plot([1]*10, svm_scores, \".\")\n",
        "plt.plot([2]*10, forest_scores, \".\")\n",
        "plt.boxplot([svm_scores, forest_scores], labels=(\"SVM\", \"Random Forest\"))\n",
        "plt.ylabel(\"Accuracy\")\n",
        "plt.show()"
      ]
    },
    {
      "cell_type": "markdown",
      "metadata": {
        "id": "aZ9c993EeiXS"
      },
      "source": [
        "The random forest classifier got a very high score on one of the 10 folds, but overall it had a lower mean score, as well as a bigger spread, so it looks like the SVM classifier is more likely to generalize well."
      ]
    },
    {
      "cell_type": "markdown",
      "metadata": {
        "id": "rSIKCk_weiXS"
      },
      "source": [
        "To improve this result further, you could:\n",
        "* Compare many more models and tune hyperparameters using cross validation and grid search,\n",
        "* Do more feature engineering, for example:\n",
        "  * Try to convert numerical attributes to categorical attributes: for example, different age groups had very different survival rates (see below), so it may help to create an age bucket category and use it instead of the age. Similarly, it may be useful to have a special category for people traveling alone since only 30% of them survived (see below).\n",
        "  * Replace **SibSp** and **Parch** with their sum.\n",
        "  * Try to identify parts of names that correlate well with the **Survived** attribute.\n",
        "  * Use the **Cabin** column, for example take its first letter and treat it as a categorical attribute."
      ]
    },
    {
      "cell_type": "code",
      "execution_count": null,
      "metadata": {
        "id": "PxiLwRXbeiXS"
      },
      "outputs": [],
      "source": [
        "train_data[\"AgeBucket\"] = train_data[\"Age\"] // 15 * 15\n",
        "train_data[[\"AgeBucket\", \"Survived\"]].groupby(['AgeBucket']).mean()"
      ]
    },
    {
      "cell_type": "code",
      "execution_count": null,
      "metadata": {
        "id": "BMtrwVLqeiXS"
      },
      "outputs": [],
      "source": [
        "train_data[\"RelativesOnboard\"] = train_data[\"SibSp\"] + train_data[\"Parch\"]\n",
        "train_data[[\"RelativesOnboard\", \"Survived\"]].groupby(\n",
        "    ['RelativesOnboard']).mean()"
      ]
    },
    {
      "cell_type": "markdown",
      "metadata": {
        "id": "k-uzyXLseiXT"
      },
      "source": [
        "## 4. Spam classifier"
      ]
    },
    {
      "cell_type": "markdown",
      "metadata": {
        "id": "U0LnHtB5eiXT"
      },
      "source": [
        "Exercise: _Build a spam classifier (a more challenging exercise):_\n",
        "\n",
        "* _Download examples of spam and ham from [Apache SpamAssassin's public datasets](https://homl.info/spamassassin)._\n",
        "* _Unzip the datasets and familiarize yourself with the data format._\n",
        "* _Split the datasets into a training set and a test set._\n",
        "* _Write a data preparation pipeline to convert each email into a feature vector. Your preparation pipeline should transform an email into a (sparse) vector that indicates the presence or absence of each possible word. For example, if all emails only ever contain four words, \"Hello,\" \"how,\" \"are,\" \"you,\" then the email \"Hello you Hello Hello you\" would be converted into a vector [1, 0, 0, 1] (meaning [“Hello\" is present, \"how\" is absent, \"are\" is absent, \"you\" is present]), or [3, 0, 0, 2] if you prefer to count the number of occurrences of each word._\n",
        "\n",
        "_You may want to add hyperparameters to your preparation pipeline to control whether or not to strip off email headers, convert each email to lowercase, remove punctuation, replace all URLs with \"URL,\" replace all numbers with \"NUMBER,\" or even perform _stemming_ (i.e., trim off word endings; there are Python libraries available to do this)._\n",
        "\n",
        "_Finally, try out several classifiers and see if you can build a great spam classifier, with both high recall and high precision._"
      ]
    },
    {
      "cell_type": "code",
      "execution_count": null,
      "metadata": {
        "id": "iTTcJEyjeiXT"
      },
      "outputs": [],
      "source": [
        "import tarfile\n",
        "\n",
        "def fetch_spam_data():\n",
        "    spam_root = \"http://spamassassin.apache.org/old/publiccorpus/\"\n",
        "    ham_url = spam_root + \"20030228_easy_ham.tar.bz2\"\n",
        "    spam_url = spam_root + \"20030228_spam.tar.bz2\"\n",
        "\n",
        "    spam_path = Path() / \"datasets\" / \"spam\"\n",
        "    spam_path.mkdir(parents=True, exist_ok=True)\n",
        "    for dir_name, tar_name, url in ((\"easy_ham\", \"ham\", ham_url),\n",
        "                                    (\"spam\", \"spam\", spam_url)):\n",
        "        if not (spam_path / dir_name).is_dir():\n",
        "            path = (spam_path / tar_name).with_suffix(\".tar.bz2\")\n",
        "            print(\"Downloading\", path)\n",
        "            urllib.request.urlretrieve(url, path)\n",
        "            tar_bz2_file = tarfile.open(path)\n",
        "            tar_bz2_file.extractall(path=spam_path)\n",
        "            tar_bz2_file.close()\n",
        "    return [spam_path / dir_name for dir_name in (\"easy_ham\", \"spam\")]"
      ]
    },
    {
      "cell_type": "code",
      "execution_count": null,
      "metadata": {
        "id": "hFPHEzVueiXT"
      },
      "outputs": [],
      "source": [
        "ham_dir, spam_dir = fetch_spam_data()"
      ]
    },
    {
      "cell_type": "markdown",
      "metadata": {
        "id": "atCnr-vaeiXT"
      },
      "source": [
        "Next, let's load all the emails:"
      ]
    },
    {
      "cell_type": "code",
      "execution_count": null,
      "metadata": {
        "id": "90RdqJuyeiXT"
      },
      "outputs": [],
      "source": [
        "ham_filenames = [f for f in sorted(ham_dir.iterdir()) if len(f.name) > 20]\n",
        "spam_filenames = [f for f in sorted(spam_dir.iterdir()) if len(f.name) > 20]"
      ]
    },
    {
      "cell_type": "code",
      "execution_count": null,
      "metadata": {
        "id": "fjcF4rWIeiXT"
      },
      "outputs": [],
      "source": [
        "len(ham_filenames)"
      ]
    },
    {
      "cell_type": "code",
      "execution_count": null,
      "metadata": {
        "id": "KjePlTbfeiXU"
      },
      "outputs": [],
      "source": [
        "len(spam_filenames)"
      ]
    },
    {
      "cell_type": "markdown",
      "metadata": {
        "id": "P4qTycHteiXU"
      },
      "source": [
        "We can use Python's `email` module to parse these emails (this handles headers, encoding, and so on):"
      ]
    },
    {
      "cell_type": "code",
      "execution_count": null,
      "metadata": {
        "id": "IW7EfEQGeiXU"
      },
      "outputs": [],
      "source": [
        "import email\n",
        "import email.policy\n",
        "\n",
        "def load_email(filepath):\n",
        "    with open(filepath, \"rb\") as f:\n",
        "        return email.parser.BytesParser(policy=email.policy.default).parse(f)"
      ]
    },
    {
      "cell_type": "code",
      "execution_count": null,
      "metadata": {
        "id": "KM3KR4jFeiXU"
      },
      "outputs": [],
      "source": [
        "ham_emails = [load_email(filepath) for filepath in ham_filenames]\n",
        "spam_emails = [load_email(filepath) for filepath in spam_filenames]"
      ]
    },
    {
      "cell_type": "markdown",
      "metadata": {
        "id": "WG7tNSdAeiXU"
      },
      "source": [
        "Let's look at one example of ham and one example of spam, to get a feel of what the data looks like:"
      ]
    },
    {
      "cell_type": "code",
      "execution_count": null,
      "metadata": {
        "id": "ENi4uZ-keiXU"
      },
      "outputs": [],
      "source": [
        "print(ham_emails[1].get_content().strip())"
      ]
    },
    {
      "cell_type": "code",
      "execution_count": null,
      "metadata": {
        "id": "zWq-NYcEeiXU"
      },
      "outputs": [],
      "source": [
        "print(spam_emails[6].get_content().strip())"
      ]
    },
    {
      "cell_type": "markdown",
      "metadata": {
        "id": "lMJZQts0eiXV"
      },
      "source": [
        "Some emails are actually multipart, with images and attachments (which can have their own attachments). Let's look at the various types of structures we have:"
      ]
    },
    {
      "cell_type": "code",
      "execution_count": null,
      "metadata": {
        "id": "uUv7_1FGeiXV"
      },
      "outputs": [],
      "source": [
        "def get_email_structure(email):\n",
        "    if isinstance(email, str):\n",
        "        return email\n",
        "    payload = email.get_payload()\n",
        "    if isinstance(payload, list):\n",
        "        multipart = \", \".join([get_email_structure(sub_email)\n",
        "                               for sub_email in payload])\n",
        "        return f\"multipart({multipart})\"\n",
        "    else:\n",
        "        return email.get_content_type()"
      ]
    },
    {
      "cell_type": "code",
      "execution_count": null,
      "metadata": {
        "id": "OTrNlJ4UeiXV"
      },
      "outputs": [],
      "source": [
        "from collections import Counter\n",
        "\n",
        "def structures_counter(emails):\n",
        "    structures = Counter()\n",
        "    for email in emails:\n",
        "        structure = get_email_structure(email)\n",
        "        structures[structure] += 1\n",
        "    return structures"
      ]
    },
    {
      "cell_type": "code",
      "execution_count": null,
      "metadata": {
        "id": "U955gx6peiXV"
      },
      "outputs": [],
      "source": [
        "structures_counter(ham_emails).most_common()"
      ]
    },
    {
      "cell_type": "code",
      "execution_count": null,
      "metadata": {
        "id": "DR3AxZDLeiXV"
      },
      "outputs": [],
      "source": [
        "structures_counter(spam_emails).most_common()"
      ]
    },
    {
      "cell_type": "markdown",
      "metadata": {
        "id": "rimgCRateiXV"
      },
      "source": [
        "It seems that the ham emails are more often plain text, while spam has quite a lot of HTML. Moreover, quite a few ham emails are signed using PGP, while no spam is. In short, it seems that the email structure is useful information to have."
      ]
    },
    {
      "cell_type": "markdown",
      "metadata": {
        "id": "G26vxLEyeiXV"
      },
      "source": [
        "Now let's take a look at the email headers:"
      ]
    },
    {
      "cell_type": "code",
      "execution_count": null,
      "metadata": {
        "id": "CbcQy_73eiXW"
      },
      "outputs": [],
      "source": [
        "for header, value in spam_emails[0].items():\n",
        "    print(header, \":\", value)"
      ]
    },
    {
      "cell_type": "markdown",
      "metadata": {
        "id": "BYi_6Q7IeiXW"
      },
      "source": [
        "There's probably a lot of useful information in there, such as the sender's email address (12a1mailbot1@web.de looks fishy), but we will just focus on the `Subject` header:"
      ]
    },
    {
      "cell_type": "code",
      "execution_count": null,
      "metadata": {
        "id": "QBv7XNIDeiXW"
      },
      "outputs": [],
      "source": [
        "spam_emails[0][\"Subject\"]"
      ]
    },
    {
      "cell_type": "markdown",
      "metadata": {
        "id": "wg-8u9OCeiXW"
      },
      "source": [
        "Okay, before we learn too much about the data, let's not forget to split it into a training set and a test set:"
      ]
    },
    {
      "cell_type": "code",
      "execution_count": null,
      "metadata": {
        "id": "EeBu8EBdeiXW"
      },
      "outputs": [],
      "source": [
        "import numpy as np\n",
        "from sklearn.model_selection import train_test_split\n",
        "\n",
        "X = np.array(ham_emails + spam_emails, dtype=object)\n",
        "y = np.array([0] * len(ham_emails) + [1] * len(spam_emails))\n",
        "\n",
        "X_train, X_test, y_train, y_test = train_test_split(X, y, test_size=0.2,\n",
        "                                                    random_state=42)"
      ]
    },
    {
      "cell_type": "markdown",
      "metadata": {
        "id": "whUqiB4deiXW"
      },
      "source": [
        "Okay, let's start writing the preprocessing functions. First, we will need a function to convert HTML to plain text. Arguably the best way to do this would be to use the great [BeautifulSoup](https://www.crummy.com/software/BeautifulSoup/) library, but I would like to avoid adding another dependency to this project, so let's hack a quick & dirty solution using regular expressions (at the risk of [un̨ho͞ly radiańcé destro҉ying all enli̍̈́̂̈́ghtenment](https://stackoverflow.com/a/1732454/38626)). The following function first drops the `<head>` section, then converts all `<a>` tags to the word HYPERLINK, then it gets rid of all HTML tags, leaving only the plain text. For readability, it also replaces multiple newlines with single newlines, and finally it unescapes html entities (such as `&gt;` or `&nbsp;`):"
      ]
    },
    {
      "cell_type": "code",
      "execution_count": null,
      "metadata": {
        "id": "CDItaCngeiXW"
      },
      "outputs": [],
      "source": [
        "import re\n",
        "from html import unescape\n",
        "\n",
        "def html_to_plain_text(html):\n",
        "    text = re.sub('<head.*?>.*?</head>', '', html, flags=re.M | re.S | re.I)\n",
        "    text = re.sub('<a\\s.*?>', ' HYPERLINK ', text, flags=re.M | re.S | re.I)\n",
        "    text = re.sub('<.*?>', '', text, flags=re.M | re.S)\n",
        "    text = re.sub(r'(\\s*\\n)+', '\\n', text, flags=re.M | re.S)\n",
        "    return unescape(text)"
      ]
    },
    {
      "cell_type": "markdown",
      "metadata": {
        "id": "eocPHaVCeiXX"
      },
      "source": [
        "Let's see if it works. This is HTML spam:"
      ]
    },
    {
      "cell_type": "code",
      "execution_count": null,
      "metadata": {
        "id": "eElvoUx0eiXX"
      },
      "outputs": [],
      "source": [
        "html_spam_emails = [email for email in X_train[y_train==1]\n",
        "                    if get_email_structure(email) == \"text/html\"]\n",
        "sample_html_spam = html_spam_emails[7]\n",
        "print(sample_html_spam.get_content().strip()[:1000], \"...\")"
      ]
    },
    {
      "cell_type": "markdown",
      "metadata": {
        "id": "FnXBeIteeiXY"
      },
      "source": [
        "And this is the resulting plain text:"
      ]
    },
    {
      "cell_type": "code",
      "execution_count": null,
      "metadata": {
        "id": "9b-c2gmoeiXY"
      },
      "outputs": [],
      "source": [
        "print(html_to_plain_text(sample_html_spam.get_content())[:1000], \"...\")"
      ]
    },
    {
      "cell_type": "markdown",
      "metadata": {
        "id": "SIIHrcvgeiXY"
      },
      "source": [
        "Great! Now let's write a function that takes an email as input and returns its content as plain text, whatever its format is:"
      ]
    },
    {
      "cell_type": "code",
      "execution_count": null,
      "metadata": {
        "id": "Swz1FO6oeiXY"
      },
      "outputs": [],
      "source": [
        "def email_to_text(email):\n",
        "    html = None\n",
        "    for part in email.walk():\n",
        "        ctype = part.get_content_type()\n",
        "        if not ctype in (\"text/plain\", \"text/html\"):\n",
        "            continue\n",
        "        try:\n",
        "            content = part.get_content()\n",
        "        except: # in case of encoding issues\n",
        "            content = str(part.get_payload())\n",
        "        if ctype == \"text/plain\":\n",
        "            return content\n",
        "        else:\n",
        "            html = content\n",
        "    if html:\n",
        "        return html_to_plain_text(html)"
      ]
    },
    {
      "cell_type": "code",
      "execution_count": null,
      "metadata": {
        "id": "RGuA37mceiXY"
      },
      "outputs": [],
      "source": [
        "print(email_to_text(sample_html_spam)[:100], \"...\")"
      ]
    },
    {
      "cell_type": "markdown",
      "metadata": {
        "id": "EOBLySQ4eiXY"
      },
      "source": [
        "Let's throw in some stemming! We will use the Natural Language Toolkit ([NLTK](http://www.nltk.org/)):"
      ]
    },
    {
      "cell_type": "code",
      "execution_count": null,
      "metadata": {
        "id": "WqjaLPbZeiXY"
      },
      "outputs": [],
      "source": [
        "import nltk\n",
        "\n",
        "stemmer = nltk.PorterStemmer()\n",
        "for word in (\"Computations\", \"Computation\", \"Computing\", \"Computed\", \"Compute\",\n",
        "             \"Compulsive\"):\n",
        "    print(word, \"=>\", stemmer.stem(word))"
      ]
    },
    {
      "cell_type": "markdown",
      "metadata": {
        "id": "ZbXBoh2jeiXZ"
      },
      "source": [
        "We will also need a way to replace URLs with the word \"URL\". For this, we could use hard core [regular expressions](https://mathiasbynens.be/demo/url-regex) but we will just use the [urlextract](https://github.com/lipoja/URLExtract) library:"
      ]
    },
    {
      "cell_type": "code",
      "execution_count": null,
      "metadata": {
        "id": "APAxNypveiXZ"
      },
      "outputs": [],
      "source": [
        "# Is this notebook running on Colab or Kaggle?\n",
        "IS_COLAB = \"google.colab\" in sys.modules\n",
        "IS_KAGGLE = \"kaggle_secrets\" in sys.modules\n",
        "\n",
        "# if running this notebook on Colab or Kaggle, we just pip install urlextract\n",
        "if IS_COLAB or IS_KAGGLE:\n",
        "    %pip install -q -U urlextract"
      ]
    },
    {
      "cell_type": "markdown",
      "metadata": {
        "id": "qBrRF_K7eiXZ"
      },
      "source": [
        "**Note:** inside a Jupyter notebook, always use `%pip` instead of `!pip`, as `!pip` may install the library inside the wrong environment, while `%pip` makes sure it's installed inside the currently running environment."
      ]
    },
    {
      "cell_type": "code",
      "execution_count": null,
      "metadata": {
        "id": "dixtbzKmeiXZ"
      },
      "outputs": [],
      "source": [
        "import urlextract # may require an Internet connection to download root domain\n",
        "                  # names\n",
        "\n",
        "url_extractor = urlextract.URLExtract()\n",
        "some_text = \"Will it detect github.com and https://youtu.be/7Pq-S557XQU?t=3m32s\"\n",
        "print(url_extractor.find_urls(some_text))"
      ]
    },
    {
      "cell_type": "markdown",
      "metadata": {
        "id": "970wDJHGeiXZ"
      },
      "source": [
        "We are ready to put all this together into a transformer that we will use to convert emails to word counters. Note that we split sentences into words using Python's `split()` method, which uses whitespaces for word boundaries. This works for many written languages, but not all. For example, Chinese and Japanese scripts generally don't use spaces between words, and Vietnamese often uses spaces even between syllables. It's okay in this exercise, because the dataset is (mostly) in English."
      ]
    },
    {
      "cell_type": "code",
      "execution_count": null,
      "metadata": {
        "id": "T_5AuzL4eiXZ"
      },
      "outputs": [],
      "source": [
        "from sklearn.base import BaseEstimator, TransformerMixin\n",
        "\n",
        "class EmailToWordCounterTransformer(BaseEstimator, TransformerMixin):\n",
        "    def __init__(self, strip_headers=True, lower_case=True,\n",
        "                 remove_punctuation=True, replace_urls=True,\n",
        "                 replace_numbers=True, stemming=True):\n",
        "        self.strip_headers = strip_headers\n",
        "        self.lower_case = lower_case\n",
        "        self.remove_punctuation = remove_punctuation\n",
        "        self.replace_urls = replace_urls\n",
        "        self.replace_numbers = replace_numbers\n",
        "        self.stemming = stemming\n",
        "    def fit(self, X, y=None):\n",
        "        return self\n",
        "    def transform(self, X, y=None):\n",
        "        X_transformed = []\n",
        "        for email in X:\n",
        "            text = email_to_text(email) or \"\"\n",
        "            if self.lower_case:\n",
        "                text = text.lower()\n",
        "            if self.replace_urls and url_extractor is not None:\n",
        "                urls = list(set(url_extractor.find_urls(text)))\n",
        "                urls.sort(key=lambda url: len(url), reverse=True)\n",
        "                for url in urls:\n",
        "                    text = text.replace(url, \" URL \")\n",
        "            if self.replace_numbers:\n",
        "                text = re.sub(r'\\d+(?:\\.\\d*)?(?:[eE][+-]?\\d+)?', 'NUMBER', text)\n",
        "            if self.remove_punctuation:\n",
        "                text = re.sub(r'\\W+', ' ', text, flags=re.M)\n",
        "            word_counts = Counter(text.split())\n",
        "            if self.stemming and stemmer is not None:\n",
        "                stemmed_word_counts = Counter()\n",
        "                for word, count in word_counts.items():\n",
        "                    stemmed_word = stemmer.stem(word)\n",
        "                    stemmed_word_counts[stemmed_word] += count\n",
        "                word_counts = stemmed_word_counts\n",
        "            X_transformed.append(word_counts)\n",
        "        return np.array(X_transformed)"
      ]
    },
    {
      "cell_type": "markdown",
      "metadata": {
        "id": "VYChmbGaeiXa"
      },
      "source": [
        "Let's try this transformer on a few emails:"
      ]
    },
    {
      "cell_type": "code",
      "execution_count": null,
      "metadata": {
        "id": "T2LPJ5DFeiXa"
      },
      "outputs": [],
      "source": [
        "X_few = X_train[:3]\n",
        "X_few_wordcounts = EmailToWordCounterTransformer().fit_transform(X_few)\n",
        "X_few_wordcounts"
      ]
    },
    {
      "cell_type": "markdown",
      "metadata": {
        "id": "DhLgsDoheiXa"
      },
      "source": [
        "This looks about right!"
      ]
    },
    {
      "cell_type": "markdown",
      "metadata": {
        "id": "WC8cHu0ZeiXa"
      },
      "source": [
        "Now we have the word counts, and we need to convert them to vectors. For this, we will build another transformer whose `fit()` method will build the vocabulary (an ordered list of the most common words) and whose `transform()` method will use the vocabulary to convert word counts to vectors. The output is a sparse matrix."
      ]
    },
    {
      "cell_type": "code",
      "execution_count": null,
      "metadata": {
        "id": "Ev1WazmFeiXa"
      },
      "outputs": [],
      "source": [
        "from scipy.sparse import csr_matrix\n",
        "\n",
        "class WordCounterToVectorTransformer(BaseEstimator, TransformerMixin):\n",
        "    def __init__(self, vocabulary_size=1000):\n",
        "        self.vocabulary_size = vocabulary_size\n",
        "    def fit(self, X, y=None):\n",
        "        total_count = Counter()\n",
        "        for word_count in X:\n",
        "            for word, count in word_count.items():\n",
        "                total_count[word] += min(count, 10)\n",
        "        most_common = total_count.most_common()[:self.vocabulary_size]\n",
        "        self.vocabulary_ = {word: index + 1\n",
        "                            for index, (word, count) in enumerate(most_common)}\n",
        "        return self\n",
        "    def transform(self, X, y=None):\n",
        "        rows = []\n",
        "        cols = []\n",
        "        data = []\n",
        "        for row, word_count in enumerate(X):\n",
        "            for word, count in word_count.items():\n",
        "                rows.append(row)\n",
        "                cols.append(self.vocabulary_.get(word, 0))\n",
        "                data.append(count)\n",
        "        return csr_matrix((data, (rows, cols)),\n",
        "                          shape=(len(X), self.vocabulary_size + 1))"
      ]
    },
    {
      "cell_type": "code",
      "execution_count": null,
      "metadata": {
        "id": "KfgNYrhqeiXa"
      },
      "outputs": [],
      "source": [
        "vocab_transformer = WordCounterToVectorTransformer(vocabulary_size=10)\n",
        "X_few_vectors = vocab_transformer.fit_transform(X_few_wordcounts)\n",
        "X_few_vectors"
      ]
    },
    {
      "cell_type": "code",
      "execution_count": null,
      "metadata": {
        "id": "gCRKZOAxeiXa"
      },
      "outputs": [],
      "source": [
        "X_few_vectors.toarray()"
      ]
    },
    {
      "cell_type": "markdown",
      "metadata": {
        "id": "65imqnmgeiXb"
      },
      "source": [
        "What does this matrix mean? Well, the 99 in the second row, first column, means that the second email contains 99 words that are not part of the vocabulary. The 11 next to it means that the first word in the vocabulary is present 11 times in this email. The 9 next to it means that the second word is present 9 times, and so on. You can look at the vocabulary to know which words we are talking about. The first word is \"the\", the second word is \"of\", etc."
      ]
    },
    {
      "cell_type": "code",
      "execution_count": null,
      "metadata": {
        "id": "UA1EEzTeeiXb"
      },
      "outputs": [],
      "source": [
        "vocab_transformer.vocabulary_"
      ]
    },
    {
      "cell_type": "markdown",
      "metadata": {
        "id": "Yiuxbik7eiXb"
      },
      "source": [
        "We are now ready to train our first spam classifier! Let's transform the whole dataset:"
      ]
    },
    {
      "cell_type": "code",
      "execution_count": null,
      "metadata": {
        "id": "QAY35hpueiXb"
      },
      "outputs": [],
      "source": [
        "from sklearn.pipeline import Pipeline\n",
        "\n",
        "preprocess_pipeline = Pipeline([\n",
        "    (\"email_to_wordcount\", EmailToWordCounterTransformer()),\n",
        "    (\"wordcount_to_vector\", WordCounterToVectorTransformer()),\n",
        "])\n",
        "\n",
        "X_train_transformed = preprocess_pipeline.fit_transform(X_train)"
      ]
    },
    {
      "cell_type": "code",
      "execution_count": null,
      "metadata": {
        "id": "08iUPuVoeiXb"
      },
      "outputs": [],
      "source": [
        "from sklearn.linear_model import LogisticRegression\n",
        "from sklearn.model_selection import cross_val_score\n",
        "\n",
        "log_clf = LogisticRegression(max_iter=1000, random_state=42)\n",
        "score = cross_val_score(log_clf, X_train_transformed, y_train, cv=3)\n",
        "score.mean()"
      ]
    },
    {
      "cell_type": "markdown",
      "metadata": {
        "id": "2uPuJqD0eiXb"
      },
      "source": [
        "Over 98.5%, not bad for a first try! :) However, remember that we are using the \"easy\" dataset. You can try with the harder datasets, the results won't be so amazing. You would have to try multiple models, select the best ones and fine-tune them using cross-validation, and so on.\n",
        "\n",
        "But you get the picture, so let's stop now, and just print out the precision/recall we get on the test set:"
      ]
    },
    {
      "cell_type": "code",
      "execution_count": null,
      "metadata": {
        "id": "Ce8B-fvteiXb"
      },
      "outputs": [],
      "source": [
        "from sklearn.metrics import precision_score, recall_score\n",
        "\n",
        "X_test_transformed = preprocess_pipeline.transform(X_test)\n",
        "\n",
        "log_clf = LogisticRegression(max_iter=1000, random_state=42)\n",
        "log_clf.fit(X_train_transformed, y_train)\n",
        "\n",
        "y_pred = log_clf.predict(X_test_transformed)\n",
        "\n",
        "print(f\"Precision: {precision_score(y_test, y_pred):.2%}\")\n",
        "print(f\"Recall: {recall_score(y_test, y_pred):.2%}\")"
      ]
    },
    {
      "cell_type": "code",
      "execution_count": null,
      "metadata": {
        "id": "HR1JqgmdeiXc"
      },
      "outputs": [],
      "source": [
        "print(\"Took:{0:.2f}s\".format(time.time() - t0))\n",
        "now_utc = datetime.datetime.utcnow()\n",
        "ist_tz = pytz.timezone('Asia/Kolkata')\n",
        "now_ist = now_utc.astimezone(ist_tz)\n",
        "print(\"Current time in IST:\", now_ist.strftime(\"%Y-%m-%d %H:%M:%S %Z%z\"))"
      ]
    }
  ],
  "metadata": {
    "colab": {
      "provenance": [],
      "toc_visible": true
    },
    "gpuClass": "standard",
    "kernelspec": {
      "display_name": "Python 3",
      "language": "python",
      "name": "python3"
    },
    "language_info": {
      "codemirror_mode": {
        "name": "ipython",
        "version": 3
      },
      "file_extension": ".py",
      "mimetype": "text/x-python",
      "name": "python",
      "nbconvert_exporter": "python",
      "pygments_lexer": "ipython3",
      "version": "3.10.6"
    },
    "nav_menu": {},
    "toc": {
      "navigate_menu": true,
      "number_sections": true,
      "sideBar": true,
      "threshold": 6,
      "toc_cell": false,
      "toc_section_display": "block",
      "toc_window_display": false
    }
  },
  "nbformat": 4,
  "nbformat_minor": 0
}