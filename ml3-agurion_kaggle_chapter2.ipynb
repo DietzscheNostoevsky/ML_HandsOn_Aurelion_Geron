{
 "cells": [
  {
   "attachments": {},
   "cell_type": "markdown",
   "id": "07e3295f",
   "metadata": {
    "_cell_guid": "b1076dfc-b9ad-4769-8c92-a6c4dae69d19",
    "_uuid": "8f2839f25d086af736a60e9eeb907d3b93b6e0e5",
    "papermill": {
     "duration": 0.002896,
     "end_time": "2023-03-15T03:58:28.340296",
     "exception": false,
     "start_time": "2023-03-15T03:58:28.337400",
     "status": "completed"
    },
    "tags": []
   },
   "source": [
    "# End to End Machine learning project "
   ]
  },
  {
   "attachments": {},
   "cell_type": "markdown",
   "id": "6efd4bba",
   "metadata": {
    "papermill": {
     "duration": 0.001526,
     "end_time": "2023-03-15T03:58:28.343997",
     "exception": false,
     "start_time": "2023-03-15T03:58:28.342471",
     "status": "completed"
    },
    "tags": []
   },
   "source": [
    "#### Data used : \n",
    "California Housing Prices dataset from the StatLib repository"
   ]
  },
  {
   "attachments": {},
   "cell_type": "markdown",
   "id": "c50a4131",
   "metadata": {
    "papermill": {
     "duration": 0.001403,
     "end_time": "2023-03-15T03:58:28.350205",
     "exception": false,
     "start_time": "2023-03-15T03:58:28.348802",
     "status": "completed"
    },
    "tags": []
   },
   "source": [
    "# Project Checklist \n",
    "\n",
    "- [x] Frame the problem and look at the bigger picture\n",
    "- [x] Get the Data\n",
    "- [ ] Explore the Data to gain insights \n",
    "- [ ] Prepare the data to better expose the underlying data pattersn to ML algos\n",
    "- [ ] Explore many different models and shortlist the best ones \n",
    "- [ ] Fine tune the model and combine them into a solution\n",
    "- [ ] Present the solution\n",
    "- [ ] Launch, monitor and maintain the system\n",
    "  "
   ]
  },
  {
   "attachments": {},
   "cell_type": "markdown",
   "id": "aea68eb1",
   "metadata": {
    "papermill": {
     "duration": 0.00142,
     "end_time": "2023-03-15T03:58:28.347147",
     "exception": false,
     "start_time": "2023-03-15T03:58:28.345727",
     "status": "completed"
    },
    "tags": []
   },
   "source": [
    "# Problem statement : \n",
    "\n",
    "Welcome to the Machine Learning Housing Corporation! Your first task is to use California census data to build a model of housing prices in the state. This data includes metrics such as the population, median income, and median housing price for each block group in California. Block groups are the smallest geographical unit for which the US Census Bureau publishes sample data (a block group typically has a population of 600 to 3,000 people). I will call them “districts” for short.\n",
    "Your model should learn from this data and be able to predict the median housing price in any district, given all the other metrics."
   ]
  },
  {
   "attachments": {},
   "cell_type": "markdown",
   "id": "62e6c2f5",
   "metadata": {},
   "source": [
    "# Getting the Data\n"
   ]
  },
  {
   "attachments": {},
   "cell_type": "markdown",
   "id": "8ad124d0",
   "metadata": {},
   "source": [
    "Rather than manually downloading and decompressing the data, it’s usually preferable to write a function that does it for you. \n",
    "This is useful in particular if the data changes regularly: \n",
    "\n",
    "    - You can write a small script that uses the function to fetch the latest data (or you can set up a scheduled job to do that automatically at regular intervals). \n",
    "    \n",
    "    - Automating the process of fetching the data is also useful if you need to install the dataset on multiple machines."
   ]
  },
  {
   "cell_type": "code",
   "execution_count": 3,
   "id": "fa98f631",
   "metadata": {},
   "outputs": [],
   "source": [
    "# Setting up the libraries \n",
    "\n",
    "# checking python version\n",
    "import sys\n",
    "assert sys.version_info >= (3, 7)\n",
    "\n",
    "#checking scikit-learn version\n",
    "from packaging import version\n",
    "import sklearn\n",
    "assert version.parse(sklearn.__version__) >= version.parse(\"1.0.1\")\n",
    "\n",
    "from pathlib import Path\n",
    "import pandas as pd\n",
    "import tarfile\n",
    "import urllib.request"
   ]
  },
  {
   "cell_type": "code",
   "execution_count": 4,
   "id": "d4af8b03",
   "metadata": {},
   "outputs": [],
   "source": [
    "# script to get and load the data \n",
    "def load_housing_data():\n",
    "    tarball_path = Path(\"datasets/housing.tgz\")\n",
    "    if not tarball_path.is_file():\n",
    "        Path(\"datasets\").mkdir(parents=True, exist_ok=True)\n",
    "        url = \"https://github.com/ageron/data/raw/main/housing.tgz\"\n",
    "        urllib.request.urlretrieve(url, tarball_path)\n",
    "        with tarfile.open(tarball_path) as housing_tarball:\n",
    "            housing_tarball.extractall(path=\"datasets\")\n",
    "    return pd.read_csv(Path(\"datasets/housing/housing.csv\"))\n",
    "\n",
    "\n",
    "housing = load_housing_data()\n"
   ]
  },
  {
   "cell_type": "code",
   "execution_count": 5,
   "id": "e412f3fe",
   "metadata": {},
   "outputs": [
    {
     "data": {
      "text/html": [
       "<div>\n",
       "<style scoped>\n",
       "    .dataframe tbody tr th:only-of-type {\n",
       "        vertical-align: middle;\n",
       "    }\n",
       "\n",
       "    .dataframe tbody tr th {\n",
       "        vertical-align: top;\n",
       "    }\n",
       "\n",
       "    .dataframe thead th {\n",
       "        text-align: right;\n",
       "    }\n",
       "</style>\n",
       "<table border=\"1\" class=\"dataframe\">\n",
       "  <thead>\n",
       "    <tr style=\"text-align: right;\">\n",
       "      <th></th>\n",
       "      <th>longitude</th>\n",
       "      <th>latitude</th>\n",
       "      <th>housing_median_age</th>\n",
       "      <th>total_rooms</th>\n",
       "      <th>total_bedrooms</th>\n",
       "      <th>population</th>\n",
       "      <th>households</th>\n",
       "      <th>median_income</th>\n",
       "      <th>median_house_value</th>\n",
       "      <th>ocean_proximity</th>\n",
       "    </tr>\n",
       "  </thead>\n",
       "  <tbody>\n",
       "    <tr>\n",
       "      <th>0</th>\n",
       "      <td>-122.23</td>\n",
       "      <td>37.88</td>\n",
       "      <td>41.0</td>\n",
       "      <td>880.0</td>\n",
       "      <td>129.0</td>\n",
       "      <td>322.0</td>\n",
       "      <td>126.0</td>\n",
       "      <td>8.3252</td>\n",
       "      <td>452600.0</td>\n",
       "      <td>NEAR BAY</td>\n",
       "    </tr>\n",
       "    <tr>\n",
       "      <th>1</th>\n",
       "      <td>-122.22</td>\n",
       "      <td>37.86</td>\n",
       "      <td>21.0</td>\n",
       "      <td>7099.0</td>\n",
       "      <td>1106.0</td>\n",
       "      <td>2401.0</td>\n",
       "      <td>1138.0</td>\n",
       "      <td>8.3014</td>\n",
       "      <td>358500.0</td>\n",
       "      <td>NEAR BAY</td>\n",
       "    </tr>\n",
       "    <tr>\n",
       "      <th>2</th>\n",
       "      <td>-122.24</td>\n",
       "      <td>37.85</td>\n",
       "      <td>52.0</td>\n",
       "      <td>1467.0</td>\n",
       "      <td>190.0</td>\n",
       "      <td>496.0</td>\n",
       "      <td>177.0</td>\n",
       "      <td>7.2574</td>\n",
       "      <td>352100.0</td>\n",
       "      <td>NEAR BAY</td>\n",
       "    </tr>\n",
       "    <tr>\n",
       "      <th>3</th>\n",
       "      <td>-122.25</td>\n",
       "      <td>37.85</td>\n",
       "      <td>52.0</td>\n",
       "      <td>1274.0</td>\n",
       "      <td>235.0</td>\n",
       "      <td>558.0</td>\n",
       "      <td>219.0</td>\n",
       "      <td>5.6431</td>\n",
       "      <td>341300.0</td>\n",
       "      <td>NEAR BAY</td>\n",
       "    </tr>\n",
       "    <tr>\n",
       "      <th>4</th>\n",
       "      <td>-122.25</td>\n",
       "      <td>37.85</td>\n",
       "      <td>52.0</td>\n",
       "      <td>1627.0</td>\n",
       "      <td>280.0</td>\n",
       "      <td>565.0</td>\n",
       "      <td>259.0</td>\n",
       "      <td>3.8462</td>\n",
       "      <td>342200.0</td>\n",
       "      <td>NEAR BAY</td>\n",
       "    </tr>\n",
       "  </tbody>\n",
       "</table>\n",
       "</div>"
      ],
      "text/plain": [
       "   longitude  latitude  housing_median_age  total_rooms  total_bedrooms  \\\n",
       "0    -122.23     37.88                41.0        880.0           129.0   \n",
       "1    -122.22     37.86                21.0       7099.0          1106.0   \n",
       "2    -122.24     37.85                52.0       1467.0           190.0   \n",
       "3    -122.25     37.85                52.0       1274.0           235.0   \n",
       "4    -122.25     37.85                52.0       1627.0           280.0   \n",
       "\n",
       "   population  households  median_income  median_house_value ocean_proximity  \n",
       "0       322.0       126.0         8.3252            452600.0        NEAR BAY  \n",
       "1      2401.0      1138.0         8.3014            358500.0        NEAR BAY  \n",
       "2       496.0       177.0         7.2574            352100.0        NEAR BAY  \n",
       "3       558.0       219.0         5.6431            341300.0        NEAR BAY  \n",
       "4       565.0       259.0         3.8462            342200.0        NEAR BAY  "
      ]
     },
     "execution_count": 5,
     "metadata": {},
     "output_type": "execute_result"
    }
   ],
   "source": [
    "# Quick look at the data\n",
    "housing.head()"
   ]
  },
  {
   "cell_type": "code",
   "execution_count": 6,
   "id": "5b18fb60",
   "metadata": {},
   "outputs": [
    {
     "name": "stdout",
     "output_type": "stream",
     "text": [
      "<class 'pandas.core.frame.DataFrame'>\n",
      "RangeIndex: 20640 entries, 0 to 20639\n",
      "Data columns (total 10 columns):\n",
      " #   Column              Non-Null Count  Dtype  \n",
      "---  ------              --------------  -----  \n",
      " 0   longitude           20640 non-null  float64\n",
      " 1   latitude            20640 non-null  float64\n",
      " 2   housing_median_age  20640 non-null  float64\n",
      " 3   total_rooms         20640 non-null  float64\n",
      " 4   total_bedrooms      20433 non-null  float64\n",
      " 5   population          20640 non-null  float64\n",
      " 6   households          20640 non-null  float64\n",
      " 7   median_income       20640 non-null  float64\n",
      " 8   median_house_value  20640 non-null  float64\n",
      " 9   ocean_proximity     20640 non-null  object \n",
      "dtypes: float64(9), object(1)\n",
      "memory usage: 1.6+ MB\n"
     ]
    }
   ],
   "source": [
    "# description of the data \n",
    "housing.info()"
   ]
  },
  {
   "attachments": {},
   "cell_type": "markdown",
   "id": "706fc391",
   "metadata": {},
   "source": [
    "- total_bedrooms attribute has only 20,433 non-null values, meaning that 207 districts are missing this feature. Need to take care of this later."
   ]
  },
  {
   "cell_type": "code",
   "execution_count": 7,
   "id": "323f4fae",
   "metadata": {},
   "outputs": [
    {
     "data": {
      "text/plain": [
       "<1H OCEAN     9136\n",
       "INLAND        6551\n",
       "NEAR OCEAN    2658\n",
       "NEAR BAY      2290\n",
       "ISLAND           5\n",
       "Name: ocean_proximity, dtype: int64"
      ]
     },
     "execution_count": 7,
     "metadata": {},
     "output_type": "execute_result"
    }
   ],
   "source": [
    "# what categories exist and how many districts belong to each category by using the value_counts() method for ocean proxomity column:\n",
    "\n",
    "housing['ocean_proximity'].value_counts()\n"
   ]
  },
  {
   "cell_type": "code",
   "execution_count": 8,
   "id": "c5323b67",
   "metadata": {},
   "outputs": [
    {
     "data": {
      "text/html": [
       "<div>\n",
       "<style scoped>\n",
       "    .dataframe tbody tr th:only-of-type {\n",
       "        vertical-align: middle;\n",
       "    }\n",
       "\n",
       "    .dataframe tbody tr th {\n",
       "        vertical-align: top;\n",
       "    }\n",
       "\n",
       "    .dataframe thead th {\n",
       "        text-align: right;\n",
       "    }\n",
       "</style>\n",
       "<table border=\"1\" class=\"dataframe\">\n",
       "  <thead>\n",
       "    <tr style=\"text-align: right;\">\n",
       "      <th></th>\n",
       "      <th>longitude</th>\n",
       "      <th>latitude</th>\n",
       "      <th>housing_median_age</th>\n",
       "      <th>total_rooms</th>\n",
       "      <th>total_bedrooms</th>\n",
       "      <th>population</th>\n",
       "      <th>households</th>\n",
       "      <th>median_income</th>\n",
       "      <th>median_house_value</th>\n",
       "    </tr>\n",
       "  </thead>\n",
       "  <tbody>\n",
       "    <tr>\n",
       "      <th>count</th>\n",
       "      <td>20640.000000</td>\n",
       "      <td>20640.000000</td>\n",
       "      <td>20640.000000</td>\n",
       "      <td>20640.000000</td>\n",
       "      <td>20433.000000</td>\n",
       "      <td>20640.000000</td>\n",
       "      <td>20640.000000</td>\n",
       "      <td>20640.000000</td>\n",
       "      <td>20640.000000</td>\n",
       "    </tr>\n",
       "    <tr>\n",
       "      <th>mean</th>\n",
       "      <td>-119.569704</td>\n",
       "      <td>35.631861</td>\n",
       "      <td>28.639486</td>\n",
       "      <td>2635.763081</td>\n",
       "      <td>537.870553</td>\n",
       "      <td>1425.476744</td>\n",
       "      <td>499.539680</td>\n",
       "      <td>3.870671</td>\n",
       "      <td>206855.816909</td>\n",
       "    </tr>\n",
       "    <tr>\n",
       "      <th>std</th>\n",
       "      <td>2.003532</td>\n",
       "      <td>2.135952</td>\n",
       "      <td>12.585558</td>\n",
       "      <td>2181.615252</td>\n",
       "      <td>421.385070</td>\n",
       "      <td>1132.462122</td>\n",
       "      <td>382.329753</td>\n",
       "      <td>1.899822</td>\n",
       "      <td>115395.615874</td>\n",
       "    </tr>\n",
       "    <tr>\n",
       "      <th>min</th>\n",
       "      <td>-124.350000</td>\n",
       "      <td>32.540000</td>\n",
       "      <td>1.000000</td>\n",
       "      <td>2.000000</td>\n",
       "      <td>1.000000</td>\n",
       "      <td>3.000000</td>\n",
       "      <td>1.000000</td>\n",
       "      <td>0.499900</td>\n",
       "      <td>14999.000000</td>\n",
       "    </tr>\n",
       "    <tr>\n",
       "      <th>25%</th>\n",
       "      <td>-121.800000</td>\n",
       "      <td>33.930000</td>\n",
       "      <td>18.000000</td>\n",
       "      <td>1447.750000</td>\n",
       "      <td>296.000000</td>\n",
       "      <td>787.000000</td>\n",
       "      <td>280.000000</td>\n",
       "      <td>2.563400</td>\n",
       "      <td>119600.000000</td>\n",
       "    </tr>\n",
       "    <tr>\n",
       "      <th>50%</th>\n",
       "      <td>-118.490000</td>\n",
       "      <td>34.260000</td>\n",
       "      <td>29.000000</td>\n",
       "      <td>2127.000000</td>\n",
       "      <td>435.000000</td>\n",
       "      <td>1166.000000</td>\n",
       "      <td>409.000000</td>\n",
       "      <td>3.534800</td>\n",
       "      <td>179700.000000</td>\n",
       "    </tr>\n",
       "    <tr>\n",
       "      <th>75%</th>\n",
       "      <td>-118.010000</td>\n",
       "      <td>37.710000</td>\n",
       "      <td>37.000000</td>\n",
       "      <td>3148.000000</td>\n",
       "      <td>647.000000</td>\n",
       "      <td>1725.000000</td>\n",
       "      <td>605.000000</td>\n",
       "      <td>4.743250</td>\n",
       "      <td>264725.000000</td>\n",
       "    </tr>\n",
       "    <tr>\n",
       "      <th>max</th>\n",
       "      <td>-114.310000</td>\n",
       "      <td>41.950000</td>\n",
       "      <td>52.000000</td>\n",
       "      <td>39320.000000</td>\n",
       "      <td>6445.000000</td>\n",
       "      <td>35682.000000</td>\n",
       "      <td>6082.000000</td>\n",
       "      <td>15.000100</td>\n",
       "      <td>500001.000000</td>\n",
       "    </tr>\n",
       "  </tbody>\n",
       "</table>\n",
       "</div>"
      ],
      "text/plain": [
       "          longitude      latitude  housing_median_age   total_rooms  \\\n",
       "count  20640.000000  20640.000000        20640.000000  20640.000000   \n",
       "mean    -119.569704     35.631861           28.639486   2635.763081   \n",
       "std        2.003532      2.135952           12.585558   2181.615252   \n",
       "min     -124.350000     32.540000            1.000000      2.000000   \n",
       "25%     -121.800000     33.930000           18.000000   1447.750000   \n",
       "50%     -118.490000     34.260000           29.000000   2127.000000   \n",
       "75%     -118.010000     37.710000           37.000000   3148.000000   \n",
       "max     -114.310000     41.950000           52.000000  39320.000000   \n",
       "\n",
       "       total_bedrooms    population    households  median_income  \\\n",
       "count    20433.000000  20640.000000  20640.000000   20640.000000   \n",
       "mean       537.870553   1425.476744    499.539680       3.870671   \n",
       "std        421.385070   1132.462122    382.329753       1.899822   \n",
       "min          1.000000      3.000000      1.000000       0.499900   \n",
       "25%        296.000000    787.000000    280.000000       2.563400   \n",
       "50%        435.000000   1166.000000    409.000000       3.534800   \n",
       "75%        647.000000   1725.000000    605.000000       4.743250   \n",
       "max       6445.000000  35682.000000   6082.000000      15.000100   \n",
       "\n",
       "       median_house_value  \n",
       "count        20640.000000  \n",
       "mean        206855.816909  \n",
       "std         115395.615874  \n",
       "min          14999.000000  \n",
       "25%         119600.000000  \n",
       "50%         179700.000000  \n",
       "75%         264725.000000  \n",
       "max         500001.000000  "
      ]
     },
     "execution_count": 8,
     "metadata": {},
     "output_type": "execute_result"
    }
   ],
   "source": [
    "# Decribe method shows a summary of the numerical attributes\n",
    "\n",
    "housing.describe()"
   ]
  },
  {
   "cell_type": "code",
   "execution_count": 9,
   "id": "a17b3de3",
   "metadata": {},
   "outputs": [
    {
     "data": {
      "image/png": "[encoded data removed]",
      "text/plain": [
       "<Figure size 1080x576 with 9 Axes>"
      ]
     },
     "metadata": {
      "needs_background": "light"
     },
     "output_type": "display_data"
    }
   ],
   "source": [
    "# A histogram shows the number of instances (on the vertical axis) \n",
    "# that have a given value range (on the horizontal axis). \n",
    "# You can either plot this one attribute at a time, or we can call the hist() method on the whole dataset \n",
    "# and it will plot a histogram for each *numerical attribute*\n",
    "\n",
    "import matplotlib.pyplot as plt\n",
    "\n",
    "housing.hist(bins=100, figsize=(15,8))\n",
    "plt.show()"
   ]
  },
  {
   "attachments": {},
   "cell_type": "markdown",
   "id": "ba1b7c75",
   "metadata": {},
   "source": [
    "# Creating a test set "
   ]
  },
  {
   "cell_type": "code",
   "execution_count": 10,
   "id": "d7877f76",
   "metadata": {},
   "outputs": [
    {
     "name": "stdout",
     "output_type": "stream",
     "text": [
      "Length train set : 16512\n",
      "Length test set : 4128\n"
     ]
    }
   ],
   "source": [
    "import numpy as np\n",
    "\n",
    "def shuffle_and_split_data(data , test_ratio):\n",
    "    shuffled_indices = np.random.permutation(len(data))\n",
    "    test_set_size = int(len(data)*test_ratio)\n",
    "    test_indices = shuffled_indices[:test_set_size]\n",
    "    train_indices = shuffled_indices[test_set_size:]\n",
    "    return data.iloc[train_indices], data.iloc[test_indices]\n",
    "\n",
    "# generating the test and train set \n",
    "\n",
    "train_set , test_set  = shuffle_and_split_data(housing, 0.2)\n",
    "\n",
    "print(F\"Length train set : {len(train_set)}\")\n",
    "print(F\"Length test set : {len(test_set)}\")\n"
   ]
  },
  {
   "attachments": {},
   "cell_type": "markdown",
   "id": "07b89d59",
   "metadata": {},
   "source": [
    "### Uniqueness of test set \n",
    "\n",
    "Well, this works, but it is not perfect: if you run the program again, it will generate a different test set! Over time, you (or your machine learning algorithms) will get to see the whole dataset, which is what you want to avoid.\n",
    "\n",
    "One solution is to save the test set on the first run and then load it in subsequent runs. Another option is to set the random number generator’s seed (e.g., with np.random.seed(42))6 before calling np.random.permutation() so that it always generates the same shuffled indices.\n",
    "\n",
    "However, both these solutions will break the next time you fetch an updated dataset. \n",
    "\n",
    "To have a stable train/test split even after updating the dataset, a common solution is to use each instance’s identifier to decide whether or not it should go in the test set (assuming instances have unique and immutable identifiers). \n",
    "\n",
    "        For example, you could compute a hash of each instance’s identifier and put that instance in the test set if the hash is lower than or equal to 20% of the maximum hash value. \n",
    "        - This ensures that the test set will remain consistent across multiple runs, even if you refresh the dataset. \n",
    "        - The new test set will contain 20% of the new instances, but it will not contain any instance that was previously in the training set."
   ]
  },
  {
   "cell_type": "code",
   "execution_count": 11,
   "id": "64a12c26",
   "metadata": {},
   "outputs": [],
   "source": [
    "# Implementation \n",
    "\n",
    "\n",
    "from zlib import crc32\n",
    "\n",
    "def is_id_in_test_set(identifier, test_ratio):\n",
    "    return crc32(np.int64(identifier)) < test_ratio * 2**32\n",
    "\n",
    "def split_data_with_id_hash(data, test_ratio, id_column):\n",
    "    ids = data[id_column]\n",
    "    in_test_set = ids.apply(lambda id_: is_id_in_test_set(id_, test_ratio)) \n",
    "    return data.loc[~in_test_set], data.loc[in_test_set] # \"~\" is a bitwise operator  NOT, which Inverts all the bits\n",
    "\n",
    "# HOusing data doesnt have an identifier. \n",
    "# Use row index as id\n",
    "\n",
    "\n",
    "housing_with_id = housing.reset_index()  # adds an `index` column\n",
    "train_set , test_set = split_data_with_id_hash(housing_with_id, 0.2 , \"index\")\n"
   ]
  },
  {
   "attachments": {},
   "cell_type": "markdown",
   "id": "07bf47c7",
   "metadata": {},
   "source": [
    "Scikit-Learn provides a few functions to split datasets into multiple subsets in various ways. \n",
    "\n",
    "The simplest function is train_test_split(), which does pretty much the same thing as the shuffle_and_split_data() function we defined earlier, with a couple of additional features. \n",
    "\n",
    "    - First, there is a random_state parameter that allows you to set the random generator seed. \n",
    "    - Second, you can pass it multiple datasets with an identical number of rows, and it will split them on the same indices (this is very useful, for example, if you have a separate DataFrame for labels):\n"
   ]
  },
  {
   "cell_type": "code",
   "execution_count": 12,
   "id": "82653ce8",
   "metadata": {},
   "outputs": [],
   "source": [
    "from sklearn.model_selection import train_test_split\n",
    "\n",
    "train_set, test_set = train_test_split(housing, test_size=0.2, random_state=42)"
   ]
  },
  {
   "attachments": {},
   "cell_type": "markdown",
   "id": "a288f8c2",
   "metadata": {},
   "source": [
    "You’ve chatted with some experts who told you that the median income is a very important attribute to predict median housing prices. \n",
    "You may want to ensure that the test set is representative of the various categories of incomes in the whole dataset. \n",
    "\n",
    "Since the median income is a continuous numerical attribute, you first need to create an income category attribute. Let’s look at the median income histogram more closely (back in Figure 2-8): most median income values are clustered around 1.5 to 6 (i.e., $15,000–$60,000), but some median incomes go far beyond 6. \n",
    "\n",
    "It is important to have a sufficient number of instances in your dataset for each stratum, or else the estimate of a stratum’s importance may be biased. This means that you should not have too many strata, and each stratum should be large enough"
   ]
  },
  {
   "cell_type": "code",
   "execution_count": 13,
   "id": "7df2ab36",
   "metadata": {},
   "outputs": [
    {
     "data": {
      "image/png": "[encoded data removed]",
      "text/plain": [
       "<Figure size 432x288 with 1 Axes>"
      ]
     },
     "metadata": {
      "needs_background": "light"
     },
     "output_type": "display_data"
    }
   ],
   "source": [
    "# pd.cut() function to create an income category attribute with five categories (labeled from 1 to 5); \n",
    "# category 1 ranges from 0 to 1.5 (i.e., less than $15,000), \n",
    "# category 2 from 1.5 to 3, and so on\n",
    "\n",
    "housing[\"income_cat\"] = pd.cut(housing[\"median_income\"],\n",
    "                               bins=[0.,1.5,3.0, 4.5, 6.0, np.inf],\n",
    "                               labels=[1, 2, 3, 4, 5]\n",
    "                               )\n",
    "\n",
    "# plotting the new category \n",
    "\n",
    "housing[\"income_cat\"].value_counts().sort_index().plot.bar(rot=0, grid=True)\n",
    "plt.xlabel(\"Income category\")\n",
    "plt.ylabel(\"Number of districts\")\n",
    "plt.show()"
   ]
  },
  {
   "attachments": {},
   "cell_type": "markdown",
   "id": "f90ac9ca",
   "metadata": {},
   "source": [
    "Stratified income category wise test data sampled so that each category is represented fairly"
   ]
  },
  {
   "cell_type": "code",
   "execution_count": 14,
   "id": "bf1e7e08",
   "metadata": {},
   "outputs": [],
   "source": [
    "from sklearn.model_selection import StratifiedShuffleSplit\n",
    "\n",
    "splitter = StratifiedShuffleSplit(n_splits=10, test_size=0.2, random_state=42)\n",
    "strat_splits = []\n",
    "for train_index, test_index in splitter.split(housing, housing[\"income_cat\"]):\n",
    "    strat_train_set_n = housing.iloc[train_index]\n",
    "    strat_test_set_n = housing.iloc[test_index]\n",
    "    strat_splits.append([strat_train_set_n, strat_test_set_n])\n",
    "    \n",
    "# Using just the first split \n",
    "\n",
    "strat_train_set , strat_test_set = strat_splits[0]\n"
   ]
  },
  {
   "cell_type": "code",
   "execution_count": 15,
   "id": "097b672d",
   "metadata": {},
   "outputs": [],
   "source": [
    "# Pythonic implementation of the above code for single set \n",
    "\n",
    "strat_train_set, strat_test_set = train_test_split(\n",
    "    housing,\n",
    "    test_size=0.2,\n",
    "    stratify=housing[\"income_cat\"],\n",
    "    random_state=42\n",
    ")"
   ]
  },
  {
   "cell_type": "code",
   "execution_count": 16,
   "id": "2fb4554d",
   "metadata": {},
   "outputs": [
    {
     "data": {
      "text/plain": [
       "3    0.350533\n",
       "2    0.318798\n",
       "4    0.176357\n",
       "5    0.114341\n",
       "1    0.039971\n",
       "Name: income_cat, dtype: float64"
      ]
     },
     "execution_count": 16,
     "metadata": {},
     "output_type": "execute_result"
    }
   ],
   "source": [
    "# Checking if it worked by looking at the income category proportions in the test set:\n",
    "\n",
    "strat_test_set[\"income_cat\"].value_counts()/len(strat_test_set)"
   ]
  },
  {
   "cell_type": "code",
   "execution_count": 17,
   "id": "0817bc5e",
   "metadata": {},
   "outputs": [
    {
     "data": {
      "text/plain": [
       "3    0.350594\n",
       "2    0.318859\n",
       "4    0.176296\n",
       "5    0.114462\n",
       "1    0.039789\n",
       "Name: income_cat, dtype: float64"
      ]
     },
     "execution_count": 17,
     "metadata": {},
     "output_type": "execute_result"
    }
   ],
   "source": [
    "strat_train_set[\"income_cat\"].value_counts() / len(strat_train_set)\n"
   ]
  },
  {
   "attachments": {},
   "cell_type": "markdown",
   "id": "ca06b09c",
   "metadata": {},
   "source": [
    "Both the test set and the train set has the same distribution of median income households "
   ]
  },
  {
   "attachments": {},
   "cell_type": "markdown",
   "id": "18b5b503",
   "metadata": {},
   "source": [
    "**Question ?**\n",
    "What to do if I want to stratify by 2 different columns ?   \n",
    "**Answer :** \n",
    "read this  :  https://stackoverflow.com/questions/45516424/sklearn-train-test-split-on-pandas-stratify-by-multiple-columns"
   ]
  },
  {
   "cell_type": "code",
   "execution_count": 18,
   "id": "82789e25",
   "metadata": {},
   "outputs": [
    {
     "data": {
      "text/html": [
       "<div>\n",
       "<style scoped>\n",
       "    .dataframe tbody tr th:only-of-type {\n",
       "        vertical-align: middle;\n",
       "    }\n",
       "\n",
       "    .dataframe tbody tr th {\n",
       "        vertical-align: top;\n",
       "    }\n",
       "\n",
       "    .dataframe thead th {\n",
       "        text-align: right;\n",
       "    }\n",
       "</style>\n",
       "<table border=\"1\" class=\"dataframe\">\n",
       "  <thead>\n",
       "    <tr style=\"text-align: right;\">\n",
       "      <th></th>\n",
       "      <th>Overall %</th>\n",
       "      <th>Stratified %</th>\n",
       "      <th>Random %</th>\n",
       "      <th>Strat. Error %</th>\n",
       "      <th>Rand. Error %</th>\n",
       "    </tr>\n",
       "    <tr>\n",
       "      <th>Income Category</th>\n",
       "      <th></th>\n",
       "      <th></th>\n",
       "      <th></th>\n",
       "      <th></th>\n",
       "      <th></th>\n",
       "    </tr>\n",
       "  </thead>\n",
       "  <tbody>\n",
       "    <tr>\n",
       "      <th>1</th>\n",
       "      <td>3.98</td>\n",
       "      <td>4.00</td>\n",
       "      <td>4.24</td>\n",
       "      <td>0.36</td>\n",
       "      <td>6.45</td>\n",
       "    </tr>\n",
       "    <tr>\n",
       "      <th>2</th>\n",
       "      <td>31.88</td>\n",
       "      <td>31.88</td>\n",
       "      <td>30.74</td>\n",
       "      <td>-0.02</td>\n",
       "      <td>-3.59</td>\n",
       "    </tr>\n",
       "    <tr>\n",
       "      <th>3</th>\n",
       "      <td>35.06</td>\n",
       "      <td>35.05</td>\n",
       "      <td>34.52</td>\n",
       "      <td>-0.01</td>\n",
       "      <td>-1.53</td>\n",
       "    </tr>\n",
       "    <tr>\n",
       "      <th>4</th>\n",
       "      <td>17.63</td>\n",
       "      <td>17.64</td>\n",
       "      <td>18.41</td>\n",
       "      <td>0.03</td>\n",
       "      <td>4.42</td>\n",
       "    </tr>\n",
       "    <tr>\n",
       "      <th>5</th>\n",
       "      <td>11.44</td>\n",
       "      <td>11.43</td>\n",
       "      <td>12.09</td>\n",
       "      <td>-0.08</td>\n",
       "      <td>5.63</td>\n",
       "    </tr>\n",
       "  </tbody>\n",
       "</table>\n",
       "</div>"
      ],
      "text/plain": [
       "                 Overall %  Stratified %  Random %  Strat. Error %  \\\n",
       "Income Category                                                      \n",
       "1                     3.98          4.00      4.24            0.36   \n",
       "2                    31.88         31.88     30.74           -0.02   \n",
       "3                    35.06         35.05     34.52           -0.01   \n",
       "4                    17.63         17.64     18.41            0.03   \n",
       "5                    11.44         11.43     12.09           -0.08   \n",
       "\n",
       "                 Rand. Error %  \n",
       "Income Category                 \n",
       "1                         6.45  \n",
       "2                        -3.59  \n",
       "3                        -1.53  \n",
       "4                         4.42  \n",
       "5                         5.63  "
      ]
     },
     "execution_count": 18,
     "metadata": {},
     "output_type": "execute_result"
    }
   ],
   "source": [
    "# Testing tratified sampling with full data \n",
    "\n",
    "def income_cat_proportions(data):\n",
    "    return data[\"income_cat\"].value_counts() / len(data)\n",
    "\n",
    "\n",
    "train_set, test_set = train_test_split(housing, test_size=0.2, random_state=42)\n",
    "\n",
    "compare_props = pd.DataFrame({\n",
    "    \"Overall %\": income_cat_proportions(housing),\n",
    "    \"Stratified %\": income_cat_proportions(strat_test_set),\n",
    "    \"Random %\": income_cat_proportions(test_set),\n",
    "}).sort_index()\n",
    "compare_props.index.name = \"Income Category\"\n",
    "\n",
    "compare_props[\"Strat. Error %\"] = (compare_props[\"Stratified %\"] /\n",
    "                                   compare_props[\"Overall %\"] - 1)\n",
    "\n",
    "compare_props[\"Rand. Error %\"] = (compare_props[\"Random %\"] /\n",
    "                                  compare_props[\"Overall %\"] - 1)\n",
    "(compare_props * 100).round(2)\n",
    "\n"
   ]
  },
  {
   "cell_type": "code",
   "execution_count": 19,
   "id": "c8c5817e",
   "metadata": {},
   "outputs": [],
   "source": [
    "# Dropping the income_cat colums as it served its purpose. \n",
    "\n",
    "for set_ in (strat_train_set, strat_test_set) : \n",
    "    set_.drop(\"income_cat\", axis=1, inplace=True)"
   ]
  },
  {
   "attachments": {},
   "cell_type": "markdown",
   "id": "5de37916",
   "metadata": {},
   "source": [
    "# Exploring and Visualizing the Data"
   ]
  },
  {
   "attachments": {},
   "cell_type": "markdown",
   "id": "d4faab00",
   "metadata": {},
   "source": [
    "If Training Set is large, take a sample and do EDA on that to save compute time and easier manipulations   \n",
    "Create a copy of the data since train set would be transformed "
   ]
  },
  {
   "cell_type": "code",
   "execution_count": 20,
   "id": "62b4c3ad",
   "metadata": {},
   "outputs": [],
   "source": [
    "# Copying the data\n",
    "\n",
    "housing = strat_train_set.copy()"
   ]
  },
  {
   "attachments": {},
   "cell_type": "markdown",
   "id": "4fca7444",
   "metadata": {},
   "source": [
    "### Visualizing Geographical Data"
   ]
  },
  {
   "cell_type": "code",
   "execution_count": 25,
   "id": "c9da8be4",
   "metadata": {},
   "outputs": [
    {
     "data": {
      "image/png": "[encoded data removed]",
      "text/plain": [
       "<Figure size 432x288 with 1 Axes>"
      ]
     },
     "metadata": {
      "needs_background": "light"
     },
     "output_type": "display_data"
    }
   ],
   "source": [
    "# Scatterplot of all districts \n",
    "\n",
    "housing.plot(kind=\"scatter\", \n",
    "             x = \"longitude\",\n",
    "             y = \"latitude\", \n",
    "             grid=True)\n",
    "plt.show()"
   ]
  },
  {
   "cell_type": "code",
   "execution_count": 30,
   "id": "e411a747",
   "metadata": {},
   "outputs": [
    {
     "data": {
      "image/png": "[encoded data removed]",
      "text/plain": [
       "<Figure size 432x288 with 1 Axes>"
      ]
     },
     "metadata": {
      "needs_background": "light"
     },
     "output_type": "display_data"
    }
   ],
   "source": [
    "# setting density parameter \n",
    "housing.plot(kind=\"scatter\",\n",
    "             x=\"longitude\",\n",
    "             y=\"latitude\",\n",
    "             alpha=0.2,\n",
    "             grid=True)\n",
    "plt.show()\n"
   ]
  }
 ],
 "metadata": {
  "kernelspec": {
   "display_name": "Python 3",
   "language": "python",
   "name": "python3"
  },
  "language_info": {
   "codemirror_mode": {
    "name": "ipython",
    "version": 3
   },
   "file_extension": ".py",
   "mimetype": "text/x-python",
   "name": "python",
   "nbconvert_exporter": "python",
   "pygments_lexer": "ipython3",
   "version": "3.9.6"
  },
  "papermill": {
   "default_parameters": {},
   "duration": 11.737533,
   "end_time": "2023-03-15T03:58:29.077173",
   "environment_variables": {},
   "exception": null,
   "input_path": "__notebook__.ipynb",
   "output_path": "__notebook__.ipynb",
   "parameters": {},
   "start_time": "2023-03-15T03:58:17.339640",
   "version": "2.4.0"
  }
 },
 "nbformat": 4,
 "nbformat_minor": 5
}
