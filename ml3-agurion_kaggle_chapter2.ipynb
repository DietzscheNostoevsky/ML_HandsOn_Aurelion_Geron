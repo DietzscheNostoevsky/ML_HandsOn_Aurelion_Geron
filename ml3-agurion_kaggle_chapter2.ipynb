{
 "cells": [
  {
   "attachments": {},
   "cell_type": "markdown",
   "id": "07e3295f",
   "metadata": {
    "_cell_guid": "b1076dfc-b9ad-4769-8c92-a6c4dae69d19",
    "_uuid": "8f2839f25d086af736a60e9eeb907d3b93b6e0e5",
    "papermill": {
     "duration": 0.002896,
     "end_time": "2023-03-15T03:58:28.340296",
     "exception": false,
     "start_time": "2023-03-15T03:58:28.337400",
     "status": "completed"
    },
    "tags": []
   },
   "source": [
    "# End to End Machine learning project "
   ]
  },
  {
   "attachments": {},
   "cell_type": "markdown",
   "id": "6efd4bba",
   "metadata": {
    "papermill": {
     "duration": 0.001526,
     "end_time": "2023-03-15T03:58:28.343997",
     "exception": false,
     "start_time": "2023-03-15T03:58:28.342471",
     "status": "completed"
    },
    "tags": []
   },
   "source": [
    "#### Data used : \n",
    "California Housing Prices dataset from the StatLib repository"
   ]
  },
  {
   "attachments": {},
   "cell_type": "markdown",
   "id": "c50a4131",
   "metadata": {
    "papermill": {
     "duration": 0.001403,
     "end_time": "2023-03-15T03:58:28.350205",
     "exception": false,
     "start_time": "2023-03-15T03:58:28.348802",
     "status": "completed"
    },
    "tags": []
   },
   "source": [
    "# Project Checklist \n",
    "\n",
    "- [x] Frame the problem and look at the bigger picture\n",
    "- [x] Get the Data\n",
    "- [ ] Explore the Data to gain insights \n",
    "- [ ] Prepare the data to better expose the underlying data pattersn to ML algos\n",
    "- [ ] Explore many different models and shortlist the best ones \n",
    "- [ ] Fine tune the model and combine them into a solution\n",
    "- [ ] Present the solution\n",
    "- [ ] Launch, monitor and maintain the system\n",
    "  "
   ]
  },
  {
   "attachments": {},
   "cell_type": "markdown",
   "id": "aea68eb1",
   "metadata": {
    "papermill": {
     "duration": 0.00142,
     "end_time": "2023-03-15T03:58:28.347147",
     "exception": false,
     "start_time": "2023-03-15T03:58:28.345727",
     "status": "completed"
    },
    "tags": []
   },
   "source": [
    "# Problem statement : \n",
    "\n",
    "Welcome to the Machine Learning Housing Corporation! Your first task is to use California census data to build a model of housing prices in the state. This data includes metrics such as the population, median income, and median housing price for each block group in California. Block groups are the smallest geographical unit for which the US Census Bureau publishes sample data (a block group typically has a population of 600 to 3,000 people). I will call them “districts” for short.\n",
    "Your model should learn from this data and be able to predict the median housing price in any district, given all the other metrics."
   ]
  },
  {
   "attachments": {},
   "cell_type": "markdown",
   "id": "62e6c2f5",
   "metadata": {},
   "source": [
    "# Getting the Data\n"
   ]
  },
  {
   "attachments": {},
   "cell_type": "markdown",
   "id": "8ad124d0",
   "metadata": {},
   "source": [
    "Rather than manually downloading and decompressing the data, it’s usually preferable to write a function that does it for you. \n",
    "This is useful in particular if the data changes regularly: \n",
    "\n",
    "    - You can write a small script that uses the function to fetch the latest data (or you can set up a scheduled job to do that automatically at regular intervals). \n",
    "    \n",
    "    - Automating the process of fetching the data is also useful if you need to install the dataset on multiple machines."
   ]
  },
  {
   "cell_type": "code",
   "execution_count": 1,
   "id": "fa98f631",
   "metadata": {},
   "outputs": [],
   "source": [
    "# Setting up the libraries \n",
    "\n",
    "# checking python version\n",
    "import sys\n",
    "assert sys.version_info >= (3, 7)\n",
    "\n",
    "#checking scikit-learn version\n",
    "from packaging import version\n",
    "import sklearn\n",
    "assert version.parse(sklearn.__version__) >= version.parse(\"1.0.1\")\n",
    "\n",
    "from pathlib import Path\n",
    "import pandas as pd\n",
    "import tarfile\n",
    "import urllib.request"
   ]
  },
  {
   "cell_type": "code",
   "execution_count": 3,
   "id": "d4af8b03",
   "metadata": {},
   "outputs": [],
   "source": [
    "# script to get and load the data \n",
    "def load_housing_data():\n",
    "    tarball_path = Path(\"datasets/housing.tgz\")\n",
    "    if not tarball_path.is_file():\n",
    "        Path(\"datasets\").mkdir(parents=True, exist_ok=True)\n",
    "        url = \"https://github.com/ageron/data/raw/main/housing.tgz\"\n",
    "        urllib.request.urlretrieve(url, tarball_path)\n",
    "        with tarfile.open(tarball_path) as housing_tarball:\n",
    "            housing_tarball.extractall(path=\"datasets\")\n",
    "    return pd.read_csv(Path(\"datasets/housing/housing.csv\"))\n",
    "\n",
    "\n",
    "housing = load_housing_data()\n"
   ]
  }
 ],
 "metadata": {
  "kernelspec": {
   "display_name": "Python 3",
   "language": "python",
   "name": "python3"
  },
  "language_info": {
   "codemirror_mode": {
    "name": "ipython",
    "version": 3
   },
   "file_extension": ".py",
   "mimetype": "text/x-python",
   "name": "python",
   "nbconvert_exporter": "python",
   "pygments_lexer": "ipython3",
   "version": "3.9.6"
  },
  "papermill": {
   "default_parameters": {},
   "duration": 11.737533,
   "end_time": "2023-03-15T03:58:29.077173",
   "environment_variables": {},
   "exception": null,
   "input_path": "__notebook__.ipynb",
   "output_path": "__notebook__.ipynb",
   "parameters": {},
   "start_time": "2023-03-15T03:58:17.339640",
   "version": "2.4.0"
  }
 },
 "nbformat": 4,
 "nbformat_minor": 5
}
